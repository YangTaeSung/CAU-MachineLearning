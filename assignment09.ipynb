{
  "nbformat": 4,
  "nbformat_minor": 0,
  "metadata": {
    "colab": {
      "name": "assignment09.ipynb",
      "provenance": [],
      "collapsed_sections": [],
      "authorship_tag": "ABX9TyP9TlAFAbc+8oBjiFalq9/2",
      "include_colab_link": true
    },
    "kernelspec": {
      "name": "python3",
      "display_name": "Python 3"
    }
  },
  "cells": [
    {
      "cell_type": "markdown",
      "metadata": {
        "id": "view-in-github",
        "colab_type": "text"
      },
      "source": [
        "<a href=\"https://colab.research.google.com/github/YangTaeSung/CAU-MachineLearning/blob/master/assignment09.ipynb\" target=\"_parent\"><img src=\"https://colab.research.google.com/assets/colab-badge.svg\" alt=\"Open In Colab\"/></a>"
      ]
    },
    {
      "cell_type": "code",
      "metadata": {
        "id": "xH3rzXYQ-0Bm",
        "colab_type": "code",
        "outputId": "94da9cca-572a-4c9a-a990-9537b3d88baf",
        "colab": {
          "base_uri": "https://localhost:8080/",
          "height": 54
        }
      },
      "source": [
        "import matplotlib.pyplot as plt\n",
        "import numpy as np\n",
        "\n",
        "file_data   = \"mnist.csv\"\n",
        "handle_file = open(file_data, \"r\")\n",
        "data        = handle_file.readlines()\n",
        "handle_file.close()\n",
        "\n",
        "size_row    = 28    # height of the image\n",
        "size_col    = 28    # width of the image\n",
        "\n",
        "num_image   = len(data)\n",
        "count       = 0     # count for the number of images\n",
        "\n",
        "#\n",
        "# normalize the values of the input data to be [0, 1]\n",
        "#\n",
        "def normalize(data):\n",
        "\n",
        "    data_normalized = (data - min(data)) / (max(data) - min(data))\n",
        "\n",
        "    return(data_normalized)\n",
        "\n",
        "#\n",
        "# example of distance function between two vectors x and y\n",
        "#\n",
        "def distance(x, y):\n",
        "\n",
        "    d = (x - y) ** 2\n",
        "    s = np.sum(d)\n",
        "    # r = np.sqrt(s)\n",
        "\n",
        "    return(s)\n",
        "\n",
        "def sigmoid(z):\n",
        "    return 1 / (1 + np.exp(-z))\n",
        "\n",
        "#\n",
        "# make a matrix each column of which represents an images in a vector form\n",
        "#\n",
        "list_image  = np.empty((size_row * size_col, num_image), dtype=float)\n",
        "list_label  = np.empty(num_image, dtype=int)\n",
        "\n",
        "for line in data:\n",
        "\n",
        "    line_data   = line.split(',')\n",
        "    label       = line_data[0]\n",
        "    im_vector   = np.asfarray(line_data[1:])\n",
        "    im_vector   = normalize(im_vector)\n",
        "\n",
        "    list_label[count]       = label\n",
        "    list_image[:, count]    = im_vector\n",
        "\n",
        "    count += 1\n",
        "\n",
        "'''\n",
        "\n",
        "#\n",
        "# plot first 150 images out of 10,000 with their labels\n",
        "#\n",
        "f1 = plt.figure(1)\n",
        "\n",
        "for i in range(150):\n",
        "\n",
        "    label       = list_label[i]\n",
        "    im_vector   = list_image[:, i]\n",
        "    im_matrix   = im_vector.reshape((size_row, size_col))\n",
        "\n",
        "    plt.subplot(10, 15, i+1)\n",
        "    plt.title(label)\n",
        "    plt.imshow(im_matrix, cmap='Greys', interpolation='None')\n",
        "\n",
        "    frame   = plt.gca()\n",
        "    frame.axes.get_xaxis().set_visible(False)\n",
        "    frame.axes.get_yaxis().set_visible(False)\n",
        "\n",
        "\n",
        "#plt.show()\n",
        "\n",
        "#\n",
        "# plot the average image of all the images for each digit\n",
        "#\n",
        "f2 = plt.figure(2)\n",
        "\n",
        "im_average  = np.zeros((size_row * size_col, 10), dtype=float)\n",
        "im_count    = np.zeros(10, dtype=int)\n",
        "\n",
        "for i in range(num_image):\n",
        "\n",
        "    im_average[:, list_label[i]] += list_image[:, i]\n",
        "    im_count[list_label[i]] += 1\n",
        "\n",
        "for i in range(10):\n",
        "\n",
        "    im_average[:, i] /= im_count[i]\n",
        "\n",
        "    plt.subplot(2, 5, i+1)\n",
        "    plt.title(i)\n",
        "    plt.imshow(im_average[:,i].reshape((size_row, size_col)), cmap='Greys', interpolation='None')\n",
        "\n",
        "    frame   = plt.gca()\n",
        "    frame.axes.get_xaxis().set_visible(False)\n",
        "    frame.axes.get_yaxis().set_visible(False)\n",
        "\n",
        "plt.show()\n",
        "'''"
      ],
      "execution_count": 10,
      "outputs": [
        {
          "output_type": "execute_result",
          "data": {
            "text/plain": [
              "\"\\n\\n#\\n# plot first 150 images out of 10,000 with their labels\\n#\\nf1 = plt.figure(1)\\n\\nfor i in range(150):\\n\\n    label       = list_label[i]\\n    im_vector   = list_image[:, i]\\n    im_matrix   = im_vector.reshape((size_row, size_col))\\n\\n    plt.subplot(10, 15, i+1)\\n    plt.title(label)\\n    plt.imshow(im_matrix, cmap='Greys', interpolation='None')\\n\\n    frame   = plt.gca()\\n    frame.axes.get_xaxis().set_visible(False)\\n    frame.axes.get_yaxis().set_visible(False)\\n\\n\\n#plt.show()\\n\\n#\\n# plot the average image of all the images for each digit\\n#\\nf2 = plt.figure(2)\\n\\nim_average  = np.zeros((size_row * size_col, 10), dtype=float)\\nim_count    = np.zeros(10, dtype=int)\\n\\nfor i in range(num_image):\\n\\n    im_average[:, list_label[i]] += list_image[:, i]\\n    im_count[list_label[i]] += 1\\n\\nfor i in range(10):\\n\\n    im_average[:, i] /= im_count[i]\\n\\n    plt.subplot(2, 5, i+1)\\n    plt.title(i)\\n    plt.imshow(im_average[:,i].reshape((size_row, size_col)), cmap='Greys', interpolation='None')\\n\\n    frame   = plt.gca()\\n    frame.axes.get_xaxis().set_visible(False)\\n    frame.axes.get_yaxis().set_visible(False)\\n\\nplt.show()\\n\""
            ]
          },
          "metadata": {
            "tags": []
          },
          "execution_count": 10
        }
      ]
    },
    {
      "cell_type": "code",
      "metadata": {
        "id": "8UPXHCg82OVL",
        "colab_type": "code",
        "colab": {
          "base_uri": "https://localhost:8080/",
          "height": 71
        },
        "outputId": "28471d93-38ea-4cd2-c1aa-f871453e40d0"
      },
      "source": [
        "# list_image : 정규화 된 전체 데이터\n",
        "'''\n",
        "list_image  = np.empty((size_row * size_col, num_image), dtype=float)\n",
        "list_label  = np.empty(num_image, dtype=int)\n",
        "'''\n",
        "\n",
        "hidden1_dim = 196\n",
        "hidden2_dim = 49\n",
        "output_dim = 10\n",
        "\n",
        "# 파라미터 초기화\n",
        "weight_u = np.ones((size_row * size_col, hidden1_dim), dtype=float)\n",
        "weight_v = np.ones((hidden1_dim, hidden2_dim), dtype=float)\n",
        "weight_w = np.ones((hidden2_dim, output_dim), dtype=float)\n",
        "\n",
        "hidden_layer1 = np.empty((hidden1_dim), dtype=float)\n",
        "hidden_layer2 = np.empty((hidden2_dim), dtype=float)\n",
        "output_layer = np.empty((output_dim), dtype=float)\n",
        "\n",
        "# for i in range(num_image):\n",
        "hidden_layer1 = np.dot(list_image[:,0], weight_u)\n",
        "hidden_layer1 = sigmoid(hidden_layer1)\n",
        "hidden_layer2 = np.dot(hidden_layer1, weight_v)\n",
        "hidden_layer2 = sigmoid(hidden_layer2)\n",
        "output_layer = np.dot(hidden_layer2, weight_w)\n",
        "output_layer = sigmoid(output_layer)\n",
        "\n",
        "print(output_layer)\n",
        "\n",
        "# 이렇게 하면 inputlayer가 196으로 나와 나머지 쭉쭉해서 10000번 돌리면 각각의 데이터(10000개 중에)에 대한 10개의 아웃풋들이 정해짐, hidden레이어도 배열 만들어야해\n",
        "'''\n",
        "    line_data   = line.split(',')\n",
        "    label       = line_data[0]\n",
        "    hidden_u   = line_data[1:]\n",
        "    im_vector   = normalize(im_vector)\n",
        "\n",
        "    list_label[count]       = label\n",
        "    list_image[:, count]    = im_vector\n",
        "\n",
        "    count += 1\n",
        "'''"
      ],
      "execution_count": 11,
      "outputs": [
        {
          "output_type": "stream",
          "text": [
            "[1. 1. 1. 1. 1. 1. 1. 1. 1. 1.]\n"
          ],
          "name": "stdout"
        },
        {
          "output_type": "execute_result",
          "data": {
            "text/plain": [
              "\"\\n    line_data   = line.split(',')\\n    label       = line_data[0]\\n    hidden_u   = line_data[1:]\\n    im_vector   = normalize(im_vector)\\n\\n    list_label[count]       = label\\n    list_image[:, count]    = im_vector\\n\\n    count += 1\\n\""
            ]
          },
          "metadata": {
            "tags": []
          },
          "execution_count": 11
        }
      ]
    }
  ]
}