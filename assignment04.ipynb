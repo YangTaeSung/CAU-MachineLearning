{
  "nbformat": 4,
  "nbformat_minor": 0,
  "metadata": {
    "colab": {
      "name": "assignment04.ipynb",
      "provenance": [],
      "collapsed_sections": [],
      "authorship_tag": "ABX9TyOsi3tqSELsKZ0qIkCS3zcs",
      "include_colab_link": true
    },
    "kernelspec": {
      "name": "python3",
      "display_name": "Python 3"
    }
  },
  "cells": [
    {
      "cell_type": "markdown",
      "metadata": {
        "id": "view-in-github",
        "colab_type": "text"
      },
      "source": [
        "<a href=\"https://colab.research.google.com/github/YangTaeSung/CAU-MachineLearning/blob/master/assignment04.ipynb\" target=\"_parent\"><img src=\"https://colab.research.google.com/assets/colab-badge.svg\" alt=\"Open In Colab\"/></a>"
      ]
    },
    {
      "cell_type": "code",
      "metadata": {
        "id": "19Z8KzziW_cy",
        "colab_type": "code",
        "colab": {}
      },
      "source": [
        "from sklearn import linear_model\n",
        "import numpy as np\n",
        "import pandas as pd\n",
        "import matplotlib\n",
        "import matplotlib.pyplot as plt\n",
        "%matplotlib inline\n",
        "matplotlib.style.use('ggplot')"
      ],
      "execution_count": 0,
      "outputs": []
    },
    {
      "cell_type": "code",
      "metadata": {
        "id": "xYaTECVqGuq0",
        "colab_type": "code",
        "outputId": "729cfc00-5bf6-4091-deb6-22dddd1f2e84",
        "colab": {
          "base_uri": "https://localhost:8080/",
          "height": 204
        }
      },
      "source": [
        "import pandas as pd\n",
        "df = pd.read_csv(\"data_train.csv\", names = ['A', 'B', 'C', 'D'])\n",
        "df.head()"
      ],
      "execution_count": 292,
      "outputs": [
        {
          "output_type": "execute_result",
          "data": {
            "text/html": [
              "<div>\n",
              "<style scoped>\n",
              "    .dataframe tbody tr th:only-of-type {\n",
              "        vertical-align: middle;\n",
              "    }\n",
              "\n",
              "    .dataframe tbody tr th {\n",
              "        vertical-align: top;\n",
              "    }\n",
              "\n",
              "    .dataframe thead th {\n",
              "        text-align: right;\n",
              "    }\n",
              "</style>\n",
              "<table border=\"1\" class=\"dataframe\">\n",
              "  <thead>\n",
              "    <tr style=\"text-align: right;\">\n",
              "      <th></th>\n",
              "      <th>A</th>\n",
              "      <th>B</th>\n",
              "      <th>C</th>\n",
              "      <th>D</th>\n",
              "    </tr>\n",
              "  </thead>\n",
              "  <tbody>\n",
              "    <tr>\n",
              "      <th>0</th>\n",
              "      <td>0.273548</td>\n",
              "      <td>-8.932102</td>\n",
              "      <td>18.708684</td>\n",
              "      <td>73.578825</td>\n",
              "    </tr>\n",
              "    <tr>\n",
              "      <th>1</th>\n",
              "      <td>5.403327</td>\n",
              "      <td>4.782977</td>\n",
              "      <td>-18.762210</td>\n",
              "      <td>-56.410433</td>\n",
              "    </tr>\n",
              "    <tr>\n",
              "      <th>2</th>\n",
              "      <td>0.029941</td>\n",
              "      <td>-3.245916</td>\n",
              "      <td>6.932498</td>\n",
              "      <td>52.390768</td>\n",
              "    </tr>\n",
              "    <tr>\n",
              "      <th>3</th>\n",
              "      <td>3.047974</td>\n",
              "      <td>0.715211</td>\n",
              "      <td>-1.965419</td>\n",
              "      <td>-6.936295</td>\n",
              "    </tr>\n",
              "    <tr>\n",
              "      <th>4</th>\n",
              "      <td>1.302074</td>\n",
              "      <td>-5.871807</td>\n",
              "      <td>-15.702181</td>\n",
              "      <td>-34.997017</td>\n",
              "    </tr>\n",
              "  </tbody>\n",
              "</table>\n",
              "</div>"
            ],
            "text/plain": [
              "          A         B          C          D\n",
              "0  0.273548 -8.932102  18.708684  73.578825\n",
              "1  5.403327  4.782977 -18.762210 -56.410433\n",
              "2  0.029941 -3.245916   6.932498  52.390768\n",
              "3  3.047974  0.715211  -1.965419  -6.936295\n",
              "4  1.302074 -5.871807 -15.702181 -34.997017"
            ]
          },
          "metadata": {
            "tags": []
          },
          "execution_count": 292
        }
      ]
    },
    {
      "cell_type": "markdown",
      "metadata": {
        "id": "6QlBW5bNGwqv",
        "colab_type": "text"
      },
      "source": [
        "* Training data reading"
      ]
    },
    {
      "cell_type": "code",
      "metadata": {
        "colab_type": "code",
        "id": "BdXlSToJ57e1",
        "colab": {}
      },
      "source": [
        "X = df[['A','B','C']]\n",
        "h = df['D']\n",
        "\n",
        "from sklearn.preprocessing import MinMaxScaler\n",
        "transformer = MinMaxScaler()\n",
        "transformer.fit(X)\n",
        "X = transformer.transform(X)\n",
        "\n",
        "from sklearn.preprocessing import StandardScaler\n",
        "sc = StandardScaler()\n",
        "X = sc.fit_transform(X)\n",
        "\n",
        "x = X[:, 0] \n",
        "y = X[:, 1]\n",
        "z = X[:, 2]"
      ],
      "execution_count": 0,
      "outputs": []
    },
    {
      "cell_type": "markdown",
      "metadata": {
        "id": "eQV4vFV-G9jw",
        "colab_type": "text"
      },
      "source": [
        "* Feature scaling & Distributing value to array to Training data"
      ]
    },
    {
      "cell_type": "code",
      "metadata": {
        "id": "VnWeufPLDXCZ",
        "colab_type": "code",
        "colab": {
          "base_uri": "https://localhost:8080/",
          "height": 204
        },
        "outputId": "1bba39e8-3e72-4306-cc39-bd8dcdeeb7ac"
      },
      "source": [
        "df2 = pd.read_csv(\"data_test.csv\", names = ['A', 'B', 'C', 'D'])\n",
        "df2.head()"
      ],
      "execution_count": 294,
      "outputs": [
        {
          "output_type": "execute_result",
          "data": {
            "text/html": [
              "<div>\n",
              "<style scoped>\n",
              "    .dataframe tbody tr th:only-of-type {\n",
              "        vertical-align: middle;\n",
              "    }\n",
              "\n",
              "    .dataframe tbody tr th {\n",
              "        vertical-align: top;\n",
              "    }\n",
              "\n",
              "    .dataframe thead th {\n",
              "        text-align: right;\n",
              "    }\n",
              "</style>\n",
              "<table border=\"1\" class=\"dataframe\">\n",
              "  <thead>\n",
              "    <tr style=\"text-align: right;\">\n",
              "      <th></th>\n",
              "      <th>A</th>\n",
              "      <th>B</th>\n",
              "      <th>C</th>\n",
              "      <th>D</th>\n",
              "    </tr>\n",
              "  </thead>\n",
              "  <tbody>\n",
              "    <tr>\n",
              "      <th>0</th>\n",
              "      <td>-1.788894</td>\n",
              "      <td>-2.717927</td>\n",
              "      <td>-4.425695</td>\n",
              "      <td>-14.055818</td>\n",
              "    </tr>\n",
              "    <tr>\n",
              "      <th>1</th>\n",
              "      <td>2.958174</td>\n",
              "      <td>4.515505</td>\n",
              "      <td>6.644435</td>\n",
              "      <td>20.504905</td>\n",
              "    </tr>\n",
              "    <tr>\n",
              "      <th>2</th>\n",
              "      <td>-0.569490</td>\n",
              "      <td>10.096246</td>\n",
              "      <td>-13.270292</td>\n",
              "      <td>-73.843148</td>\n",
              "    </tr>\n",
              "    <tr>\n",
              "      <th>3</th>\n",
              "      <td>4.279318</td>\n",
              "      <td>2.747878</td>\n",
              "      <td>-5.857125</td>\n",
              "      <td>-24.644937</td>\n",
              "    </tr>\n",
              "    <tr>\n",
              "      <th>4</th>\n",
              "      <td>0.125975</td>\n",
              "      <td>-4.349421</td>\n",
              "      <td>5.777460</td>\n",
              "      <td>31.934657</td>\n",
              "    </tr>\n",
              "  </tbody>\n",
              "</table>\n",
              "</div>"
            ],
            "text/plain": [
              "          A          B          C          D\n",
              "0 -1.788894  -2.717927  -4.425695 -14.055818\n",
              "1  2.958174   4.515505   6.644435  20.504905\n",
              "2 -0.569490  10.096246 -13.270292 -73.843148\n",
              "3  4.279318   2.747878  -5.857125 -24.644937\n",
              "4  0.125975  -4.349421   5.777460  31.934657"
            ]
          },
          "metadata": {
            "tags": []
          },
          "execution_count": 294
        }
      ]
    },
    {
      "cell_type": "markdown",
      "metadata": {
        "id": "VqkNEeFpIibe",
        "colab_type": "text"
      },
      "source": [
        "* Testing data reading"
      ]
    },
    {
      "cell_type": "code",
      "metadata": {
        "id": "H1-5jSTPIn9H",
        "colab_type": "code",
        "colab": {}
      },
      "source": [
        "XTesting = df2[['A','B','C']]\n",
        "hTesting = df2['D']\n",
        "\n",
        "from sklearn.preprocessing import MinMaxScaler\n",
        "transformer = MinMaxScaler()\n",
        "transformer.fit(XTesting)\n",
        "XTesting = transformer.transform(XTesting)\n",
        "\n",
        "from sklearn.preprocessing import StandardScaler\n",
        "sc = StandardScaler()\n",
        "XTesting = sc.fit_transform(XTesting)\n",
        "\n",
        "xTesting = XTesting[:, 0] \n",
        "yTesting = XTesting[:, 1]\n",
        "zTesting = XTesting[:, 2]"
      ],
      "execution_count": 0,
      "outputs": []
    },
    {
      "cell_type": "markdown",
      "metadata": {
        "id": "vnyeQGsUIahx",
        "colab_type": "text"
      },
      "source": [
        "* Feature scaling & Distributing value to array to Testing data"
      ]
    },
    {
      "cell_type": "code",
      "metadata": {
        "id": "u5ivdXnIoXdw",
        "colab_type": "code",
        "colab": {}
      },
      "source": [
        "thetaZero = 0.0\n",
        "thetaOne = 0.0\n",
        "thetaTwo = 0.0\n",
        "thetaThree = 0.0\n",
        "\n",
        "cycle = 4000\n",
        "learningLate = 1.1"
      ],
      "execution_count": 0,
      "outputs": []
    },
    {
      "cell_type": "markdown",
      "metadata": {
        "id": "szkFpeRNobWW",
        "colab_type": "text"
      },
      "source": [
        "* 세타값 초기화(learning 시작점)\n",
        "* Optimization cycle과 learning late 설정"
      ]
    },
    {
      "cell_type": "code",
      "metadata": {
        "id": "Br3gXLt4oYKG",
        "colab_type": "code",
        "colab": {
          "base_uri": "https://localhost:8080/",
          "height": 34
        },
        "outputId": "fb4e2ff7-97f0-4733-f9b6-e43efcc92fd5"
      },
      "source": [
        "iForGraph = []\n",
        "jForGraph = []\n",
        "jTestingForGraph = []\n",
        "newThetaOne = []\n",
        "newThetaZero = []\n",
        "newThetaTwo = []\n",
        "newThetaThree = []\n",
        "\n",
        "noiseNum = len(x)\n",
        "print(noiseNum)"
      ],
      "execution_count": 297,
      "outputs": [
        {
          "output_type": "stream",
          "text": [
            "300\n"
          ],
          "name": "stdout"
        }
      ]
    },
    {
      "cell_type": "markdown",
      "metadata": {
        "id": "csdNHCFwofbC",
        "colab_type": "text"
      },
      "source": [
        "* Plotting을 위한 각종 데이터 저장 변수 정의"
      ]
    },
    {
      "cell_type": "code",
      "metadata": {
        "id": "JMbAbx7YonYz",
        "colab_type": "code",
        "outputId": "3bb2f26f-ca1c-4f86-82d7-fd9bdcb5adc1",
        "colab": {
          "base_uri": "https://localhost:8080/",
          "height": 717
        }
      },
      "source": [
        "for i in range(cycle):\n",
        "\n",
        "  f = thetaZero + thetaOne * x + thetaTwo * y + thetaThree * z\n",
        "  fTesting = thetaZero + thetaOne * xTesting + thetaTwo * yTesting + thetaThree * zTesting\n",
        "  j = np.sum((f - h) ** 2) / (2 * noiseNum)\n",
        "  jTesting = np.sum((fTesting - hTesting) ** 2) / (2 * noiseNum)\n",
        "\n",
        "  thetaZero = thetaZero - learningLate / noiseNum * np.sum((thetaOne*x + thetaTwo*y + thetaThree*z - h + thetaZero))\n",
        "  thetaOne = thetaOne - learningLate / noiseNum * np.sum((thetaOne*x + thetaTwo*y + thetaThree*z - h + thetaZero)*x)\n",
        "  thetaTwo = thetaTwo - learningLate / noiseNum * np.sum((thetaOne*x + thetaTwo*y + thetaThree*z - h + thetaZero)*y)\n",
        "  thetaThree = thetaThree - learningLate / noiseNum * np.sum((thetaOne*x + thetaTwo*y + thetaThree*z - h + thetaZero)*z)\n",
        "  \n",
        "  jTestingForGraph.append(jTesting)\n",
        "  iForGraph.append(i)\n",
        "  jForGraph.append(j)\n",
        "  \n",
        "  newThetaZero.append(thetaZero)\n",
        "  newThetaOne.append(thetaOne)\n",
        "  newThetaTwo.append(thetaTwo)\n",
        "  newThetaThree.append(thetaThree)\n",
        "  \n",
        "  if i % 100 == 0:\n",
        "        print('cycle : {:10d} cost: {:10f} thetaZero: {:10f} thetaOne: {:10f} thetaTwo: {:10f} thetaThree: {:10f}'.format(i, j, thetaZero, thetaOne, thetaTwo, thetaThree))\n",
        "\n",
        "finalY = thetaZero + thetaOne * x + thetaTwo * y + thetaThree * z"
      ],
      "execution_count": 298,
      "outputs": [
        {
          "output_type": "stream",
          "text": [
            "cycle :          0 cost: 135990.528423 thetaZero: 495.376232 thetaOne: 284.767898 thetaTwo: -28.705472 thetaThree:   9.069348\n",
            "cycle :        100 cost: 141.023675 thetaZero: 450.342029 thetaOne:   0.541998 thetaTwo: -47.284199 thetaThree: 308.629032\n",
            "cycle :        200 cost: 115.070616 thetaZero: 450.342029 thetaOne:  -1.780748 thetaTwo: -94.555351 thetaThree: 357.669265\n",
            "cycle :        300 cost: 107.461283 thetaZero: 450.342029 thetaOne:  27.624500 thetaTwo: -125.081618 thetaThree: 358.733716\n",
            "cycle :        400 cost: 104.502971 thetaZero: 450.342029 thetaOne:  48.131212 thetaTwo: -140.944769 thetaThree: 354.111654\n",
            "cycle :        500 cost: 103.692291 thetaZero: 450.342029 thetaOne:  59.044288 thetaTwo: -148.537145 thetaThree: 350.811938\n",
            "cycle :        600 cost: 103.504306 thetaZero: 450.342029 thetaOne:  64.321404 thetaTwo: -152.034185 thetaThree: 349.043967\n",
            "cycle :        700 cost: 103.464133 thetaZero: 450.342029 thetaOne:  66.764343 thetaTwo: -153.613705 thetaThree: 348.186595\n",
            "cycle :        800 cost: 103.455903 thetaZero: 450.342029 thetaOne:  67.870671 thetaTwo: -154.319733 thetaThree: 347.789137\n",
            "cycle :        900 cost: 103.454255 thetaZero: 450.342029 thetaOne:  68.365892 thetaTwo: -154.633530 thetaThree: 347.609010\n",
            "cycle :       1000 cost: 103.453929 thetaZero: 450.342029 thetaOne:  68.586168 thetaTwo: -154.772561 thetaThree: 347.528349\n",
            "cycle :       1100 cost: 103.453865 thetaZero: 450.342029 thetaOne:  68.683806 thetaTwo: -154.834053 thetaThree: 347.492464\n",
            "cycle :       1200 cost: 103.453853 thetaZero: 450.342029 thetaOne:  68.727000 thetaTwo: -154.861224 thetaThree: 347.476555\n",
            "cycle :       1300 cost: 103.453850 thetaZero: 450.342029 thetaOne:  68.746089 thetaTwo: -154.873223 thetaThree: 347.469517\n",
            "cycle :       1400 cost: 103.453850 thetaZero: 450.342029 thetaOne:  68.754519 thetaTwo: -154.878521 thetaThree: 347.466406\n",
            "cycle :       1500 cost: 103.453849 thetaZero: 450.342029 thetaOne:  68.758242 thetaTwo: -154.880859 thetaThree: 347.465033\n",
            "cycle :       1600 cost: 103.453849 thetaZero: 450.342029 thetaOne:  68.759885 thetaTwo: -154.881891 thetaThree: 347.464426\n",
            "cycle :       1700 cost: 103.453849 thetaZero: 450.342029 thetaOne:  68.760610 thetaTwo: -154.882347 thetaThree: 347.464158\n",
            "cycle :       1800 cost: 103.453849 thetaZero: 450.342029 thetaOne:  68.760930 thetaTwo: -154.882548 thetaThree: 347.464040\n",
            "cycle :       1900 cost: 103.453849 thetaZero: 450.342029 thetaOne:  68.761071 thetaTwo: -154.882637 thetaThree: 347.463988\n",
            "cycle :       2000 cost: 103.453849 thetaZero: 450.342029 thetaOne:  68.761133 thetaTwo: -154.882676 thetaThree: 347.463965\n",
            "cycle :       2100 cost: 103.453849 thetaZero: 450.342029 thetaOne:  68.761161 thetaTwo: -154.882693 thetaThree: 347.463955\n",
            "cycle :       2200 cost: 103.453849 thetaZero: 450.342029 thetaOne:  68.761173 thetaTwo: -154.882701 thetaThree: 347.463950\n",
            "cycle :       2300 cost: 103.453849 thetaZero: 450.342029 thetaOne:  68.761178 thetaTwo: -154.882704 thetaThree: 347.463948\n",
            "cycle :       2400 cost: 103.453849 thetaZero: 450.342029 thetaOne:  68.761181 thetaTwo: -154.882705 thetaThree: 347.463947\n",
            "cycle :       2500 cost: 103.453849 thetaZero: 450.342029 thetaOne:  68.761182 thetaTwo: -154.882706 thetaThree: 347.463947\n",
            "cycle :       2600 cost: 103.453849 thetaZero: 450.342029 thetaOne:  68.761182 thetaTwo: -154.882706 thetaThree: 347.463947\n",
            "cycle :       2700 cost: 103.453849 thetaZero: 450.342029 thetaOne:  68.761182 thetaTwo: -154.882706 thetaThree: 347.463947\n",
            "cycle :       2800 cost: 103.453849 thetaZero: 450.342029 thetaOne:  68.761183 thetaTwo: -154.882707 thetaThree: 347.463947\n",
            "cycle :       2900 cost: 103.453849 thetaZero: 450.342029 thetaOne:  68.761183 thetaTwo: -154.882707 thetaThree: 347.463947\n",
            "cycle :       3000 cost: 103.453849 thetaZero: 450.342029 thetaOne:  68.761183 thetaTwo: -154.882707 thetaThree: 347.463947\n",
            "cycle :       3100 cost: 103.453849 thetaZero: 450.342029 thetaOne:  68.761183 thetaTwo: -154.882707 thetaThree: 347.463947\n",
            "cycle :       3200 cost: 103.453849 thetaZero: 450.342029 thetaOne:  68.761183 thetaTwo: -154.882707 thetaThree: 347.463947\n",
            "cycle :       3300 cost: 103.453849 thetaZero: 450.342029 thetaOne:  68.761183 thetaTwo: -154.882707 thetaThree: 347.463947\n",
            "cycle :       3400 cost: 103.453849 thetaZero: 450.342029 thetaOne:  68.761183 thetaTwo: -154.882707 thetaThree: 347.463947\n",
            "cycle :       3500 cost: 103.453849 thetaZero: 450.342029 thetaOne:  68.761183 thetaTwo: -154.882707 thetaThree: 347.463947\n",
            "cycle :       3600 cost: 103.453849 thetaZero: 450.342029 thetaOne:  68.761183 thetaTwo: -154.882707 thetaThree: 347.463947\n",
            "cycle :       3700 cost: 103.453849 thetaZero: 450.342029 thetaOne:  68.761183 thetaTwo: -154.882707 thetaThree: 347.463947\n",
            "cycle :       3800 cost: 103.453849 thetaZero: 450.342029 thetaOne:  68.761183 thetaTwo: -154.882707 thetaThree: 347.463947\n",
            "cycle :       3900 cost: 103.453849 thetaZero: 450.342029 thetaOne:  68.761183 thetaTwo: -154.882707 thetaThree: 347.463947\n"
          ],
          "name": "stdout"
        }
      ]
    },
    {
      "cell_type": "markdown",
      "metadata": {
        "id": "l1BD_tb9uc9E",
        "colab_type": "text"
      },
      "source": [
        "* Gradient descent algorithm(multiple linear regression)\n",
        "* list.append 함수를 사용하여 optimization 단계마다 각각의 값 저장\n",
        "* 100cycle 주기로 출력\n",
        "* Optimal한 linear함수 finalY 정의"
      ]
    },
    {
      "cell_type": "code",
      "metadata": {
        "id": "-iTFEbPIS955",
        "colab_type": "code",
        "colab": {
          "base_uri": "https://localhost:8080/",
          "height": 517
        },
        "outputId": "c0037cec-d288-484b-f4f0-1f6b828df3c1"
      },
      "source": [
        "plt.figure(figsize=(8, 8)) # 그래프 사이즈 조절\n",
        "plt.title('Linear function')\n",
        "plt.xlabel('CYCLE')\n",
        "plt.ylabel('Theta')\n",
        "plt.plot(iForGraph, newThetaZero, c = 'black', alpha = 0.5)\n",
        "plt.plot(iForGraph, newThetaOne, c = 'red', alpha = 0.5)\n",
        "plt.plot(iForGraph, newThetaTwo, c = 'green', alpha = 0.5)\n",
        "plt.plot(iForGraph, newThetaThree, c = 'blue', alpha = 0.5)\n",
        "plt.show()"
      ],
      "execution_count": 299,
      "outputs": [
        {
          "output_type": "display_data",
          "data": {
            "image/png": "[encoded data removed]",
            "text/plain": [
              "<Figure size 576x576 with 1 Axes>"
            ]
          },
          "metadata": {
            "tags": []
          }
        }
      ]
    },
    {
      "cell_type": "code",
      "metadata": {
        "id": "mv6BB5stBJZH",
        "colab_type": "code",
        "colab": {
          "base_uri": "https://localhost:8080/",
          "height": 517
        },
        "outputId": "5ab9ccba-ca7c-49b3-cfc8-edab9369a3d5"
      },
      "source": [
        "plt.figure(figsize=(8, 8)) # 그래프 사이즈 조절\n",
        "plt.title('Linear function')\n",
        "plt.xlabel('CYCLE')\n",
        "plt.ylabel('LOSS')\n",
        "plt.plot(iForGraph, jForGraph, c = 'blue', alpha = 0.5)\n",
        "plt.show()"
      ],
      "execution_count": 300,
      "outputs": [
        {
          "output_type": "display_data",
          "data": {
            "image/png": "[encoded data removed]",
            "text/plain": [
              "<Figure size 576x576 with 1 Axes>"
            ]
          },
          "metadata": {
            "tags": []
          }
        }
      ]
    },
    {
      "cell_type": "code",
      "metadata": {
        "id": "iwhK-4W7EQUV",
        "colab_type": "code",
        "colab": {
          "base_uri": "https://localhost:8080/",
          "height": 517
        },
        "outputId": "25cdc25d-a5c2-44bb-c5a5-f2827acd9366"
      },
      "source": [
        "plt.figure(figsize=(8, 8)) # 그래프 사이즈 조절\n",
        "plt.title('Linear function')\n",
        "plt.xlabel('CYCLE')\n",
        "plt.ylabel('LOSS')\n",
        "plt.plot(iForGraph, jTestingForGraph, c = 'red', alpha = 0.5)\n",
        "plt.show()"
      ],
      "execution_count": 301,
      "outputs": [
        {
          "output_type": "display_data",
          "data": {
            "image/png": "[encoded data removed]",
            "text/plain": [
              "<Figure size 576x576 with 1 Axes>"
            ]
          },
          "metadata": {
            "tags": []
          }
        }
      ]
    }
  ]
}