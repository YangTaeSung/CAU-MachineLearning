{
  "nbformat": 4,
  "nbformat_minor": 0,
  "metadata": {
    "colab": {
      "name": "assignment02.ipynb",
      "provenance": [],
      "collapsed_sections": [],
      "authorship_tag": "ABX9TyN0WbOPZIfBrxe3FlY/XrsS",
      "include_colab_link": true
    },
    "kernelspec": {
      "name": "python3",
      "display_name": "Python 3"
    }
  },
  "cells": [
    {
      "cell_type": "markdown",
      "metadata": {
        "id": "view-in-github",
        "colab_type": "text"
      },
      "source": [
        "<a href=\"https://colab.research.google.com/github/YangTaeSung/CAU-MachineLearning/blob/master/assignment02.ipynb\" target=\"_parent\"><img src=\"https://colab.research.google.com/assets/colab-badge.svg\" alt=\"Open In Colab\"/></a>"
      ]
    },
    {
      "cell_type": "code",
      "metadata": {
        "id": "mlKumgoTuKJS",
        "colab_type": "code",
        "colab": {}
      },
      "source": [
        "import matplotlib.pyplot as plt\n",
        "import numpy as np\n",
        "import random"
      ],
      "execution_count": 0,
      "outputs": []
    },
    {
      "cell_type": "code",
      "metadata": {
        "id": "GUGQd7XO824B",
        "colab_type": "code",
        "colab": {}
      },
      "source": [
        "noiseNum = 10\n",
        "x = np.linspace(0, 5, noiseNum)\n",
        "y = 2 * x"
      ],
      "execution_count": 0,
      "outputs": []
    },
    {
      "cell_type": "markdown",
      "metadata": {
        "id": "ZAmTp06tigkI",
        "colab_type": "text"
      },
      "source": [
        "* noise의 개수 10개  \n",
        "* linear 함수 표현\n"
      ]
    },
    {
      "cell_type": "code",
      "metadata": {
        "id": "4OvkUKtSjCvw",
        "colab_type": "code",
        "colab": {}
      },
      "source": [
        "for i in range(0,noiseNum):\n",
        "  noise = random.uniform(-2,2)\n",
        "  noiseY[i] = y[i] + noise"
      ],
      "execution_count": 0,
      "outputs": []
    },
    {
      "cell_type": "markdown",
      "metadata": {
        "id": "J8vhwedHjDmi",
        "colab_type": "text"
      },
      "source": [
        "* y값에서 -1~1의 편차를 두고 랜덤값 생성하여 noiseY값 적용 "
      ]
    },
    {
      "cell_type": "code",
      "metadata": {
        "id": "Qnb7HNAQI5Hc",
        "colab_type": "code",
        "colab": {}
      },
      "source": [
        "thetaZero = 0.0\n",
        "thetaOne = 0.0"
      ],
      "execution_count": 0,
      "outputs": []
    },
    {
      "cell_type": "markdown",
      "metadata": {
        "id": "cCuPfPwdJJXY",
        "colab_type": "text"
      },
      "source": [
        "* 세타값 초기화(learning 시작점)"
      ]
    },
    {
      "cell_type": "code",
      "metadata": {
        "id": "ZHHIAaVmJeP-",
        "colab_type": "code",
        "colab": {}
      },
      "source": [
        "cycle = 5000\n",
        "learningLate = 0.01"
      ],
      "execution_count": 0,
      "outputs": []
    },
    {
      "cell_type": "code",
      "metadata": {
        "id": "Okm4QgveKrO7",
        "colab_type": "code",
        "colab": {
          "base_uri": "https://localhost:8080/",
          "height": 887
        },
        "outputId": "95a2e7d3-632c-422e-8feb-b1de541b0292"
      },
      "source": [
        "for i in range(cycle):\n",
        "  h = thetaZero + thetaOne * x\n",
        "  j = np.sum((h - noiseY) ** 2) / (2 * noiseNum)\n",
        "  thetaZero = thetaZero - learningLate / noiseNum * np.sum((thetaOne * x - noiseY + thetaZero))\n",
        "  thetaOne = thetaOne - learningLate / noiseNum * np.sum((thetaOne * x - noiseY + thetaZero) * x)\n",
        "\n",
        "  if i % 100 == 0:\n",
        "        print('cycle : {:10d} cost: {:10f} thetaZero: {:10f} thetaOne: {:10f}'.format(i, j,thetaZero, thetaOne))\n",
        "\n",
        "testY = thetaOne * x + thetaZero    "
      ],
      "execution_count": 283,
      "outputs": [
        {
          "output_type": "stream",
          "text": [
            "cycle :          0 cost:  16.782177 thetaZero:   0.050029 thetaOne:   0.169164\n",
            "cycle :        100 cost:   0.230596 thetaZero:   0.533380 thetaOne:   1.785818\n",
            "cycle :        200 cost:   0.230577 thetaZero:   0.537542 thetaOne:   1.784685\n",
            "cycle :        300 cost:   0.230566 thetaZero:   0.540703 thetaOne:   1.783761\n",
            "cycle :        400 cost:   0.230560 thetaZero:   0.543118 thetaOne:   1.783055\n",
            "cycle :        500 cost:   0.230556 thetaZero:   0.544962 thetaOne:   1.782516\n",
            "cycle :        600 cost:   0.230554 thetaZero:   0.546371 thetaOne:   1.782104\n",
            "cycle :        700 cost:   0.230553 thetaZero:   0.547447 thetaOne:   1.781789\n",
            "cycle :        800 cost:   0.230552 thetaZero:   0.548269 thetaOne:   1.781549\n",
            "cycle :        900 cost:   0.230551 thetaZero:   0.548897 thetaOne:   1.781365\n",
            "cycle :       1000 cost:   0.230551 thetaZero:   0.549377 thetaOne:   1.781225\n",
            "cycle :       1100 cost:   0.230551 thetaZero:   0.549743 thetaOne:   1.781118\n",
            "cycle :       1200 cost:   0.230551 thetaZero:   0.550023 thetaOne:   1.781036\n",
            "cycle :       1300 cost:   0.230551 thetaZero:   0.550237 thetaOne:   1.780973\n",
            "cycle :       1400 cost:   0.230551 thetaZero:   0.550400 thetaOne:   1.780926\n",
            "cycle :       1500 cost:   0.230551 thetaZero:   0.550525 thetaOne:   1.780889\n",
            "cycle :       1600 cost:   0.230551 thetaZero:   0.550620 thetaOne:   1.780861\n",
            "cycle :       1700 cost:   0.230551 thetaZero:   0.550693 thetaOne:   1.780840\n",
            "cycle :       1800 cost:   0.230551 thetaZero:   0.550748 thetaOne:   1.780824\n",
            "cycle :       1900 cost:   0.230551 thetaZero:   0.550791 thetaOne:   1.780811\n",
            "cycle :       2000 cost:   0.230551 thetaZero:   0.550823 thetaOne:   1.780802\n",
            "cycle :       2100 cost:   0.230551 thetaZero:   0.550848 thetaOne:   1.780795\n",
            "cycle :       2200 cost:   0.230551 thetaZero:   0.550867 thetaOne:   1.780789\n",
            "cycle :       2300 cost:   0.230551 thetaZero:   0.550881 thetaOne:   1.780785\n",
            "cycle :       2400 cost:   0.230551 thetaZero:   0.550893 thetaOne:   1.780782\n",
            "cycle :       2500 cost:   0.230551 thetaZero:   0.550901 thetaOne:   1.780779\n",
            "cycle :       2600 cost:   0.230551 thetaZero:   0.550907 thetaOne:   1.780777\n",
            "cycle :       2700 cost:   0.230551 thetaZero:   0.550912 thetaOne:   1.780776\n",
            "cycle :       2800 cost:   0.230551 thetaZero:   0.550916 thetaOne:   1.780775\n",
            "cycle :       2900 cost:   0.230551 thetaZero:   0.550919 thetaOne:   1.780774\n",
            "cycle :       3000 cost:   0.230551 thetaZero:   0.550921 thetaOne:   1.780773\n",
            "cycle :       3100 cost:   0.230551 thetaZero:   0.550923 thetaOne:   1.780773\n",
            "cycle :       3200 cost:   0.230551 thetaZero:   0.550924 thetaOne:   1.780773\n",
            "cycle :       3300 cost:   0.230551 thetaZero:   0.550925 thetaOne:   1.780772\n",
            "cycle :       3400 cost:   0.230551 thetaZero:   0.550926 thetaOne:   1.780772\n",
            "cycle :       3500 cost:   0.230551 thetaZero:   0.550926 thetaOne:   1.780772\n",
            "cycle :       3600 cost:   0.230551 thetaZero:   0.550927 thetaOne:   1.780772\n",
            "cycle :       3700 cost:   0.230551 thetaZero:   0.550927 thetaOne:   1.780772\n",
            "cycle :       3800 cost:   0.230551 thetaZero:   0.550927 thetaOne:   1.780772\n",
            "cycle :       3900 cost:   0.230551 thetaZero:   0.550928 thetaOne:   1.780772\n",
            "cycle :       4000 cost:   0.230551 thetaZero:   0.550928 thetaOne:   1.780771\n",
            "cycle :       4100 cost:   0.230551 thetaZero:   0.550928 thetaOne:   1.780771\n",
            "cycle :       4200 cost:   0.230551 thetaZero:   0.550928 thetaOne:   1.780771\n",
            "cycle :       4300 cost:   0.230551 thetaZero:   0.550928 thetaOne:   1.780771\n",
            "cycle :       4400 cost:   0.230551 thetaZero:   0.550928 thetaOne:   1.780771\n",
            "cycle :       4500 cost:   0.230551 thetaZero:   0.550928 thetaOne:   1.780771\n",
            "cycle :       4600 cost:   0.230551 thetaZero:   0.550928 thetaOne:   1.780771\n",
            "cycle :       4700 cost:   0.230551 thetaZero:   0.550928 thetaOne:   1.780771\n",
            "cycle :       4800 cost:   0.230551 thetaZero:   0.550928 thetaOne:   1.780771\n",
            "cycle :       4900 cost:   0.230551 thetaZero:   0.550928 thetaOne:   1.780771\n"
          ],
          "name": "stdout"
        }
      ]
    },
    {
      "cell_type": "code",
      "metadata": {
        "id": "3CN158Ou83cj",
        "colab_type": "code",
        "outputId": "ab1fcbf7-5310-45d1-95ad-4904a8a3f1de",
        "colab": {
          "base_uri": "https://localhost:8080/",
          "height": 295
        }
      },
      "source": [
        "plt.plot(x, y, \"BLUE\")\n",
        "plt.plot(x, testY, \"RED\")\n",
        "plt.scatter(x,noiseY,c='black', s=50)\n",
        "plt.title('Linear function')\n",
        "plt.xlabel('X AXIS')\n",
        "plt.ylabel('Y AXIS')\n",
        "plt.show()\n",
        "\n",
        "\n"
      ],
      "execution_count": 284,
      "outputs": [
        {
          "output_type": "display_data",
          "data": {
            "image/png": "[encoded data removed]",
            "text/plain": [
              "<Figure size 432x288 with 1 Axes>"
            ]
          },
          "metadata": {
            "tags": []
          }
        }
      ]
    }
  ]
}