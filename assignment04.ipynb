{
  "nbformat": 4,
  "nbformat_minor": 0,
  "metadata": {
    "colab": {
      "name": "assignment04.ipynb",
      "provenance": [],
      "collapsed_sections": [],
      "authorship_tag": "ABX9TyOyCWdlFY9ZPcL08j6rO4NT",
      "include_colab_link": true
    },
    "kernelspec": {
      "name": "python3",
      "display_name": "Python 3"
    }
  },
  "cells": [
    {
      "cell_type": "markdown",
      "metadata": {
        "id": "view-in-github",
        "colab_type": "text"
      },
      "source": [
        "<a href=\"https://colab.research.google.com/github/YangTaeSung/CAU-MachineLearning/blob/master/assignment04.ipynb\" target=\"_parent\"><img src=\"https://colab.research.google.com/assets/colab-badge.svg\" alt=\"Open In Colab\"/></a>"
      ]
    },
    {
      "cell_type": "code",
      "metadata": {
        "id": "19Z8KzziW_cy",
        "colab_type": "code",
        "colab": {}
      },
      "source": [
        "from sklearn import linear_model\n",
        "import numpy as np\n",
        "import pandas as pd\n",
        "import matplotlib\n",
        "import matplotlib.pyplot as plt\n",
        "%matplotlib inline\n",
        "matplotlib.style.use('ggplot')"
      ],
      "execution_count": 0,
      "outputs": []
    },
    {
      "cell_type": "code",
      "metadata": {
        "id": "iTsnQhliscl1",
        "colab_type": "code",
        "outputId": "65f0c8d9-f3d9-4443-deb4-e5190d1ae5a9",
        "colab": {
          "base_uri": "https://localhost:8080/",
          "height": 54
        }
      },
      "source": [
        "\"\"\"\n",
        "import csv\n",
        "\n",
        "with open('data_train.csv', newline='') as myfile:\n",
        "    reader  = csv.reader(myfile, delimiter=',')\n",
        "    ct = 1 \n",
        "    for i in reader:\n",
        "        # print('data_train[', ct, ']', 'x =', i[0], ', y = ', i[1], ', z = ', i[2], ', h = ', i[3])\n",
        "        ct += 1\n",
        "\n",
        "with open('data_test.csv', newline='') as myfile:\n",
        "    reader  = csv.reader(myfile, delimiter=',')\n",
        "    ct = 1 \n",
        "    for i in reader:\n",
        "        # print('data_test[', ct, ']', 'x =', i[0], ', y = ', i[1], ', z = ', i[2], ', h = ', i[3])\n",
        "        ct += 1\n",
        "\"\"\""
      ],
      "execution_count": 141,
      "outputs": [
        {
          "output_type": "execute_result",
          "data": {
            "text/plain": [
              "\"\\nimport csv\\n\\nwith open('data_train.csv', newline='') as myfile:\\n    reader  = csv.reader(myfile, delimiter=',')\\n    ct = 1 \\n    for i in reader:\\n        # print('data_train[', ct, ']', 'x =', i[0], ', y = ', i[1], ', z = ', i[2], ', h = ', i[3])\\n        ct += 1\\n\\nwith open('data_test.csv', newline='') as myfile:\\n    reader  = csv.reader(myfile, delimiter=',')\\n    ct = 1 \\n    for i in reader:\\n        # print('data_test[', ct, ']', 'x =', i[0], ', y = ', i[1], ', z = ', i[2], ', h = ', i[3])\\n        ct += 1\\n\""
            ]
          },
          "metadata": {
            "tags": []
          },
          "execution_count": 141
        }
      ]
    },
    {
      "cell_type": "code",
      "metadata": {
        "id": "xYaTECVqGuq0",
        "colab_type": "code",
        "outputId": "55c425bb-935a-4b8b-9771-c8f2ea58d515",
        "colab": {
          "base_uri": "https://localhost:8080/",
          "height": 204
        }
      },
      "source": [
        "import pandas as pd\n",
        "df = pd.read_csv(\"data_train.csv\", names = ['A', 'B', 'C', 'D'])\n",
        "df.head()"
      ],
      "execution_count": 142,
      "outputs": [
        {
          "output_type": "execute_result",
          "data": {
            "text/html": [
              "<div>\n",
              "<style scoped>\n",
              "    .dataframe tbody tr th:only-of-type {\n",
              "        vertical-align: middle;\n",
              "    }\n",
              "\n",
              "    .dataframe tbody tr th {\n",
              "        vertical-align: top;\n",
              "    }\n",
              "\n",
              "    .dataframe thead th {\n",
              "        text-align: right;\n",
              "    }\n",
              "</style>\n",
              "<table border=\"1\" class=\"dataframe\">\n",
              "  <thead>\n",
              "    <tr style=\"text-align: right;\">\n",
              "      <th></th>\n",
              "      <th>A</th>\n",
              "      <th>B</th>\n",
              "      <th>C</th>\n",
              "      <th>D</th>\n",
              "    </tr>\n",
              "  </thead>\n",
              "  <tbody>\n",
              "    <tr>\n",
              "      <th>0</th>\n",
              "      <td>0.273548</td>\n",
              "      <td>-8.932102</td>\n",
              "      <td>18.708684</td>\n",
              "      <td>73.578825</td>\n",
              "    </tr>\n",
              "    <tr>\n",
              "      <th>1</th>\n",
              "      <td>5.403327</td>\n",
              "      <td>4.782977</td>\n",
              "      <td>-18.762210</td>\n",
              "      <td>-56.410433</td>\n",
              "    </tr>\n",
              "    <tr>\n",
              "      <th>2</th>\n",
              "      <td>0.029941</td>\n",
              "      <td>-3.245916</td>\n",
              "      <td>6.932498</td>\n",
              "      <td>52.390768</td>\n",
              "    </tr>\n",
              "    <tr>\n",
              "      <th>3</th>\n",
              "      <td>3.047974</td>\n",
              "      <td>0.715211</td>\n",
              "      <td>-1.965419</td>\n",
              "      <td>-6.936295</td>\n",
              "    </tr>\n",
              "    <tr>\n",
              "      <th>4</th>\n",
              "      <td>1.302074</td>\n",
              "      <td>-5.871807</td>\n",
              "      <td>-15.702181</td>\n",
              "      <td>-34.997017</td>\n",
              "    </tr>\n",
              "  </tbody>\n",
              "</table>\n",
              "</div>"
            ],
            "text/plain": [
              "          A         B          C          D\n",
              "0  0.273548 -8.932102  18.708684  73.578825\n",
              "1  5.403327  4.782977 -18.762210 -56.410433\n",
              "2  0.029941 -3.245916   6.932498  52.390768\n",
              "3  3.047974  0.715211  -1.965419  -6.936295\n",
              "4  1.302074 -5.871807 -15.702181 -34.997017"
            ]
          },
          "metadata": {
            "tags": []
          },
          "execution_count": 142
        }
      ]
    },
    {
      "cell_type": "code",
      "metadata": {
        "colab_type": "code",
        "outputId": "f9b68eb7-85cd-44d6-a79d-7b049c8f5bc1",
        "id": "BdXlSToJ57e1",
        "colab": {
          "base_uri": "https://localhost:8080/",
          "height": 1000
        }
      },
      "source": [
        "X = df[['A','B','C']]\n",
        "h = df['D']\n",
        "\n",
        "from sklearn.preprocessing import MinMaxScaler\n",
        "transformer = MinMaxScaler()\n",
        "transformer.fit(X)\n",
        "X = transformer.transform(X)\n",
        "\n",
        "from sklearn.preprocessing import StandardScaler\n",
        "sc = StandardScaler()\n",
        "X = sc.fit_transform(X)\n",
        "\n",
        "print(X)\n",
        "\n",
        "x = X[:, 0] \n",
        "y = X[:, 1]\n",
        "z = X[:, 2]"
      ],
      "execution_count": 143,
      "outputs": [
        {
          "output_type": "stream",
          "text": [
            "[[-1.72189047e+00 -1.83657591e+00 -1.51486425e+00]\n",
            " [-1.66274133e+00 -1.67768253e+00 -1.94708802e+00]\n",
            " [-1.72469938e+00 -1.77069970e+00 -1.65070162e+00]\n",
            " [-1.68989982e+00 -1.72480884e+00 -1.75333838e+00]\n",
            " [-1.71003100e+00 -1.80112146e+00 -1.91179084e+00]\n",
            " [-1.71950215e+00 -1.76682843e+00 -1.75792587e+00]\n",
            " [-1.70623252e+00 -1.62420387e+00 -1.70211297e+00]\n",
            " [-1.65154898e+00 -1.54096157e+00 -1.52423558e+00]\n",
            " [-1.64429462e+00 -1.53121630e+00 -1.86818620e+00]\n",
            " [-1.58879520e+00 -1.61475343e+00 -1.62637525e+00]\n",
            " [-1.64516320e+00 -1.72400765e+00 -1.61611624e+00]\n",
            " [-1.55605332e+00 -1.59169132e+00 -1.48978237e+00]\n",
            " [-1.58739317e+00 -1.60546691e+00 -1.53975241e+00]\n",
            " [-1.54574635e+00 -1.60104809e+00 -1.53161425e+00]\n",
            " [-1.55272265e+00 -1.50846062e+00 -1.69581445e+00]\n",
            " [-1.55701721e+00 -1.46471003e+00 -1.55788014e+00]\n",
            " [-1.50818336e+00 -1.47811433e+00 -1.51442540e+00]\n",
            " [-1.51606322e+00 -1.65090147e+00 -1.59829889e+00]\n",
            " [-1.49490424e+00 -1.50588317e+00 -1.48356557e+00]\n",
            " [-1.52513045e+00 -1.51570449e+00 -1.55002255e+00]\n",
            " [-1.44755560e+00 -1.43724968e+00 -1.34529207e+00]\n",
            " [-1.46502202e+00 -1.47100539e+00 -1.32746713e+00]\n",
            " [-1.51147495e+00 -1.49462484e+00 -1.51003764e+00]\n",
            " [-1.51427902e+00 -1.52790798e+00 -1.40055255e+00]\n",
            " [-1.50376438e+00 -1.53558681e+00 -1.56084073e+00]\n",
            " [-1.38580523e+00 -1.51354924e+00 -1.50007062e+00]\n",
            " [-1.45296115e+00 -1.38725621e+00 -1.21081420e+00]\n",
            " [-1.41941645e+00 -1.38940665e+00 -1.30390274e+00]\n",
            " [-1.41785960e+00 -1.43832489e+00 -1.39487954e+00]\n",
            " [-1.43588969e+00 -1.47313041e+00 -1.20079866e+00]\n",
            " [-1.38378094e+00 -1.43467723e+00 -1.32352112e+00]\n",
            " [-1.41597771e+00 -1.26031974e+00 -1.30278289e+00]\n",
            " [-1.32728177e+00 -1.45291423e+00 -1.46675717e+00]\n",
            " [-1.37523215e+00 -1.32649636e+00 -1.40702710e+00]\n",
            " [-1.36151584e+00 -1.44687720e+00 -1.41093618e+00]\n",
            " [-1.28229183e+00 -1.42304199e+00 -1.50753477e+00]\n",
            " [-1.28629946e+00 -1.29721351e+00 -1.14991707e+00]\n",
            " [-1.25462054e+00 -1.37584582e+00 -1.41063378e+00]\n",
            " [-1.26280925e+00 -1.28627707e+00 -1.20539173e+00]\n",
            " [-1.25830819e+00 -1.31429404e+00 -1.12136756e+00]\n",
            " [-1.22890479e+00 -1.21247015e+00 -1.35441917e+00]\n",
            " [-1.24972389e+00 -1.21663501e+00 -1.11120776e+00]\n",
            " [-1.26282545e+00 -1.35398221e+00 -1.16060242e+00]\n",
            " [-1.24520024e+00 -1.28583063e+00 -1.03101206e+00]\n",
            " [-1.18512107e+00 -1.20651115e+00 -1.27979807e+00]\n",
            " [-1.15548628e+00 -1.19264873e+00 -1.04290682e+00]\n",
            " [-1.21417959e+00 -1.10301541e+00 -1.08805006e+00]\n",
            " [-1.20591156e+00 -1.15981381e+00 -1.15009158e+00]\n",
            " [-1.16260856e+00 -1.08983103e+00 -1.00989844e+00]\n",
            " [-1.18489136e+00 -1.19531360e+00 -9.63571585e-01]\n",
            " [-1.18129834e+00 -1.10161414e+00 -1.15548393e+00]\n",
            " [-1.11008165e+00 -1.18462268e+00 -9.50471349e-01]\n",
            " [-1.07335903e+00 -1.23388365e+00 -1.17872903e+00]\n",
            " [-1.13500682e+00 -1.14967100e+00 -1.31453263e+00]\n",
            " [-1.15087720e+00 -1.09553157e+00 -9.22986171e-01]\n",
            " [-1.12118183e+00 -1.07154578e+00 -1.22988580e+00]\n",
            " [-1.05473477e+00 -1.14414111e+00 -1.29857581e+00]\n",
            " [-1.08387014e+00 -1.16978613e+00 -9.28289585e-01]\n",
            " [-1.07187792e+00 -1.08666524e+00 -1.08219818e+00]\n",
            " [-1.09870259e+00 -1.02254127e+00 -8.96493372e-01]\n",
            " [-1.00420549e+00 -9.43457274e-01 -1.20113057e+00]\n",
            " [-1.02241198e+00 -9.99167193e-01 -1.13134285e+00]\n",
            " [-1.04798562e+00 -9.34511049e-01 -8.65415356e-01]\n",
            " [-1.00904825e+00 -9.09250502e-01 -9.81717837e-01]\n",
            " [-9.39181086e-01 -8.82542286e-01 -9.46667009e-01]\n",
            " [-9.61230609e-01 -1.03250699e+00 -8.66769997e-01]\n",
            " [-9.78267779e-01 -9.24017163e-01 -1.04696390e+00]\n",
            " [-9.48742724e-01 -9.24233140e-01 -8.98652420e-01]\n",
            " [-9.79660674e-01 -8.77410852e-01 -7.93954461e-01]\n",
            " [-9.16946437e-01 -1.04378805e+00 -1.08618293e+00]\n",
            " [-9.70197955e-01 -8.17708328e-01 -9.87291373e-01]\n",
            " [-9.42315579e-01 -8.64221306e-01 -9.90243740e-01]\n",
            " [-9.30521949e-01 -8.24018283e-01 -8.56944048e-01]\n",
            " [-8.76418189e-01 -9.46234710e-01 -8.27910525e-01]\n",
            " [-8.98059562e-01 -8.52855893e-01 -1.00165184e+00]\n",
            " [-8.46265008e-01 -8.92130102e-01 -9.86629375e-01]\n",
            " [-8.17209068e-01 -8.54711955e-01 -7.81596572e-01]\n",
            " [-8.67140204e-01 -7.88509875e-01 -9.56533060e-01]\n",
            " [-8.53510573e-01 -8.12549485e-01 -7.93693580e-01]\n",
            " [-8.36424529e-01 -7.92465261e-01 -8.54422888e-01]\n",
            " [-8.37246861e-01 -7.94702222e-01 -6.30845224e-01]\n",
            " [-7.87583253e-01 -7.38793556e-01 -7.88457212e-01]\n",
            " [-7.85450568e-01 -8.16624949e-01 -7.94597784e-01]\n",
            " [-7.29052459e-01 -8.78220229e-01 -9.00565379e-01]\n",
            " [-7.08417091e-01 -7.32495340e-01 -7.20916952e-01]\n",
            " [-7.62433101e-01 -7.87348125e-01 -5.53964534e-01]\n",
            " [-6.87466629e-01 -6.27712403e-01 -8.28148263e-01]\n",
            " [-6.86954793e-01 -6.34696614e-01 -6.74588343e-01]\n",
            " [-7.55632463e-01 -6.78285256e-01 -8.21274755e-01]\n",
            " [-6.77293094e-01 -7.51988224e-01 -7.06997981e-01]\n",
            " [-6.53949065e-01 -6.92037476e-01 -8.89653375e-01]\n",
            " [-6.95935747e-01 -7.64025698e-01 -4.62078554e-01]\n",
            " [-6.17865497e-01 -6.86771677e-01 -6.49736050e-01]\n",
            " [-6.71781811e-01 -7.68446545e-01 -4.57217395e-01]\n",
            " [-5.95405137e-01 -6.11158408e-01 -5.77607406e-01]\n",
            " [-5.73992556e-01 -5.88512278e-01 -4.37471264e-01]\n",
            " [-6.44679242e-01 -6.76610773e-01 -7.93632650e-01]\n",
            " [-6.04316174e-01 -5.40824592e-01 -7.04120965e-01]\n",
            " [-6.45399933e-01 -6.14369222e-01 -7.58025622e-01]\n",
            " [-5.84794563e-01 -4.74103369e-01 -3.95325337e-01]\n",
            " [-5.41339778e-01 -5.25606805e-01 -5.04342213e-01]\n",
            " [-5.15657375e-01 -6.37850764e-01 -5.16121916e-01]\n",
            " [-5.41937389e-01 -5.96616665e-01 -3.33484167e-01]\n",
            " [-5.61019329e-01 -4.93785696e-01 -5.00872143e-01]\n",
            " [-5.47743899e-01 -4.23850998e-01 -5.25470550e-01]\n",
            " [-4.91857729e-01 -4.74030334e-01 -4.68732851e-01]\n",
            " [-4.60267564e-01 -5.13169056e-01 -6.08741106e-01]\n",
            " [-4.85046382e-01 -4.51518581e-01 -4.28748206e-01]\n",
            " [-4.88350884e-01 -5.31336747e-01 -3.63954388e-01]\n",
            " [-4.12870956e-01 -3.93587415e-01 -5.30571459e-01]\n",
            " [-4.21840049e-01 -4.43998358e-01 -6.75691101e-01]\n",
            " [-4.71896467e-01 -4.56920059e-01 -4.59935845e-01]\n",
            " [-4.57488476e-01 -4.22576738e-01 -4.55735704e-01]\n",
            " [-4.04004163e-01 -3.94848386e-01 -5.67820242e-01]\n",
            " [-3.70361342e-01 -3.87335768e-01 -4.90220642e-01]\n",
            " [-4.46663956e-01 -3.45126068e-01 -5.29710345e-01]\n",
            " [-3.75624456e-01 -2.87979059e-01 -1.69824194e-01]\n",
            " [-3.22011916e-01 -3.26329027e-01 -2.14042680e-01]\n",
            " [-3.10462902e-01 -2.79766346e-01 -1.49541417e-01]\n",
            " [-3.40557042e-01 -2.67841894e-01 -1.86049940e-01]\n",
            " [-3.48325091e-01 -2.70231543e-01 -5.05291183e-01]\n",
            " [-3.18784845e-01 -2.26508510e-01 -1.50444740e-01]\n",
            " [-3.01154394e-01 -3.44563661e-01 -1.54450465e-01]\n",
            " [-3.25746830e-01 -2.41176049e-01 -1.43405176e-01]\n",
            " [-2.65416119e-01 -2.30495770e-01 -4.91651032e-01]\n",
            " [-3.23164440e-01 -3.42153370e-01 -4.85242226e-01]\n",
            " [-2.34752355e-01 -1.94733958e-01 -2.58967363e-01]\n",
            " [-2.31710416e-01 -2.14438835e-01 -4.53412707e-01]\n",
            " [-2.07595651e-01 -3.13577540e-01 -4.32107387e-01]\n",
            " [-2.64324686e-01 -2.78191572e-01 -2.93281391e-01]\n",
            " [-2.61943363e-01 -2.40332468e-01 -3.36298782e-01]\n",
            " [-1.96135023e-01 -2.72585609e-01 -8.95046111e-02]\n",
            " [-1.60695019e-01 -2.94952888e-01 -1.65113973e-01]\n",
            " [-1.38096302e-01 -1.20050343e-01 -3.06730553e-01]\n",
            " [-2.16631928e-01 -9.95178075e-02 -2.96601219e-01]\n",
            " [-1.33846948e-01 -1.92998580e-01 -7.87754302e-02]\n",
            " [-1.82729591e-01 -1.63154625e-01  7.88888327e-03]\n",
            " [-1.31542191e-01 -1.47808220e-01 -2.85039813e-01]\n",
            " [-8.98594084e-02 -1.14728446e-01 -2.25679601e-01]\n",
            " [-1.06540051e-01 -1.00977160e-01 -2.43933146e-01]\n",
            " [-5.47162315e-02 -1.98669076e-01 -1.90246940e-01]\n",
            " [-8.76803115e-02 -9.77972330e-02 -1.07044695e-01]\n",
            " [-1.32310977e-01  1.32492997e-02 -9.26131273e-02]\n",
            " [-1.28287131e-01  2.53505395e-02 -2.53753775e-02]\n",
            " [-9.46396440e-03 -5.99293370e-02 -2.33555564e-02]\n",
            " [-3.08943642e-03 -1.26598644e-01 -8.80441514e-02]\n",
            " [-9.79238107e-02 -1.56268192e-01 -1.16236607e-01]\n",
            " [ 1.84208021e-03 -5.41327389e-02  1.92975751e-01]\n",
            " [-1.54160033e-02 -1.11014456e-01 -6.98645044e-02]\n",
            " [ 9.21875802e-04 -6.94600280e-04 -1.81381939e-02]\n",
            " [-4.01632608e-02  3.09676989e-02  6.85699332e-02]\n",
            " [-2.80097947e-03 -4.26454570e-02 -1.85784024e-01]\n",
            " [ 6.91732305e-02  1.12100019e-01  1.20724351e-01]\n",
            " [ 9.00772040e-02  1.99412885e-03  7.93581414e-02]\n",
            " [ 2.01566954e-03 -6.03203127e-02  1.35925928e-03]\n",
            " [ 8.83270717e-02  1.38920313e-01  6.11007239e-02]\n",
            " [ 6.88413042e-02  9.08866030e-02 -8.90884704e-02]\n",
            " [ 1.32534511e-01  4.45802194e-02 -1.40465136e-01]\n",
            " [ 1.15070901e-01  2.05319924e-01  1.42211834e-01]\n",
            " [ 1.03493324e-01  1.53049831e-01  2.21455070e-01]\n",
            " [ 1.68178421e-01  3.83200674e-02  3.12903740e-01]\n",
            " [ 1.27182088e-01  2.07585224e-01  1.48060196e-01]\n",
            " [ 1.43069592e-01  2.41850810e-01  2.71883624e-01]\n",
            " [ 1.55009284e-01  2.48428681e-01  1.32584806e-01]\n",
            " [ 1.60184485e-01  1.22935962e-01  1.37981219e-01]\n",
            " [ 1.30334270e-01  2.86912772e-01  2.15965756e-01]\n",
            " [ 1.89222477e-01  1.26016221e-01  4.03440975e-01]\n",
            " [ 1.49008224e-01  3.02507600e-01  8.68541270e-02]\n",
            " [ 2.26539330e-01  1.98053558e-01  7.29115153e-02]\n",
            " [ 2.56087464e-01  2.20489260e-01  3.69178129e-01]\n",
            " [ 1.96562652e-01  3.49260082e-01  3.34103673e-01]\n",
            " [ 2.05511088e-01  3.20516195e-01  3.19845537e-01]\n",
            " [ 2.97316946e-01  2.97172853e-01  3.32040180e-01]\n",
            " [ 3.12705418e-01  1.67509122e-01  2.89805219e-01]\n",
            " [ 2.68642784e-01  1.74035816e-01  6.70065887e-02]\n",
            " [ 3.46060986e-01  3.60224585e-01  2.97201595e-01]\n",
            " [ 3.26308031e-01  2.31816689e-01  3.54764295e-01]\n",
            " [ 2.60021148e-01  2.97307987e-01  5.01095530e-01]\n",
            " [ 3.26579156e-01  2.97243233e-01  4.16697228e-01]\n",
            " [ 2.92703872e-01  3.33971125e-01  1.46935025e-01]\n",
            " [ 4.00134396e-01  2.70904018e-01  4.17889515e-01]\n",
            " [ 3.12977685e-01  4.09961687e-01  3.20129211e-01]\n",
            " [ 4.03898745e-01  3.87329145e-01  4.22812208e-01]\n",
            " [ 4.11107888e-01  4.30335831e-01  5.44480631e-01]\n",
            " [ 3.57859122e-01  3.88938520e-01  4.50116942e-01]\n",
            " [ 4.33930613e-01  4.83394514e-01  3.19903287e-01]\n",
            " [ 3.69831838e-01  4.28990872e-01  2.47954505e-01]\n",
            " [ 4.36635293e-01  4.21379041e-01  3.26581399e-01]\n",
            " [ 4.53627186e-01  4.74440378e-01  3.69830262e-01]\n",
            " [ 4.11151002e-01  4.86559684e-01  5.67185260e-01]\n",
            " [ 4.27711819e-01  4.48282637e-01  3.39109430e-01]\n",
            " [ 4.45275481e-01  4.91405828e-01  3.82887252e-01]\n",
            " [ 4.70903513e-01  5.27643419e-01  5.85696603e-01]\n",
            " [ 4.88885636e-01  5.80527982e-01  6.20655950e-01]\n",
            " [ 5.53966825e-01  4.85908424e-01  6.98622529e-01]\n",
            " [ 4.82493937e-01  5.59744618e-01  4.92876332e-01]\n",
            " [ 5.09035357e-01  5.41056204e-01  4.98125536e-01]\n",
            " [ 5.39338567e-01  5.20509503e-01  3.69759034e-01]\n",
            " [ 5.84163709e-01  6.22133984e-01  7.63755203e-01]\n",
            " [ 5.32689245e-01  6.21015271e-01  6.71335312e-01]\n",
            " [ 5.30336919e-01  4.99188373e-01  4.99449163e-01]\n",
            " [ 6.00820109e-01  6.39007374e-01  4.94680429e-01]\n",
            " [ 6.27929886e-01  7.00253218e-01  6.26757736e-01]\n",
            " [ 6.17150689e-01  5.63437501e-01  4.87563429e-01]\n",
            " [ 5.76782808e-01  7.17230388e-01  4.38084146e-01]\n",
            " [ 6.05619981e-01  6.11071906e-01  7.08956679e-01]\n",
            " [ 7.06524530e-01  5.99708382e-01  5.06976831e-01]\n",
            " [ 6.36626336e-01  7.41171549e-01  8.69725222e-01]\n",
            " [ 6.57886608e-01  6.25332763e-01  4.75988614e-01]\n",
            " [ 7.25221204e-01  7.87593374e-01  8.28833329e-01]\n",
            " [ 7.33798138e-01  6.21973583e-01  9.11722842e-01]\n",
            " [ 6.52081552e-01  7.16972185e-01  7.15277148e-01]\n",
            " [ 7.34770154e-01  6.41605831e-01  5.97055969e-01]\n",
            " [ 7.81486071e-01  7.21216774e-01  7.33116480e-01]\n",
            " [ 6.93306881e-01  7.58176458e-01  7.98920666e-01]\n",
            " [ 8.00529197e-01  8.61757046e-01  9.07550696e-01]\n",
            " [ 7.64383467e-01  7.81336464e-01  7.00644951e-01]\n",
            " [ 7.52481283e-01  6.76170801e-01  9.62827778e-01]\n",
            " [ 7.65414181e-01  8.16243640e-01  7.26548547e-01]\n",
            " [ 8.00114704e-01  8.95892907e-01  8.64937157e-01]\n",
            " [ 7.60356097e-01  9.10621234e-01  7.14090706e-01]\n",
            " [ 8.23480464e-01  8.23784022e-01  1.03026646e+00]\n",
            " [ 8.11140664e-01  8.53050697e-01  7.76507321e-01]\n",
            " [ 8.19062524e-01  8.01663225e-01  6.73502494e-01]\n",
            " [ 8.51496100e-01  8.40068671e-01  6.36877962e-01]\n",
            " [ 8.14798692e-01  7.76766000e-01  6.44858473e-01]\n",
            " [ 8.94998523e-01  9.94716470e-01  8.49743121e-01]\n",
            " [ 8.49058534e-01  8.94898771e-01  8.13354945e-01]\n",
            " [ 8.90097434e-01  9.46222548e-01  7.02740169e-01]\n",
            " [ 9.34336933e-01  9.29274797e-01  7.76515780e-01]\n",
            " [ 9.68847882e-01  1.04640878e+00  1.12753246e+00]\n",
            " [ 9.18889172e-01  9.55298110e-01  9.72231263e-01]\n",
            " [ 9.43829179e-01  1.02336877e+00  1.00614797e+00]\n",
            " [ 1.00192921e+00  9.82357717e-01  1.09771308e+00]\n",
            " [ 9.29022855e-01  1.08383989e+00  9.01234245e-01]\n",
            " [ 9.80140892e-01  9.81224602e-01  1.14697476e+00]\n",
            " [ 1.00367155e+00  1.07889373e+00  1.05639746e+00]\n",
            " [ 1.04463883e+00  1.10402539e+00  9.81188172e-01]\n",
            " [ 1.05299072e+00  9.77091512e-01  8.13985299e-01]\n",
            " [ 1.03149050e+00  9.59227871e-01  1.19099529e+00]\n",
            " [ 1.09150973e+00  9.71968066e-01  1.18447438e+00]\n",
            " [ 1.01961720e+00  1.08312187e+00  1.15399747e+00]\n",
            " [ 1.02209329e+00  9.76577566e-01  9.56847411e-01]\n",
            " [ 1.12613553e+00  1.02659497e+00  1.18004594e+00]\n",
            " [ 1.09631824e+00  1.03039189e+00  1.05123470e+00]\n",
            " [ 1.15466668e+00  1.15530816e+00  8.83811267e-01]\n",
            " [ 1.14158759e+00  1.05179834e+00  1.02758654e+00]\n",
            " [ 1.17303923e+00  1.03357734e+00  1.16256900e+00]\n",
            " [ 1.15348556e+00  1.11575096e+00  1.22009047e+00]\n",
            " [ 1.17811353e+00  1.07525627e+00  1.10564489e+00]\n",
            " [ 1.17202404e+00  1.10711892e+00  1.06235256e+00]\n",
            " [ 1.12657155e+00  1.13253059e+00  1.22943557e+00]\n",
            " [ 1.22517636e+00  1.12256285e+00  1.14837648e+00]\n",
            " [ 1.16975542e+00  1.26224111e+00  1.05902801e+00]\n",
            " [ 1.24324300e+00  1.20595424e+00  1.26525767e+00]\n",
            " [ 1.23155089e+00  1.20682486e+00  1.15103303e+00]\n",
            " [ 1.21824666e+00  1.29576837e+00  1.02595838e+00]\n",
            " [ 1.22885203e+00  1.25981190e+00  1.26607275e+00]\n",
            " [ 1.20820792e+00  1.17937568e+00  1.01862773e+00]\n",
            " [ 1.24334822e+00  1.21557947e+00  1.48031577e+00]\n",
            " [ 1.26470137e+00  1.27554857e+00  1.39843930e+00]\n",
            " [ 1.27247083e+00  1.25795054e+00  1.06474674e+00]\n",
            " [ 1.24522153e+00  1.19727456e+00  1.31044215e+00]\n",
            " [ 1.30298305e+00  1.21044697e+00  1.31740858e+00]\n",
            " [ 1.32983006e+00  1.23535556e+00  1.26514420e+00]\n",
            " [ 1.27839353e+00  1.25928897e+00  1.52464811e+00]\n",
            " [ 1.34649883e+00  1.30582074e+00  1.30026798e+00]\n",
            " [ 1.36233547e+00  1.38426108e+00  1.13756311e+00]\n",
            " [ 1.36614380e+00  1.26280240e+00  1.41395213e+00]\n",
            " [ 1.32226203e+00  1.32792845e+00  1.58228069e+00]\n",
            " [ 1.43915673e+00  1.30934784e+00  1.59603810e+00]\n",
            " [ 1.39241839e+00  1.39655587e+00  1.17171816e+00]\n",
            " [ 1.37695318e+00  1.33685720e+00  1.19864370e+00]\n",
            " [ 1.41824577e+00  1.51343101e+00  1.29890666e+00]\n",
            " [ 1.48916014e+00  1.34981323e+00  1.52318836e+00]\n",
            " [ 1.44798263e+00  1.48967112e+00  1.62882192e+00]\n",
            " [ 1.48924298e+00  1.39252737e+00  1.40886195e+00]\n",
            " [ 1.51209089e+00  1.42985602e+00  1.66098785e+00]\n",
            " [ 1.52055288e+00  1.51976322e+00  1.41920579e+00]\n",
            " [ 1.43870122e+00  1.46665954e+00  1.39506349e+00]\n",
            " [ 1.55341707e+00  1.47256745e+00  1.37732471e+00]\n",
            " [ 1.53881805e+00  1.43044012e+00  1.38880045e+00]\n",
            " [ 1.53026496e+00  1.64445675e+00  1.54832815e+00]\n",
            " [ 1.54277922e+00  1.53242607e+00  1.60190819e+00]\n",
            " [ 1.59280204e+00  1.60955251e+00  1.59891776e+00]\n",
            " [ 1.60356687e+00  1.57296711e+00  1.45332781e+00]\n",
            " [ 1.55874450e+00  1.47168067e+00  1.79804280e+00]\n",
            " [ 1.60672866e+00  1.69550290e+00  1.69061726e+00]\n",
            " [ 1.57650225e+00  1.55214734e+00  1.52869665e+00]\n",
            " [ 1.60065750e+00  1.56095208e+00  1.51481324e+00]\n",
            " [ 1.67034179e+00  1.60136131e+00  1.41314386e+00]\n",
            " [ 1.64639868e+00  1.52869405e+00  1.65908520e+00]\n",
            " [ 1.62715334e+00  1.56186250e+00  1.64071013e+00]\n",
            " [ 1.66684659e+00  1.65588487e+00  1.70037624e+00]\n",
            " [ 1.63782724e+00  1.76196473e+00  1.80063631e+00]\n",
            " [ 1.62528527e+00  1.63558262e+00  1.54119559e+00]\n",
            " [ 1.65243632e+00  1.67469502e+00  1.59729150e+00]\n",
            " [ 1.72207621e+00  1.78365060e+00  1.80386767e+00]\n",
            " [ 1.70635229e+00  1.65677501e+00  1.65114410e+00]\n",
            " [ 1.75467253e+00  1.84661351e+00  1.82395717e+00]]\n"
          ],
          "name": "stdout"
        }
      ]
    },
    {
      "cell_type": "code",
      "metadata": {
        "id": "VfGPKbewE9R4",
        "colab_type": "code",
        "colab": {
          "base_uri": "https://localhost:8080/",
          "height": 643
        },
        "outputId": "5b53da39-96f9-4796-97e8-bdf8574a7f0c"
      },
      "source": [
        "\"\"\"import csv\n",
        "\n",
        "x_train = []\n",
        "y_train = []\n",
        "z_train = []\n",
        "h_train = []\n",
        "\n",
        "x_test = []\n",
        "y_test = []\n",
        "z_test = []\n",
        "h_test = []\n",
        "\n",
        "\n",
        "with open('data_train.csv', newline='') as myfile:\n",
        "    reader  = csv.reader(myfile, delimiter=',')\n",
        "    ct = 1 \n",
        "    for i in reader:\n",
        "        x_train.append(i[0])\n",
        "        y_train.append(i[1])\n",
        "        z_train.append(i[2])\n",
        "        h_train.append(i[3])\n",
        "        # print('[', ct, ']', 'x =', i[0], ', y = ', i[1], ', z = ', i[2], ', h = ', i[3])\n",
        "        ct += 1\n",
        "\n",
        "with open('data_test.csv', newline='') as myfile:\n",
        "    reader  = csv.reader(myfile, delimiter=',')\n",
        "    ct = 1 \n",
        "    for i in reader:\n",
        "        x_test.append(i[0])\n",
        "        y_test.append(i[1])\n",
        "        z_test.append(i[2])\n",
        "        h_test.append(i[3])\n",
        "        # print('[', ct, ']', 'x =', i[0], ', y = ', i[1], ', z = ', i[2], ', h = ', i[3])\n",
        "        ct += 1\n",
        "\n",
        "x_train = np.array(x_train)\n",
        "y_train = np.array(y_train)\n",
        "z_train = np.array(z_train)\n",
        "h_train = np.array(h_train)\n",
        "x_test = np.array(x_test)\n",
        "y_test = np.array(y_test)\n",
        "z_test = np.array(z_test)\n",
        "h_test = np.array(h_test)\n",
        "\"\"\"\n",
        "\"\"\"\n",
        "path = \"data_train.csv\"\n",
        "data = np.genfromtxt(path, delimiter=',')\n",
        "\n",
        "x_train = data[:, 0]\n",
        "y_train = data[:, 1]\n",
        "z_train = data[:, 2]\n",
        "h_train = data[:, 3]\n",
        "\"\"\"\n",
        "\"\"\"from sklearn.preprocessing import StandardScaler\n",
        "sc = StandardScaler()\n",
        "x_train = sc.fit_transform(x_train)\n",
        "y_train = sc.fit_transform(y_train)\n",
        "z_train = sc.fit_transform(z_train)\n",
        "\"\"\"\n",
        "\n",
        "plt.figure(figsize=(10, 10)) # 그래프 사이즈 조절\n",
        "plt.title('Linear function')\n",
        "plt.xlabel('X AXIS')\n",
        "plt.ylabel('Y AXIS')\n",
        "plt.plot(x, y, 'o', c = 'black', alpha = 0.5)\n",
        "plt.show()\n",
        "\n",
        "#x.round(5)\n",
        "#y.round(5)\n",
        "#z.round(5)\n",
        "#h.round(5)\n",
        "\"\"\"for i in range(300):\n",
        "  np.round(x[i],6)\n",
        "  np.round(y[i],6)\n",
        "  np.round(z[i],6)\"\"\""
      ],
      "execution_count": 144,
      "outputs": [
        {
          "output_type": "display_data",
          "data": {
            "image/png": "[encoded data removed]",
            "text/plain": [
              "<Figure size 720x720 with 1 Axes>"
            ]
          },
          "metadata": {
            "tags": []
          }
        },
        {
          "output_type": "execute_result",
          "data": {
            "text/plain": [
              "'for i in range(300):\\n  np.round(x[i],6)\\n  np.round(y[i],6)\\n  np.round(z[i],6)'"
            ]
          },
          "metadata": {
            "tags": []
          },
          "execution_count": 144
        }
      ]
    },
    {
      "cell_type": "code",
      "metadata": {
        "id": "u5ivdXnIoXdw",
        "colab_type": "code",
        "colab": {}
      },
      "source": [
        "thetaZero = 0.0\n",
        "thetaOne = 0.0\n",
        "thetaTwo = 0.0\n",
        "thetaThree = 0.0\n",
        "\n",
        "cycle = 3000\n",
        "learningLate = 0.01"
      ],
      "execution_count": 0,
      "outputs": []
    },
    {
      "cell_type": "markdown",
      "metadata": {
        "id": "szkFpeRNobWW",
        "colab_type": "text"
      },
      "source": [
        "* 세타값 초기화(learning 시작점)\n",
        "* Optimization cycle과 learning late 설정"
      ]
    },
    {
      "cell_type": "code",
      "metadata": {
        "id": "Br3gXLt4oYKG",
        "colab_type": "code",
        "colab": {
          "base_uri": "https://localhost:8080/",
          "height": 34
        },
        "outputId": "ca5620a8-6652-4b7d-fe8a-01d9bbd9007a"
      },
      "source": [
        "iForGraph = []\n",
        "\n",
        "newThetaOne = []\n",
        "newThetaZero = []\n",
        "newThetaTwo = []\n",
        "newThetaThree = []\n",
        "\n",
        "noiseNum = len(x)\n",
        "print(noiseNum)"
      ],
      "execution_count": 146,
      "outputs": [
        {
          "output_type": "stream",
          "text": [
            "300\n"
          ],
          "name": "stdout"
        }
      ]
    },
    {
      "cell_type": "markdown",
      "metadata": {
        "id": "csdNHCFwofbC",
        "colab_type": "text"
      },
      "source": [
        "* Plotting을 위한 각종 데이터 저장 변수 정의"
      ]
    },
    {
      "cell_type": "code",
      "metadata": {
        "id": "JMbAbx7YonYz",
        "colab_type": "code",
        "outputId": "168980af-42da-475c-e14b-54aca7cf7be4",
        "colab": {
          "base_uri": "https://localhost:8080/",
          "height": 527
        }
      },
      "source": [
        "for i in range(cycle):\n",
        "\n",
        "  f = thetaZero + thetaOne * x + thetaTwo * y + thetaThree * z\n",
        "  j = np.round((np.sum((f - h) ** 2) / (2 * noiseNum)),5)\n",
        "\n",
        "  thetaZero = np.round((thetaZero - learningLate / noiseNum * np.sum((thetaOne*x + thetaTwo*y + thetaThree*z - h + thetaZero))),5)\n",
        "  thetaOne = np.round((thetaOne - learningLate / noiseNum * np.sum((thetaOne*x + thetaTwo*y + thetaThree*z - h + thetaZero)*x)),5)\n",
        "  thetaTwo = np.round((thetaTwo - learningLate / noiseNum * np.sum((thetaOne*x + thetaTwo*y + thetaThree*z - h + thetaZero)*y)),5)\n",
        "  thetaThree = np.round((thetaThree - learningLate / noiseNum * np.sum((thetaOne*x + thetaTwo*y + thetaThree*z - h + thetaZero)*z)),5)\n",
        "  \n",
        "  iForGraph.append(i)\n",
        "  \n",
        "  newThetaZero.append(thetaZero)\n",
        "  newThetaOne.append(thetaOne)\n",
        "  newThetaTwo.append(thetaTwo)\n",
        "  newThetaThree.append(thetaThree)\n",
        "  \n",
        "  if i % 100 == 0:\n",
        "        print('cycle : {:10d} cost: {:10f} thetaZero: {:10f} thetaOne: {:10f} thetaTwo: {:10f} thetaThree: {:10f}'.format(i, j, thetaZero, thetaOne, thetaTwo, thetaThree))\n",
        "\n",
        "finalY = thetaZero + thetaOne * x + thetaTwo * y + thetaThree * z"
      ],
      "execution_count": 147,
      "outputs": [
        {
          "output_type": "stream",
          "text": [
            "cycle :          0 cost: 134766.151040 thetaZero:   5.493420 thetaOne:   3.558910 thetaTwo:   3.523750 thetaThree:   3.542000\n",
            "cycle :        100 cost: 14317.422470 thetaZero: 287.513020 thetaOne:  82.660420 thetaTwo:  80.939540 thetaThree:  84.822030\n",
            "cycle :        200 cost: 2509.765950 thetaZero: 390.741340 thetaOne:  85.630510 thetaTwo:  83.016100 thetaThree:  91.601970\n",
            "cycle :        300 cost: 927.700070 thetaZero: 428.526290 thetaOne:  84.828490 thetaTwo:  81.364810 thetaThree:  94.648460\n",
            "cycle :        400 cost: 705.212810 thetaZero: 442.356790 thetaOne:  83.851350 thetaTwo:  79.545520 thetaThree:  97.479660\n",
            "cycle :        500 cost: 665.082640 thetaZero: 447.419150 thetaOne:  82.877710 thetaTwo:  77.734950 thetaThree: 100.270790\n",
            "cycle :        600 cost: 649.606280 thetaZero: 449.272160 thetaOne:  81.916360 thetaTwo:  75.941680 thetaThree: 103.030880\n",
            "cycle :        700 cost: 637.650350 thetaZero: 449.950430 thetaOne:  80.967600 thetaTwo:  74.165990 thetaThree: 105.760690\n",
            "cycle :        800 cost: 626.378490 thetaZero: 450.198740 thetaOne:  80.031250 thetaTwo:  72.407710 thetaThree: 108.460600\n",
            "cycle :        900 cost: 615.406200 thetaZero: 450.289580 thetaOne:  79.107210 thetaTwo:  70.666650 thetaThree: 111.130930\n",
            "cycle :       1000 cost: 604.677450 thetaZero: 450.322800 thetaOne:  78.195340 thetaTwo:  68.942630 thetaThree: 113.771990\n",
            "cycle :       1100 cost: 594.180270 thetaZero: 450.334990 thetaOne:  77.295480 thetaTwo:  67.235470 thetaThree: 116.384110\n",
            "cycle :       1200 cost: 583.908690 thetaZero: 450.339460 thetaOne:  76.407530 thetaTwo:  65.544970 thetaThree: 118.967640\n",
            "cycle :       1300 cost: 573.857930 thetaZero: 450.341010 thetaOne:  75.531320 thetaTwo:  63.870980 thetaThree: 121.522830\n",
            "cycle :       1400 cost: 564.023110 thetaZero: 450.341530 thetaOne:  74.666740 thetaTwo:  62.213320 thetaThree: 124.050010\n",
            "cycle :       1500 cost: 554.399530 thetaZero: 450.341530 thetaOne:  73.813650 thetaTwo:  60.571820 thetaThree: 126.549500\n",
            "cycle :       1600 cost: 544.982660 thetaZero: 450.341530 thetaOne:  72.971930 thetaTwo:  58.946290 thetaThree: 129.021580\n",
            "cycle :       1700 cost: 535.767970 thetaZero: 450.341530 thetaOne:  72.141430 thetaTwo:  57.336580 thetaThree: 131.466570\n",
            "cycle :       1800 cost: 526.751080 thetaZero: 450.341530 thetaOne:  71.322020 thetaTwo:  55.742520 thetaThree: 133.884770\n",
            "cycle :       1900 cost: 517.927870 thetaZero: 450.341530 thetaOne:  70.513590 thetaTwo:  54.163960 thetaThree: 136.276440\n",
            "cycle :       2000 cost: 509.293970 thetaZero: 450.341530 thetaOne:  69.716010 thetaTwo:  52.600700 thetaThree: 138.641900\n",
            "cycle :       2100 cost: 500.845330 thetaZero: 450.341530 thetaOne:  68.929140 thetaTwo:  51.052600 thetaThree: 140.981430\n",
            "cycle :       2200 cost: 492.577980 thetaZero: 450.341530 thetaOne:  68.152900 thetaTwo:  49.519500 thetaThree: 143.295310\n",
            "cycle :       2300 cost: 484.488050 thetaZero: 450.341530 thetaOne:  67.387130 thetaTwo:  48.001250 thetaThree: 145.583810\n",
            "cycle :       2400 cost: 476.571470 thetaZero: 450.341530 thetaOne:  66.631720 thetaTwo:  46.497650 thetaThree: 147.847260\n",
            "cycle :       2500 cost: 468.824760 thetaZero: 450.341530 thetaOne:  65.886560 thetaTwo:  45.008570 thetaThree: 150.085850\n",
            "cycle :       2600 cost: 461.244290 thetaZero: 450.341530 thetaOne:  65.151540 thetaTwo:  43.533900 thetaThree: 152.299870\n",
            "cycle :       2700 cost: 453.826200 thetaZero: 450.341530 thetaOne:  64.426540 thetaTwo:  42.073410 thetaThree: 154.489630\n",
            "cycle :       2800 cost: 446.567150 thetaZero: 450.341530 thetaOne:  63.711410 thetaTwo:  40.627020 thetaThree: 156.655370\n",
            "cycle :       2900 cost: 439.463700 thetaZero: 450.341530 thetaOne:  63.006080 thetaTwo:  39.194540 thetaThree: 158.797340\n"
          ],
          "name": "stdout"
        }
      ]
    },
    {
      "cell_type": "markdown",
      "metadata": {
        "id": "l1BD_tb9uc9E",
        "colab_type": "text"
      },
      "source": [
        "* Gradient descent algorithm \n",
        "* list.append 함수를 사용하여 optimization 단계마다 각각의 값 저장\n",
        "* 100cycle 주기로 출력\n",
        "* Optimal한 linear함수 finalY 정의"
      ]
    },
    {
      "cell_type": "code",
      "metadata": {
        "id": "-iTFEbPIS955",
        "colab_type": "code",
        "colab": {
          "base_uri": "https://localhost:8080/",
          "height": 517
        },
        "outputId": "ddcdf6ce-4738-4b0f-ebc1-5fdd85970d72"
      },
      "source": [
        "plt.figure(figsize=(8, 8)) # 그래프 사이즈 조절\n",
        "plt.title('Linear function')\n",
        "plt.xlabel('X AXIS')\n",
        "plt.ylabel('Y AXIS')\n",
        "plt.plot(x, h, 'o', c = 'black', alpha = 0.5)\n",
        "plt.show()"
      ],
      "execution_count": 148,
      "outputs": [
        {
          "output_type": "display_data",
          "data": {
            "image/png": "[encoded data removed]",
            "text/plain": [
              "<Figure size 576x576 with 1 Axes>"
            ]
          },
          "metadata": {
            "tags": []
          }
        }
      ]
    }
  ]
}