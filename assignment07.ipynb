{
  "nbformat": 4,
  "nbformat_minor": 0,
  "metadata": {
    "colab": {
      "name": "assignment07.ipynb",
      "provenance": [],
      "collapsed_sections": [],
      "authorship_tag": "ABX9TyPFH7Opn6BgkM4ucFA8AiW6",
      "include_colab_link": true
    },
    "kernelspec": {
      "name": "python3",
      "display_name": "Python 3"
    }
  },
  "cells": [
    {
      "cell_type": "markdown",
      "metadata": {
        "id": "view-in-github",
        "colab_type": "text"
      },
      "source": [
        "<a href=\"https://colab.research.google.com/github/YangTaeSung/CAU-MachineLearning/blob/master/assignment07.ipynb\" target=\"_parent\"><img src=\"https://colab.research.google.com/assets/colab-badge.svg\" alt=\"Open In Colab\"/></a>"
      ]
    },
    {
      "cell_type": "code",
      "metadata": {
        "id": "HlfN_cHUTXdy",
        "colab_type": "code",
        "outputId": "5e56bf06-1a1d-4bdc-9e99-c29483fbff8a",
        "colab": {
          "base_uri": "https://localhost:8080/",
          "height": 299
        }
      },
      "source": [
        "'''\n",
        "import numpy as np\n",
        "import matplotlib.pyplot as plt\n",
        "import numpy.matlib\n",
        "\n",
        "data    = np.genfromtxt(\"data-nonlinear.txt\", delimiter=',')\n",
        "\n",
        "pointX  = data[:, 0]\n",
        "pointY  = data[:, 1]\n",
        "label   = data[:, 2]\n",
        "\n",
        "pointX0 = pointX[label == 0]\n",
        "pointY0 = pointY[label == 0]\n",
        "\n",
        "pointX1 = pointX[label == 1]\n",
        "pointY1 = pointY[label == 1]\n",
        "\n",
        "plt.figure()\n",
        "plt.scatter(pointX0, pointY0, c='b')\n",
        "plt.scatter(pointX1, pointY1, c='r')\n",
        "plt.tight_layout()\n",
        "plt.gca().set_aspect('equal', adjustable='box')\n",
        "plt.show()\n",
        "\n",
        "'''\n",
        "import numpy as np\n",
        "import matplotlib.pyplot as plt\n",
        "import pandas as pd\n",
        "from scipy.optimize import fmin_tnc\n",
        "\n",
        "\n",
        "def load_data(path, header):\n",
        "    marks_df = pd.read_csv(path, header=header)\n",
        "    return marks_df\n",
        "\n",
        "\n",
        "if __name__ == \"__main__\":\n",
        "    # load the data from the file\n",
        "    load_data = load_data(\"data-nonlinear.txt\", None)\n",
        "    data = load_data[:100] # 100번 인덱스까지 training data\n",
        "    testing_data = load_data.iloc[100:118, 0:3] # 나머지 testing data\n",
        "\n",
        "    print(len(data))\n",
        "    print(len(testing_data))\n",
        "\n",
        "    # xy = feature values, all the columns except the last column\n",
        "    xy = data.iloc[:, :-1]\n",
        "\n",
        "    # label = target values, last column of the data frame\n",
        "    label = data.iloc[:, -1]\n",
        "\n",
        "    # filter out the applicants that got admitted\n",
        "    admitted = data.loc[label == 1]\n",
        "\n",
        "    # filter out the applicants that din't get admission\n",
        "    not_admitted = data.loc[label == 0]\n",
        "\n",
        "    # plots\n",
        "    plt.scatter(admitted.iloc[:, 0], admitted.iloc[:, 1], s=10, label='Admitted')\n",
        "    plt.scatter(not_admitted.iloc[:, 0], not_admitted.iloc[:, 1], s=10, label='Not Admitted')\n",
        "    plt.legend()\n",
        "    plt.show()\n",
        "    "
      ],
      "execution_count": 59,
      "outputs": [
        {
          "output_type": "stream",
          "text": [
            "100\n",
            "18\n"
          ],
          "name": "stdout"
        },
        {
          "output_type": "display_data",
          "data": {
            "image/png": "[encoded data removed]",
            "text/plain": [
              "<Figure size 432x288 with 1 Axes>"
            ]
          },
          "metadata": {
            "tags": [],
            "needs_background": "light"
          }
        }
      ]
    },
    {
      "cell_type": "code",
      "metadata": {
        "id": "GKIR2e_sK_Sr",
        "colab_type": "code",
        "colab": {}
      },
      "source": [
        "m = len(data) # data 개수\n",
        "cycle = 1000 # cycle 수\n",
        "\n",
        "# theta값 초기화\n",
        "theta = []\n",
        "\n",
        "for i in range(m):\n",
        "  theta.append(0)\n"
      ],
      "execution_count": 0,
      "outputs": []
    },
    {
      "cell_type": "code",
      "metadata": {
        "id": "pFTUZ8HBNXTM",
        "colab_type": "code",
        "colab": {}
      },
      "source": [
        "def h(x):\n",
        "    # 0과 1 사이의 모든 실제 값을 매핑하는 데 사용되는 활성화 함수 (sigmoid)\n",
        "    return 1 / (1 + np.exp(-x))\n",
        "\n",
        "def costFunction(thetaArray, trainArray, labelArray):\n",
        "    J = (-1/m) * np.sum(np.multiply(labelArray, np.log(sigmoid(np.multiply(trainArray,thetaArray)))) \n",
        "        + np.multiply((1-labelArray), np.log(1 - sigmoid(np.multiply(trainArray,thetaArray))))\n",
        "    return J"
      ],
      "execution_count": 0,
      "outputs": []
    },
    {
      "cell_type": "code",
      "metadata": {
        "id": "4YiiPOGN8DLo",
        "colab_type": "code",
        "colab": {
          "base_uri": "https://localhost:8080/",
          "height": 252
        },
        "outputId": "e21fb4c8-0e5b-472c-d667-6258e1e860f6"
      },
      "source": [
        "# Gradient descent 시작\n",
        "for i in range(cycle):\n",
        "\n",
        "  loss = costFunction()\n",
        "\n",
        "\n",
        "  # Optimization은 Training data로 진행\n",
        "  thetaZero = thetaZero - learningLate / noiseNum * np.sum((thetaOne*x + thetaTwo*y + thetaThree*z - h + thetaZero))\n",
        "  thetaOne = thetaOne - learningLate / noiseNum * np.sum((thetaOne*x + thetaTwo*y + thetaThree*z - h + thetaZero)*x)\n",
        "  thetaTwo = thetaTwo - learningLate / noiseNum * np.sum((thetaOne*x + thetaTwo*y + thetaThree*z - h + thetaZero)*y)\n",
        "  thetaThree = thetaThree - learningLate / noiseNum * np.sum((thetaOne*x + thetaTwo*y + thetaThree*z - h + thetaZero)*z)\n",
        "  \n",
        "  # Loss를 표현한 그래프의 범위가 너무 커서 Loss의 변이가 명확히 확인되지 않아 첫번째 사이클은 그래프에서 제외시켰습니다. \n",
        "  if i > 0:\n",
        "      jTestingForGraph.append(jTesting)\n",
        "      iForGraph.append(i)\n",
        "      jForGraph.append(j)\n",
        "  \n",
        "  if i == 3999:\n",
        "      jTestingForGraph.append(jTesting)\n",
        "      iForGraph.append(i)\n",
        "      jForGraph.append(j)\n",
        "  \n",
        "  newThetaZero.append(thetaZero)\n",
        "  newThetaOne.append(thetaOne)\n",
        "  newThetaTwo.append(thetaTwo)\n",
        "  newThetaThree.append(thetaThree)\n",
        "  \n",
        "  if i % 200 == 0:\n",
        "        print('cycle : {:10d} cost: {:10f} thetaZero: {:10f} thetaOne: {:10f} thetaTwo: {:10f} thetaThree: {:10f}'.format(i, j, thetaZero, thetaOne, thetaTwo, thetaThree))\n",
        "\n",
        "finalY = thetaZero + thetaOne * x + thetaTwo * y + thetaThree * z"
      ],
      "execution_count": 61,
      "outputs": [
        {
          "output_type": "error",
          "ename": "NameError",
          "evalue": "ignored",
          "traceback": [
            "\u001b[0;31m---------------------------------------------------------------------------\u001b[0m",
            "\u001b[0;31mNameError\u001b[0m                                 Traceback (most recent call last)",
            "\u001b[0;32m<ipython-input-61-ce887d9c6913>\u001b[0m in \u001b[0;36m<module>\u001b[0;34m()\u001b[0m\n\u001b[0;32m----> 1\u001b[0;31m \u001b[0;32mfor\u001b[0m \u001b[0mi\u001b[0m \u001b[0;32min\u001b[0m \u001b[0mrange\u001b[0m\u001b[0;34m(\u001b[0m\u001b[0mcycle\u001b[0m\u001b[0;34m)\u001b[0m\u001b[0;34m:\u001b[0m\u001b[0;34m\u001b[0m\u001b[0;34m\u001b[0m\u001b[0m\n\u001b[0m\u001b[1;32m      2\u001b[0m \u001b[0;34m\u001b[0m\u001b[0m\n\u001b[1;32m      3\u001b[0m   \u001b[0mf\u001b[0m \u001b[0;34m=\u001b[0m \u001b[0mthetaZero\u001b[0m \u001b[0;34m+\u001b[0m \u001b[0mthetaOne\u001b[0m \u001b[0;34m*\u001b[0m \u001b[0mx\u001b[0m \u001b[0;34m+\u001b[0m \u001b[0mthetaTwo\u001b[0m \u001b[0;34m*\u001b[0m \u001b[0my\u001b[0m \u001b[0;34m+\u001b[0m \u001b[0mthetaThree\u001b[0m \u001b[0;34m*\u001b[0m \u001b[0mz\u001b[0m\u001b[0;34m\u001b[0m\u001b[0;34m\u001b[0m\u001b[0m\n\u001b[1;32m      4\u001b[0m   \u001b[0mfTesting\u001b[0m \u001b[0;34m=\u001b[0m \u001b[0mthetaZero\u001b[0m \u001b[0;34m+\u001b[0m \u001b[0mthetaOne\u001b[0m \u001b[0;34m*\u001b[0m \u001b[0mxTesting\u001b[0m \u001b[0;34m+\u001b[0m \u001b[0mthetaTwo\u001b[0m \u001b[0;34m*\u001b[0m \u001b[0myTesting\u001b[0m \u001b[0;34m+\u001b[0m \u001b[0mthetaThree\u001b[0m \u001b[0;34m*\u001b[0m \u001b[0mzTesting\u001b[0m\u001b[0;34m\u001b[0m\u001b[0;34m\u001b[0m\u001b[0m\n\u001b[1;32m      5\u001b[0m   \u001b[0mj\u001b[0m \u001b[0;34m=\u001b[0m \u001b[0mnp\u001b[0m\u001b[0;34m.\u001b[0m\u001b[0msum\u001b[0m\u001b[0;34m(\u001b[0m\u001b[0;34m(\u001b[0m\u001b[0mf\u001b[0m \u001b[0;34m-\u001b[0m \u001b[0mh\u001b[0m\u001b[0;34m)\u001b[0m \u001b[0;34m**\u001b[0m \u001b[0;36m2\u001b[0m\u001b[0;34m)\u001b[0m \u001b[0;34m/\u001b[0m \u001b[0;34m(\u001b[0m\u001b[0;36m2\u001b[0m \u001b[0;34m*\u001b[0m \u001b[0mnoiseNum\u001b[0m\u001b[0;34m)\u001b[0m\u001b[0;34m\u001b[0m\u001b[0;34m\u001b[0m\u001b[0m\n",
            "\u001b[0;31mNameError\u001b[0m: name 'cycle' is not defined"
          ]
        }
      ]
    },
    {
      "cell_type": "code",
      "metadata": {
        "id": "qyxpAJoqVKyY",
        "colab_type": "code",
        "colab": {}
      },
      "source": [
        "'''X = np.c_[np.ones((X.shape[0], 1)), X]\n",
        "y = y[:, np.newaxis]\n",
        "theta = np.zeros((X.shape[1], 1))'''"
      ],
      "execution_count": 0,
      "outputs": []
    },
    {
      "cell_type": "code",
      "metadata": {
        "id": "XYg-N9q9vupb",
        "colab_type": "code",
        "colab": {}
      },
      "source": [
        "'''def sigmoid(x):\n",
        "    # 0과 1 사이의 모든 실제 값을 매핑하는 데 사용되는 활성화 함수 \n",
        "    return 1 / (1 + np.exp(-x))\n",
        "\n",
        "def net_input(theta, x):\n",
        "    # 가중 된 입력 합계를 계산합니다.\n",
        "    return np.dot(x, theta)\n",
        "\n",
        "def costFunction(theta, X_train, Y_train):\n",
        "    J = (-1/m) * np.sum(np.multiply(Y_train, np.log(sigmoid(np.multiply(X_train,theta)))) \n",
        "        + np.multiply((1-Y_train), np.log(1 - sigmoid(np.multiply(X_train,theta))))\n",
        "    return J\n",
        "\n",
        "def probability(theta, x):\n",
        "    # Returns the probability after passing through sigmoid\n",
        "    return sigmoid(net_input(theta, x))\n",
        "    '''"
      ],
      "execution_count": 0,
      "outputs": []
    },
    {
      "cell_type": "code",
      "metadata": {
        "id": "XQAId_4CBuW6",
        "colab_type": "code",
        "colab": {}
      },
      "source": [
        "'''\n",
        "def prediction(w, Data):\n",
        "    pred = []\n",
        "    z = np.dot(w,Data)\n",
        "    a = sigmoid(z)\n",
        "    for i in range(0,len(a[0])):\n",
        "        if (a[0][i] > 0.5): \n",
        "            pred.append(1)\n",
        "        elif (a[0][i] <= 0.5):\n",
        "            pred.append(-1)\n",
        "    return pred\n",
        "'''\n",
        "\n",
        "'''def cost_function(theta, x, y):\n",
        "    # Computes the cost function for all the training samples\n",
        "    m = x.shape[0]\n",
        "    total_cost = -(1 / m) * np.sum(\n",
        "        y * np.log(probability(theta, x)) + (1 - y) * np.log(\n",
        "            1 - probability(theta, x)))\n",
        "    return total_cost\n",
        "\n",
        "def gradient(theta, x, y):\n",
        "    # Computes the gradient of the cost function at the point theta\n",
        "    m = x.shape[0]\n",
        "    return (1 / m) * np.dot(x.T, sigmoid(net_input(theta,   x)) - y)\n",
        "    '''"
      ],
      "execution_count": 0,
      "outputs": []
    },
    {
      "cell_type": "code",
      "metadata": {
        "id": "1vsezx1pUz9I",
        "colab_type": "code",
        "colab": {}
      },
      "source": [
        "'''def fit(x, y, theta):\n",
        "    opt_weights = fmin_tnc(func=cost_function, x0=theta,\n",
        "                  fprime=gradient,args=(x, y.flatten()))\n",
        "    return opt_weights[0]\n",
        "parameters = fit(X, y, theta)\n",
        "'''"
      ],
      "execution_count": 0,
      "outputs": []
    },
    {
      "cell_type": "code",
      "metadata": {
        "id": "XT6uvSf2U5VB",
        "colab_type": "code",
        "colab": {}
      },
      "source": [
        "'''x_values = [np.min(X[:, 1]), np.max(X[:, 2])]\n",
        "y_values = - (parameters[0] + np.dot(parameters[1], x_values)) / parameters[2]\n",
        "print(x_values)\n",
        "print(y_values)\n",
        "\n",
        "\n",
        "plt.plot(x_values, y_values, label='Decision Boundary')\n",
        "plt.scatter(admitted.iloc[:, 0], admitted.iloc[:, 1], s=10, label='Admitted')\n",
        "plt.scatter(not_admitted.iloc[:, 0], not_admitted.iloc[:, 1], s=10, label='Not Admitted')\n",
        "plt.xlabel('Marks in 1st Exam')\n",
        "plt.ylabel('Marks in 2nd Exam')\n",
        "plt.legend()\n",
        "plt.show()\n",
        "'''"
      ],
      "execution_count": 0,
      "outputs": []
    }
  ]
}