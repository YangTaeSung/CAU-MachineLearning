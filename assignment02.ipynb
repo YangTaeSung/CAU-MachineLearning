{
  "nbformat": 4,
  "nbformat_minor": 0,
  "metadata": {
    "colab": {
      "name": "assignment02.ipynb",
      "provenance": [],
      "collapsed_sections": [],
      "authorship_tag": "ABX9TyOEhMn4QTvq9aBmIBgxLzDP",
      "include_colab_link": true
    },
    "kernelspec": {
      "name": "python3",
      "display_name": "Python 3"
    }
  },
  "cells": [
    {
      "cell_type": "markdown",
      "metadata": {
        "id": "view-in-github",
        "colab_type": "text"
      },
      "source": [
        "<a href=\"https://colab.research.google.com/github/YangTaeSung/CAU-MachineLearning/blob/master/assignment02.ipynb\" target=\"_parent\"><img src=\"https://colab.research.google.com/assets/colab-badge.svg\" alt=\"Open In Colab\"/></a>"
      ]
    },
    {
      "cell_type": "code",
      "metadata": {
        "id": "mlKumgoTuKJS",
        "colab_type": "code",
        "colab": {}
      },
      "source": [
        "import matplotlib.pyplot as plt\n",
        "import numpy as np\n",
        "import random"
      ],
      "execution_count": 0,
      "outputs": []
    },
    {
      "cell_type": "code",
      "metadata": {
        "id": "GUGQd7XO824B",
        "colab_type": "code",
        "colab": {}
      },
      "source": [
        "noiseNum = 10\n",
        "x = np.linspace(0, 5, noiseNum)\n",
        "y = x + 1"
      ],
      "execution_count": 0,
      "outputs": []
    },
    {
      "cell_type": "markdown",
      "metadata": {
        "id": "ZAmTp06tigkI",
        "colab_type": "text"
      },
      "source": [
        "* noise의 개수 10개  \n",
        "* linear 함수 표현\n"
      ]
    },
    {
      "cell_type": "code",
      "metadata": {
        "id": "4OvkUKtSjCvw",
        "colab_type": "code",
        "colab": {}
      },
      "source": [
        "for i in range(0,noiseNum):\n",
        "  noise = random.uniform(-1,1)\n",
        "  noiseY[i] = y[i] + noise"
      ],
      "execution_count": 0,
      "outputs": []
    },
    {
      "cell_type": "markdown",
      "metadata": {
        "id": "J8vhwedHjDmi",
        "colab_type": "text"
      },
      "source": [
        "* y값에서 -1~1의 편차를 두고 랜덤값 생성하여 noiseY값 적용 "
      ]
    },
    {
      "cell_type": "code",
      "metadata": {
        "id": "Qnb7HNAQI5Hc",
        "colab_type": "code",
        "colab": {}
      },
      "source": [
        "thetaZero = 0.0\n",
        "thetaOne = 0.0"
      ],
      "execution_count": 0,
      "outputs": []
    },
    {
      "cell_type": "markdown",
      "metadata": {
        "id": "cCuPfPwdJJXY",
        "colab_type": "text"
      },
      "source": [
        "* 세타값 초기화(learning 시작점)"
      ]
    },
    {
      "cell_type": "code",
      "metadata": {
        "id": "ZHHIAaVmJeP-",
        "colab_type": "code",
        "colab": {}
      },
      "source": [
        "cycle = 1000\n",
        "learningLate = 0.03"
      ],
      "execution_count": 0,
      "outputs": []
    },
    {
      "cell_type": "code",
      "metadata": {
        "id": "Okm4QgveKrO7",
        "colab_type": "code",
        "colab": {
          "base_uri": "https://localhost:8080/",
          "height": 357
        },
        "outputId": "3a1dd564-188d-4c9c-b115-3a0743ba3c8e"
      },
      "source": [
        "for i in range(cycle):\n",
        "  h = thetaZero + thetaOne * x\n",
        "  j = np.sum((h - noiseY) ** 2) / (2 * noiseNum)\n",
        "  thetaZero = thetaZero - learningLate / noiseNum * np.sum((thetaOne * x - noiseY + thetaZero))\n",
        "  thetaOne = thetaOne - learningLate / noiseNum * np.sum((thetaOne * x - noiseY + thetaZero) * x)\n",
        "\n",
        "  if i % 50 == 0:\n",
        "        print('cycle : {:10d} cost: {:10f}'.format(i, j))"
      ],
      "execution_count": 188,
      "outputs": [
        {
          "output_type": "stream",
          "text": [
            "cycle :          0 cost:   6.394170\n",
            "cycle :         50 cost:   0.164395\n",
            "cycle :        100 cost:   0.162411\n",
            "cycle :        150 cost:   0.161539\n",
            "cycle :        200 cost:   0.161155\n",
            "cycle :        250 cost:   0.160986\n",
            "cycle :        300 cost:   0.160912\n",
            "cycle :        350 cost:   0.160879\n",
            "cycle :        400 cost:   0.160865\n",
            "cycle :        450 cost:   0.160859\n",
            "cycle :        500 cost:   0.160856\n",
            "cycle :        550 cost:   0.160855\n",
            "cycle :        600 cost:   0.160854\n",
            "cycle :        650 cost:   0.160854\n",
            "cycle :        700 cost:   0.160854\n",
            "cycle :        750 cost:   0.160854\n",
            "cycle :        800 cost:   0.160854\n",
            "cycle :        850 cost:   0.160854\n",
            "cycle :        900 cost:   0.160854\n",
            "cycle :        950 cost:   0.160854\n"
          ],
          "name": "stdout"
        }
      ]
    },
    {
      "cell_type": "code",
      "metadata": {
        "id": "3CN158Ou83cj",
        "colab_type": "code",
        "outputId": "065457b6-c3e3-4bd1-ca25-e47b39af545b",
        "colab": {
          "base_uri": "https://localhost:8080/",
          "height": 295
        }
      },
      "source": [
        "plt.plot(x, y, \"BLUE\")\n",
        "plt.scatter(x,noiseY,c='black', s=50)\n",
        "plt.title('Linear function')\n",
        "plt.xlabel('X AXIS')\n",
        "plt.ylabel('Y AXIS')\n",
        "plt.show()\n",
        "\n",
        "\n"
      ],
      "execution_count": 189,
      "outputs": [
        {
          "output_type": "display_data",
          "data": {
            "image/png": "[encoded data removed]",
            "text/plain": [
              "<Figure size 432x288 with 1 Axes>"
            ]
          },
          "metadata": {
            "tags": []
          }
        }
      ]
    }
  ]
}