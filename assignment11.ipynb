{
  "nbformat": 4,
  "nbformat_minor": 0,
  "metadata": {
    "colab": {
      "name": "assignment11.ipynb",
      "provenance": [],
      "collapsed_sections": [],
      "mount_file_id": "1-hsg_RVKiSi5_qp9WRwoMSPVVyYg7K5E",
      "authorship_tag": "ABX9TyNs5D+ZgUpbKkUcQdNo4Vaw",
      "include_colab_link": true
    },
    "kernelspec": {
      "name": "python3",
      "display_name": "Python 3"
    }
  },
  "cells": [
    {
      "cell_type": "markdown",
      "metadata": {
        "id": "view-in-github",
        "colab_type": "text"
      },
      "source": [
        "<a href=\"https://colab.research.google.com/github/YangTaeSung/CAU-MachineLearning/blob/master/assignment11.ipynb\" target=\"_parent\"><img src=\"https://colab.research.google.com/assets/colab-badge.svg\" alt=\"Open In Colab\"/></a>"
      ]
    },
    {
      "cell_type": "code",
      "metadata": {
        "id": "8FqtNXIeoFzS",
        "colab_type": "code",
        "colab": {
          "base_uri": "https://localhost:8080/",
          "height": 34
        },
        "outputId": "90101e86-317a-471f-da06-fd4ab1b10a9e"
      },
      "source": [
        "'''from google.colab import drive\n",
        "drive.mount('content/drive')'''"
      ],
      "execution_count": 962,
      "outputs": [
        {
          "output_type": "execute_result",
          "data": {
            "text/plain": [
              "\"from google.colab import drive\\ndrive.mount('content/drive')\""
            ]
          },
          "metadata": {
            "tags": []
          },
          "execution_count": 962
        }
      ]
    },
    {
      "cell_type": "code",
      "metadata": {
        "id": "ZXs0PXL_XleM",
        "colab_type": "code",
        "colab": {
          "base_uri": "https://localhost:8080/",
          "height": 85
        },
        "outputId": "c0d79430-dd8f-46a7-e8c5-845a74509505"
      },
      "source": [
        "import numpy as np\n",
        "import re\n",
        "import nltk\n",
        "from sklearn.datasets import load_files\n",
        "nltk.download('stopwords')\n",
        "nltk.download('wordnet')\n",
        "import pickle\n",
        "from nltk.corpus import stopwords\n",
        "from nltk.stem import WordNetLemmatizer\n",
        "from sklearn.feature_extraction.text import CountVectorizer\n",
        "from sklearn.feature_extraction.text import TfidfTransformer\n",
        "from sklearn.model_selection import train_test_split\n",
        "from tensorflow.keras.callbacks import ModelCheckpoint, EarlyStopping\n",
        "import os\n",
        "from sklearn.metrics import classification_report, confusion_matrix, accuracy_score\n",
        "\n",
        "\n",
        "review_data = load_files(r\"/content/drive/My Drive/movie_review\")\n",
        "X, y = review_data.data, review_data.target\n",
        "\n",
        "documents = []\n",
        "\n",
        "stemmer = WordNetLemmatizer()\n",
        "\n",
        "for sen in range(0, len(X)):\n",
        "    # Remove all the special characters\n",
        "    document = re.sub(r'\\W', ' ', str(X[sen]))\n",
        "    \n",
        "    # remove all single characters\n",
        "    document = re.sub(r'\\s+[a-zA-Z]\\s+', ' ', document)\n",
        "    \n",
        "    # Remove single characters from the start\n",
        "    document = re.sub(r'\\^[a-zA-Z]\\s+', ' ', document) \n",
        "    \n",
        "    # Substituting multiple spaces with single space\n",
        "    document = re.sub(r'\\s+', ' ', document, flags=re.I)\n",
        "    \n",
        "    # Removing prefixed 'b'\n",
        "    document = re.sub(r'^b\\s+', '', document)\n",
        "    \n",
        "    # Converting to Lowercase\n",
        "    document = document.lower()\n",
        "    \n",
        "    # Lemmatization\n",
        "    document = document.split()\n",
        "    document = [stemmer.lemmatize(word) for word in document]\n",
        "    document = ' '.join(document)\n",
        "    \n",
        "    documents.append(document)\n",
        "\n",
        "vectorizer = CountVectorizer(max_features=1000, min_df=5, max_df=0.7, stop_words=stopwords.words('english'))\n",
        "X = vectorizer.fit_transform(documents).toarray()\n",
        "\n",
        "tfidfconverter = TfidfTransformer()\n",
        "X = tfidfconverter.fit_transform(X).toarray()\n",
        "\n",
        "X_train, X_test, y_train, y_test = train_test_split(X, y, test_size=0.3, shuffle=False)"
      ],
      "execution_count": 963,
      "outputs": [
        {
          "output_type": "stream",
          "text": [
            "[nltk_data] Downloading package stopwords to /root/nltk_data...\n",
            "[nltk_data]   Package stopwords is already up-to-date!\n",
            "[nltk_data] Downloading package wordnet to /root/nltk_data...\n",
            "[nltk_data]   Package wordnet is already up-to-date!\n"
          ],
          "name": "stdout"
        }
      ]
    },
    {
      "cell_type": "code",
      "metadata": {
        "id": "aC8mQkwOe_Vw",
        "colab_type": "code",
        "colab": {
          "base_uri": "https://localhost:8080/",
          "height": 34
        },
        "outputId": "0c93a273-543b-4650-f629-fabd05b99f49"
      },
      "source": [
        "from __future__ import absolute_import, division, print_function, unicode_literals, unicode_literals\n",
        "\n",
        "# tensorflow와 tf.keras를 임포트합니다\n",
        "import tensorflow as tf\n",
        "from tensorflow import keras\n",
        "\n",
        "# 헬퍼(helper) 라이브러리를 임포트합니다\n",
        "import numpy as np\n",
        "import matplotlib.pyplot as plt\n",
        "\n",
        "print(tf.__version__)"
      ],
      "execution_count": 964,
      "outputs": [
        {
          "output_type": "stream",
          "text": [
            "2.2.0\n"
          ],
          "name": "stdout"
        }
      ]
    },
    {
      "cell_type": "code",
      "metadata": {
        "id": "BWYbmQ2hC8mC",
        "colab_type": "code",
        "colab": {}
      },
      "source": [
        "MODEL_SAVE_FOLDER_PATH = './model/'\n",
        "\n",
        "if not os.path.exists(MODEL_SAVE_FOLDER_PATH):\n",
        "  os.mkdir(MODEL_SAVE_FOLDER_PATH)\n",
        "\n",
        "model_path = MODEL_SAVE_FOLDER_PATH + '{epoch:02d}-{val_loss:.4f}.hdf5'\n",
        "\n",
        "cb_checkpoint = ModelCheckpoint(filepath=model_path, monitor='val_loss', verbose=1, save_best_only=True)\n",
        "\n",
        "cb_early_stopping = EarlyStopping(monitor='val_loss', patience=10)"
      ],
      "execution_count": 965,
      "outputs": []
    },
    {
      "cell_type": "code",
      "metadata": {
        "id": "erb67G7t1f36",
        "colab_type": "code",
        "colab": {}
      },
      "source": [
        "model = keras.Sequential([\n",
        "    keras.layers.Dense(175, activation='sigmoid'),\n",
        "    keras.layers.Dense(55, activation='sigmoid'),\n",
        "    #keras.layers.Dense(30, activation='sigmoid'),\n",
        "    #keras.layers.Dense(10, activation='sigmoid'),\n",
        "    keras.layers.Dense(2, activation='sigmoid'),\n",
        "])"
      ],
      "execution_count": 966,
      "outputs": []
    },
    {
      "cell_type": "code",
      "metadata": {
        "id": "vQSFu3sJ1o_Y",
        "colab_type": "code",
        "colab": {}
      },
      "source": [
        "model.compile(optimizer='adam',\n",
        "              loss='sparse_categorical_crossentropy',\n",
        "              metrics=['accuracy'])"
      ],
      "execution_count": 967,
      "outputs": []
    },
    {
      "cell_type": "code",
      "metadata": {
        "id": "mpi1kigo1q0q",
        "colab_type": "code",
        "colab": {
          "base_uri": "https://localhost:8080/",
          "height": 1000
        },
        "outputId": "dbf12d9d-01f9-478e-ca17-b7407e05c172"
      },
      "source": [
        "history = model.fit(X_train, y_train, validation_data=(X_test, y_test),\n",
        "          epochs=50, batch_size=200, verbose=0,\n",
        "          callbacks=[cb_checkpoint, cb_early_stopping])\n"
      ],
      "execution_count": 968,
      "outputs": [
        {
          "output_type": "stream",
          "text": [
            "\n",
            "Epoch 00001: val_loss improved from inf to 0.69698, saving model to ./model/01-0.6970.hdf5\n",
            "\n",
            "Epoch 00002: val_loss improved from 0.69698 to 0.69474, saving model to ./model/02-0.6947.hdf5\n",
            "\n",
            "Epoch 00003: val_loss improved from 0.69474 to 0.69266, saving model to ./model/03-0.6927.hdf5\n",
            "\n",
            "Epoch 00004: val_loss improved from 0.69266 to 0.69107, saving model to ./model/04-0.6911.hdf5\n",
            "\n",
            "Epoch 00005: val_loss did not improve from 0.69107\n",
            "\n",
            "Epoch 00006: val_loss did not improve from 0.69107\n",
            "\n",
            "Epoch 00007: val_loss improved from 0.69107 to 0.68946, saving model to ./model/07-0.6895.hdf5\n",
            "\n",
            "Epoch 00008: val_loss improved from 0.68946 to 0.68878, saving model to ./model/08-0.6888.hdf5\n",
            "\n",
            "Epoch 00009: val_loss improved from 0.68878 to 0.68737, saving model to ./model/09-0.6874.hdf5\n",
            "\n",
            "Epoch 00010: val_loss improved from 0.68737 to 0.68658, saving model to ./model/10-0.6866.hdf5\n",
            "\n",
            "Epoch 00011: val_loss improved from 0.68658 to 0.68457, saving model to ./model/11-0.6846.hdf5\n",
            "\n",
            "Epoch 00012: val_loss improved from 0.68457 to 0.68180, saving model to ./model/12-0.6818.hdf5\n",
            "\n",
            "Epoch 00013: val_loss improved from 0.68180 to 0.67876, saving model to ./model/13-0.6788.hdf5\n",
            "\n",
            "Epoch 00014: val_loss improved from 0.67876 to 0.67257, saving model to ./model/14-0.6726.hdf5\n",
            "\n",
            "Epoch 00015: val_loss improved from 0.67257 to 0.66492, saving model to ./model/15-0.6649.hdf5\n",
            "\n",
            "Epoch 00016: val_loss improved from 0.66492 to 0.65451, saving model to ./model/16-0.6545.hdf5\n",
            "\n",
            "Epoch 00017: val_loss improved from 0.65451 to 0.64175, saving model to ./model/17-0.6418.hdf5\n",
            "\n",
            "Epoch 00018: val_loss improved from 0.64175 to 0.62355, saving model to ./model/18-0.6236.hdf5\n",
            "\n",
            "Epoch 00019: val_loss improved from 0.62355 to 0.60580, saving model to ./model/19-0.6058.hdf5\n",
            "\n",
            "Epoch 00020: val_loss improved from 0.60580 to 0.58534, saving model to ./model/20-0.5853.hdf5\n",
            "\n",
            "Epoch 00021: val_loss improved from 0.58534 to 0.56469, saving model to ./model/21-0.5647.hdf5\n",
            "\n",
            "Epoch 00022: val_loss improved from 0.56469 to 0.54339, saving model to ./model/22-0.5434.hdf5\n",
            "\n",
            "Epoch 00023: val_loss improved from 0.54339 to 0.52416, saving model to ./model/23-0.5242.hdf5\n",
            "\n",
            "Epoch 00024: val_loss improved from 0.52416 to 0.50571, saving model to ./model/24-0.5057.hdf5\n",
            "\n",
            "Epoch 00025: val_loss improved from 0.50571 to 0.49049, saving model to ./model/25-0.4905.hdf5\n",
            "\n",
            "Epoch 00026: val_loss improved from 0.49049 to 0.47921, saving model to ./model/26-0.4792.hdf5\n",
            "\n",
            "Epoch 00027: val_loss improved from 0.47921 to 0.47031, saving model to ./model/27-0.4703.hdf5\n",
            "\n",
            "Epoch 00028: val_loss improved from 0.47031 to 0.45353, saving model to ./model/28-0.4535.hdf5\n",
            "\n",
            "Epoch 00029: val_loss improved from 0.45353 to 0.44789, saving model to ./model/29-0.4479.hdf5\n",
            "\n",
            "Epoch 00030: val_loss improved from 0.44789 to 0.44293, saving model to ./model/30-0.4429.hdf5\n",
            "\n",
            "Epoch 00031: val_loss improved from 0.44293 to 0.43908, saving model to ./model/31-0.4391.hdf5\n",
            "\n",
            "Epoch 00032: val_loss improved from 0.43908 to 0.42891, saving model to ./model/32-0.4289.hdf5\n",
            "\n",
            "Epoch 00033: val_loss improved from 0.42891 to 0.42647, saving model to ./model/33-0.4265.hdf5\n",
            "\n",
            "Epoch 00034: val_loss improved from 0.42647 to 0.42364, saving model to ./model/34-0.4236.hdf5\n",
            "\n",
            "Epoch 00035: val_loss improved from 0.42364 to 0.42103, saving model to ./model/35-0.4210.hdf5\n",
            "\n",
            "Epoch 00036: val_loss improved from 0.42103 to 0.41882, saving model to ./model/36-0.4188.hdf5\n",
            "\n",
            "Epoch 00037: val_loss did not improve from 0.41882\n",
            "\n",
            "Epoch 00038: val_loss improved from 0.41882 to 0.41725, saving model to ./model/38-0.4173.hdf5\n",
            "\n",
            "Epoch 00039: val_loss did not improve from 0.41725\n",
            "\n",
            "Epoch 00040: val_loss did not improve from 0.41725\n",
            "\n",
            "Epoch 00041: val_loss did not improve from 0.41725\n",
            "\n",
            "Epoch 00042: val_loss did not improve from 0.41725\n",
            "\n",
            "Epoch 00043: val_loss did not improve from 0.41725\n",
            "\n",
            "Epoch 00044: val_loss did not improve from 0.41725\n",
            "\n",
            "Epoch 00045: val_loss did not improve from 0.41725\n",
            "\n",
            "Epoch 00046: val_loss did not improve from 0.41725\n",
            "\n",
            "Epoch 00047: val_loss did not improve from 0.41725\n",
            "\n",
            "Epoch 00048: val_loss did not improve from 0.41725\n"
          ],
          "name": "stdout"
        }
      ]
    },
    {
      "cell_type": "code",
      "metadata": {
        "id": "TmWUUBYM8baz",
        "colab_type": "code",
        "colab": {
          "base_uri": "https://localhost:8080/",
          "height": 1000
        },
        "outputId": "10d60e7c-c920-491b-fa3e-c8d347238b67"
      },
      "source": [
        "print('\\nAccuracy: {:.4f}'.format(model.evaluate(X_test, y_test)[1]))\n",
        "\n",
        "y_vloss = history.history['val_loss']\n",
        "y_loss = history.history['loss']\n",
        "y_vacc = history.history['val_accuracy']\n",
        "y_acc = history.history['accuracy']\n",
        "\n",
        "x_len = np.arange(len(y_loss))\n",
        "plt.figure(figsize=(8, 8)) # 그래프 사이즈 조절\n",
        "plt.plot(x_len, y_vloss, marker='.', c='red', label=\"Testing Loss\")\n",
        "plt.plot(x_len, y_loss, marker='.', c='blue', label=\"Training Loss\")\n",
        "\n",
        "plt.legend(loc='upper right')\n",
        "plt.grid()\n",
        "plt.xlabel('epoch')\n",
        "plt.ylabel('loss')\n",
        "plt.show()\n",
        "\n",
        "plt.figure(figsize=(8, 8)) # 그래프 사이즈 조절\n",
        "plt.plot(x_len, y_vacc, marker='.', c='red', label=\"Testing Loss\")\n",
        "plt.plot(x_len, y_acc, marker='.', c='blue', label=\"Training Loss\")\n",
        "\n",
        "plt.legend(loc='upper right')\n",
        "plt.grid()\n",
        "plt.xlabel('epoch')\n",
        "plt.ylabel('accuracy')\n",
        "plt.show()"
      ],
      "execution_count": 969,
      "outputs": [
        {
          "output_type": "stream",
          "text": [
            "20/20 [==============================] - 0s 2ms/step - loss: 0.4361 - accuracy: 0.7951\n",
            "\n",
            "Accuracy: 0.7951\n"
          ],
          "name": "stdout"
        },
        {
          "output_type": "display_data",
          "data": {
            "image/png": "[encoded data removed]",
            "text/plain": [
              "<Figure size 576x576 with 1 Axes>"
            ]
          },
          "metadata": {
            "tags": [],
            "needs_background": "light"
          }
        },
        {
          "output_type": "display_data",
          "data": {
            "image/png": "[encoded data removed]",
            "text/plain": [
              "<Figure size 576x576 with 1 Axes>"
            ]
          },
          "metadata": {
            "tags": [],
            "needs_background": "light"
          }
        }
      ]
    },
    {
      "cell_type": "code",
      "metadata": {
        "id": "RynYkB0ggpO3",
        "colab_type": "code",
        "colab": {
          "base_uri": "https://localhost:8080/",
          "height": 71
        },
        "outputId": "94252b7e-629e-4cc7-a897-8e28dd14651d"
      },
      "source": [
        "'''xhat = X_test[0:1]\n",
        "yhat = model.predict(xhat)\n",
        "print('## yhat ##')\n",
        "print(yhat)'''\n",
        "result1 = model.predict(X_train, batch_size=32)\n",
        "result2 = model.predict(X_test, batch_size=32)\n",
        "\n",
        "train_result = []\n",
        "test_result = []\n",
        "\n",
        "for i in range(1422):\n",
        "  if result1[i,0] < result1[i,1]:\n",
        "    train_result.append(1)\n",
        "  else: train_result.append(0)\n",
        "\n",
        "for i in range(610):\n",
        "  if result2[i,0] < result2[i,1]:\n",
        "    test_result.append(1)\n",
        "  else: test_result.append(0)\n",
        "\n",
        "print(train_result)\n",
        "print(test_result)"
      ],
      "execution_count": 970,
      "outputs": [
        {
          "output_type": "stream",
          "text": [
            "[1, 0, 1, 0, 1, 0, 1, 0, 0, 0, 1, 0, 1, 1, 1, 0, 1, 0, 0, 1, 1, 0, 1, 0, 0, 0, 1, 1, 1, 0, 0, 0, 0, 0, 0, 1, 0, 1, 1, 0, 1, 1, 1, 0, 0, 1, 1, 1, 0, 0, 1, 1, 1, 1, 0, 0, 1, 1, 0, 0, 1, 0, 0, 0, 1, 0, 0, 0, 1, 1, 1, 1, 1, 1, 0, 0, 0, 0, 1, 1, 0, 1, 0, 1, 1, 1, 1, 0, 1, 1, 0, 0, 1, 1, 0, 0, 0, 1, 0, 1, 1, 1, 0, 0, 0, 0, 1, 1, 1, 0, 0, 1, 0, 1, 1, 0, 1, 1, 0, 1, 1, 0, 0, 1, 0, 0, 1, 1, 1, 0, 0, 1, 0, 0, 0, 1, 1, 1, 1, 0, 1, 1, 1, 0, 0, 0, 0, 1, 1, 0, 0, 1, 0, 1, 0, 0, 0, 0, 1, 1, 0, 1, 0, 0, 1, 0, 1, 0, 0, 0, 1, 1, 1, 0, 0, 1, 0, 0, 0, 0, 0, 0, 1, 1, 1, 1, 0, 1, 0, 1, 0, 0, 0, 1, 1, 1, 0, 0, 1, 0, 1, 0, 1, 0, 0, 1, 0, 0, 1, 1, 0, 0, 0, 0, 1, 1, 0, 0, 1, 0, 1, 1, 0, 1, 1, 0, 1, 1, 1, 1, 0, 0, 1, 1, 0, 1, 1, 1, 0, 1, 0, 1, 0, 0, 0, 1, 0, 0, 1, 1, 0, 0, 1, 0, 1, 1, 0, 0, 0, 0, 1, 1, 1, 0, 1, 0, 0, 1, 0, 0, 0, 0, 0, 1, 1, 0, 1, 0, 0, 0, 0, 1, 1, 0, 1, 0, 0, 1, 1, 1, 1, 1, 1, 1, 1, 1, 1, 1, 0, 0, 1, 0, 0, 1, 1, 1, 1, 0, 0, 0, 0, 1, 1, 0, 0, 0, 0, 1, 1, 0, 0, 0, 0, 1, 0, 0, 1, 1, 0, 1, 0, 0, 0, 0, 1, 0, 1, 1, 1, 1, 0, 1, 0, 1, 0, 1, 0, 1, 0, 1, 1, 1, 1, 1, 0, 0, 0, 0, 1, 0, 0, 1, 0, 0, 0, 0, 1, 0, 0, 0, 0, 0, 0, 0, 1, 1, 1, 1, 0, 1, 0, 0, 1, 1, 0, 1, 1, 0, 0, 0, 1, 1, 0, 1, 1, 0, 1, 1, 1, 1, 0, 1, 1, 1, 0, 0, 1, 0, 1, 1, 1, 0, 1, 0, 1, 0, 0, 1, 1, 1, 0, 1, 1, 1, 0, 0, 1, 0, 1, 1, 0, 1, 1, 1, 1, 1, 0, 0, 0, 1, 0, 0, 0, 1, 1, 0, 1, 0, 0, 1, 0, 1, 1, 1, 1, 0, 0, 1, 0, 0, 1, 0, 1, 1, 1, 1, 0, 0, 0, 1, 1, 0, 1, 1, 1, 1, 0, 0, 0, 1, 0, 0, 1, 0, 0, 1, 0, 1, 1, 1, 1, 1, 0, 1, 1, 1, 0, 1, 0, 0, 0, 1, 0, 0, 1, 0, 0, 1, 1, 1, 0, 1, 0, 0, 1, 0, 0, 0, 1, 1, 0, 0, 0, 1, 1, 1, 1, 0, 1, 1, 0, 0, 1, 0, 0, 0, 1, 0, 0, 0, 0, 0, 1, 1, 0, 1, 1, 0, 0, 0, 1, 0, 1, 1, 0, 0, 1, 0, 0, 0, 1, 1, 0, 0, 1, 1, 0, 0, 0, 0, 0, 1, 1, 1, 1, 0, 1, 1, 0, 0, 1, 1, 0, 1, 0, 0, 0, 1, 0, 1, 1, 1, 0, 0, 0, 1, 0, 0, 0, 1, 0, 1, 0, 0, 1, 1, 0, 1, 0, 1, 1, 0, 1, 1, 0, 0, 0, 1, 1, 0, 1, 0, 0, 1, 0, 1, 1, 0, 0, 1, 0, 0, 0, 0, 1, 1, 1, 1, 1, 0, 0, 1, 0, 1, 0, 0, 0, 0, 0, 0, 0, 0, 0, 0, 1, 1, 0, 1, 1, 0, 0, 0, 1, 0, 1, 1, 0, 0, 1, 0, 1, 0, 0, 0, 1, 0, 0, 0, 1, 0, 1, 0, 0, 1, 0, 1, 1, 0, 0, 0, 1, 1, 1, 1, 1, 1, 1, 0, 0, 1, 0, 1, 0, 0, 0, 0, 1, 1, 1, 0, 1, 1, 0, 0, 1, 0, 1, 0, 0, 0, 0, 0, 0, 0, 1, 0, 1, 1, 0, 1, 1, 0, 0, 1, 0, 1, 0, 0, 0, 0, 1, 0, 0, 1, 1, 1, 1, 1, 0, 1, 0, 1, 0, 0, 0, 0, 0, 0, 0, 0, 1, 0, 0, 0, 1, 0, 1, 0, 0, 1, 0, 0, 0, 1, 0, 0, 0, 1, 0, 1, 1, 1, 1, 0, 1, 1, 1, 1, 0, 1, 0, 1, 0, 0, 1, 1, 1, 1, 0, 0, 1, 0, 0, 0, 1, 0, 0, 0, 0, 1, 1, 0, 1, 1, 1, 1, 1, 1, 0, 1, 0, 1, 0, 1, 1, 0, 1, 0, 1, 1, 0, 0, 0, 1, 0, 0, 1, 1, 1, 1, 1, 1, 1, 0, 1, 1, 1, 1, 1, 1, 0, 1, 1, 0, 1, 0, 1, 1, 0, 0, 1, 0, 0, 1, 0, 0, 0, 0, 0, 1, 1, 1, 1, 1, 1, 0, 1, 1, 1, 0, 1, 0, 1, 1, 1, 1, 0, 0, 0, 0, 1, 1, 0, 1, 1, 1, 0, 0, 0, 1, 0, 1, 0, 0, 1, 0, 1, 1, 0, 1, 0, 0, 0, 1, 1, 0, 0, 0, 1, 0, 0, 1, 0, 1, 1, 0, 0, 1, 1, 1, 1, 0, 1, 1, 0, 1, 0, 1, 0, 1, 0, 0, 0, 0, 0, 0, 0, 0, 1, 0, 1, 0, 0, 1, 0, 1, 0, 0, 0, 1, 0, 1, 0, 1, 1, 1, 1, 0, 1, 1, 0, 0, 0, 1, 0, 1, 1, 0, 1, 1, 1, 0, 1, 1, 1, 1, 0, 1, 1, 0, 0, 0, 0, 0, 1, 1, 1, 0, 1, 0, 0, 0, 1, 0, 1, 0, 0, 0, 0, 1, 0, 0, 0, 0, 1, 1, 0, 1, 0, 0, 0, 1, 1, 1, 0, 0, 0, 1, 1, 1, 0, 1, 0, 1, 1, 0, 1, 0, 1, 0, 0, 1, 0, 1, 0, 0, 0, 1, 0, 1, 0, 1, 0, 0, 1, 1, 1, 0, 1, 0, 1, 0, 0, 1, 1, 0, 1, 1, 0, 0, 1, 1, 0, 1, 0, 1, 0, 0, 0, 1, 1, 1, 0, 0, 1, 1, 0, 1, 1, 0, 0, 1, 1, 0, 0, 1, 0, 1, 1, 0, 1, 1, 0, 1, 0, 1, 1, 1, 0, 0, 1, 1, 1, 1, 0, 1, 0, 1, 0, 1, 1, 1, 0, 0, 1, 0, 1, 1, 0, 0, 0, 0, 1, 0, 1, 0, 0, 1, 1, 0, 0, 0, 0, 1, 1, 1, 1, 1, 0, 1, 1, 0, 1, 1, 0, 0, 1, 0, 0, 0, 1, 1, 0, 0, 0, 0, 0, 0, 0, 1, 1, 1, 0, 1, 1, 1, 1, 1, 1, 0, 0, 0, 1, 1, 1, 1, 0, 1, 1, 1, 0, 0, 0, 1, 0, 0, 1, 1, 0, 0, 0, 1, 0, 0, 1, 1, 1, 1, 0, 0, 1, 0, 0, 0, 1, 0, 1, 1, 0, 0, 0, 1, 0, 0, 1, 0, 1, 1, 0, 0, 0, 0, 1, 1, 0, 1, 1, 0, 1, 1, 0, 0, 0, 0, 0, 0, 1, 0, 0, 0, 1, 1, 0, 0, 0, 0, 0, 1, 1, 0, 0, 1, 1, 0, 1, 0, 0, 0, 0, 1, 1, 0, 1, 1, 0, 1, 1, 0, 1, 1, 1, 1, 1, 1, 0, 0, 1, 0, 0, 0, 0, 0, 1, 1, 0, 0, 1, 1, 0, 1, 1, 0, 0, 1, 0, 1, 0, 0, 1, 1, 0, 0, 0, 1, 0, 0, 1, 1, 1, 1, 0, 0, 0, 0, 0, 1, 1, 1, 1, 1, 1, 0, 0, 0, 0, 0, 1, 1, 0, 1, 0, 0, 1, 0, 1, 1, 1, 1, 1, 1, 0, 1, 0, 0, 0, 1, 1, 1, 0, 1, 1, 1, 1, 1, 0, 0, 1, 1, 0, 0, 0, 1, 1, 0, 1, 1, 0, 1, 0, 1, 1, 1, 1, 0, 1, 0, 0, 1, 0, 0, 0, 1, 1, 0, 1, 0, 1, 1, 0, 0, 1, 1, 0, 0, 1, 1, 0, 1, 1, 1, 1, 1, 1, 0, 0, 0, 0, 1, 1, 0, 0, 1]\n",
            "[1, 1, 0, 0, 1, 1, 1, 0, 0, 0, 0, 1, 1, 0, 0, 1, 1, 1, 1, 1, 0, 0, 0, 1, 0, 1, 0, 0, 1, 0, 1, 0, 0, 0, 1, 1, 0, 0, 0, 0, 1, 0, 0, 0, 0, 1, 0, 0, 0, 1, 0, 0, 0, 1, 1, 1, 1, 0, 1, 1, 0, 0, 1, 0, 0, 0, 1, 1, 1, 0, 1, 1, 0, 0, 1, 0, 0, 0, 1, 1, 0, 1, 1, 1, 1, 0, 1, 0, 0, 1, 1, 0, 1, 1, 0, 1, 0, 1, 0, 0, 1, 1, 1, 1, 1, 1, 1, 0, 0, 1, 1, 0, 1, 0, 0, 1, 0, 0, 0, 1, 1, 1, 0, 0, 1, 1, 1, 1, 1, 1, 0, 0, 1, 0, 1, 0, 0, 1, 1, 1, 1, 0, 1, 0, 0, 0, 0, 0, 1, 0, 0, 1, 1, 0, 0, 0, 0, 0, 1, 1, 0, 0, 1, 0, 0, 1, 1, 1, 0, 1, 0, 0, 1, 1, 0, 0, 0, 1, 1, 0, 0, 1, 0, 0, 1, 0, 1, 0, 1, 1, 0, 1, 0, 0, 0, 1, 0, 1, 1, 1, 1, 1, 1, 1, 1, 0, 0, 0, 1, 0, 1, 1, 1, 1, 1, 1, 0, 0, 0, 0, 1, 1, 1, 0, 0, 1, 1, 1, 0, 0, 1, 0, 0, 0, 1, 1, 0, 1, 1, 0, 0, 1, 1, 1, 1, 1, 0, 0, 0, 1, 0, 1, 0, 0, 1, 1, 1, 1, 1, 1, 1, 0, 0, 1, 1, 1, 1, 0, 0, 0, 0, 1, 0, 1, 1, 1, 0, 0, 1, 1, 0, 0, 0, 1, 1, 1, 1, 1, 0, 0, 0, 1, 1, 1, 1, 0, 0, 1, 0, 1, 1, 0, 1, 0, 1, 1, 1, 0, 1, 1, 0, 0, 1, 1, 1, 0, 0, 0, 0, 0, 1, 0, 1, 1, 1, 0, 1, 1, 0, 0, 0, 1, 1, 1, 1, 1, 1, 1, 1, 0, 1, 0, 1, 1, 1, 1, 1, 1, 0, 0, 1, 1, 1, 0, 1, 0, 1, 0, 1, 0, 1, 0, 1, 1, 1, 0, 1, 0, 1, 1, 0, 1, 1, 1, 1, 0, 0, 0, 1, 0, 1, 1, 1, 1, 1, 1, 1, 0, 0, 0, 1, 0, 1, 0, 0, 1, 1, 1, 0, 1, 0, 1, 0, 1, 0, 0, 1, 1, 1, 0, 0, 1, 1, 1, 0, 1, 1, 0, 1, 1, 1, 0, 1, 0, 0, 1, 1, 0, 0, 1, 0, 1, 1, 0, 0, 1, 1, 0, 1, 0, 0, 1, 1, 1, 0, 0, 0, 1, 0, 1, 0, 1, 0, 1, 0, 0, 0, 0, 0, 1, 1, 1, 1, 0, 1, 0, 1, 1, 0, 0, 1, 1, 1, 0, 0, 0, 1, 1, 0, 1, 0, 1, 1, 0, 1, 0, 1, 1, 1, 0, 1, 1, 0, 1, 0, 0, 0, 0, 0, 0, 1, 1, 0, 1, 1, 0, 1, 1, 1, 0, 0, 0, 1, 1, 0, 0, 1, 1, 1, 1, 0, 1, 1, 0, 0, 1, 0, 1, 1, 0, 0, 1, 1, 1, 0, 1, 0, 0, 0, 0, 1, 0, 1, 1, 1, 0, 0, 0, 1, 0, 1, 0, 0, 0, 0, 0, 1, 0, 0, 0, 1, 1, 0, 0, 1, 0, 0, 1, 1, 0, 0, 0, 1, 1, 1, 0, 0, 0, 1, 0, 0, 0, 1, 1, 0, 1, 0, 0, 1, 1, 1, 0, 1, 1, 1, 0, 0, 1, 1, 1, 1, 0, 1, 0, 0, 1, 1, 0, 0, 1]\n"
          ],
          "name": "stdout"
        }
      ]
    },
    {
      "cell_type": "code",
      "metadata": {
        "id": "blxAfw8GXqHN",
        "colab_type": "code",
        "colab": {
          "base_uri": "https://localhost:8080/",
          "height": 425
        },
        "outputId": "b8b4ae4b-a51b-4f5e-b6df-3cbdbcde2bcd"
      },
      "source": [
        "from sklearn.metrics import classification_report, confusion_matrix, accuracy_score\n",
        "\n",
        "print(confusion_matrix(y_train,train_result))\n",
        "print(classification_report(y_train,train_result))\n",
        "print(accuracy_score(y_train, train_result))\n",
        "\n",
        "print(confusion_matrix(y_test,test_result))\n",
        "print(classification_report(y_test,test_result))\n",
        "print(accuracy_score(y_test, test_result))\n"
      ],
      "execution_count": 971,
      "outputs": [
        {
          "output_type": "stream",
          "text": [
            "[[702  18]\n",
            " [ 19 683]]\n",
            "              precision    recall  f1-score   support\n",
            "\n",
            "           0       0.97      0.97      0.97       720\n",
            "           1       0.97      0.97      0.97       702\n",
            "\n",
            "    accuracy                           0.97      1422\n",
            "   macro avg       0.97      0.97      0.97      1422\n",
            "weighted avg       0.97      0.97      0.97      1422\n",
            "\n",
            "0.9739803094233473\n",
            "[[236  75]\n",
            " [ 50 249]]\n",
            "              precision    recall  f1-score   support\n",
            "\n",
            "           0       0.83      0.76      0.79       311\n",
            "           1       0.77      0.83      0.80       299\n",
            "\n",
            "    accuracy                           0.80       610\n",
            "   macro avg       0.80      0.80      0.79       610\n",
            "weighted avg       0.80      0.80      0.79       610\n",
            "\n",
            "0.7950819672131147\n"
          ],
          "name": "stdout"
        }
      ]
    },
    {
      "cell_type": "code",
      "metadata": {
        "id": "G1u4YGTA2Emx",
        "colab_type": "code",
        "colab": {
          "base_uri": "https://localhost:8080/",
          "height": 102
        },
        "outputId": "1f796727-8b57-420c-aa41-6fed03712307"
      },
      "source": [
        "test_loss, test_acc = model.evaluate(X_train,  y_train, verbose=2)\n",
        "\n",
        "print('\\n테스트 정확도:', test_acc)\n",
        "print('\\n', test_loss)"
      ],
      "execution_count": 972,
      "outputs": [
        {
          "output_type": "stream",
          "text": [
            "45/45 - 0s - loss: 0.1247 - accuracy: 0.9740\n",
            "\n",
            "테스트 정확도: 0.9739803075790405\n",
            "\n",
            " 0.12465580552816391\n"
          ],
          "name": "stdout"
        }
      ]
    },
    {
      "cell_type": "code",
      "metadata": {
        "id": "Y3bsBfPia2P6",
        "colab_type": "code",
        "colab": {}
      },
      "source": [
        "def plot_image(i, predictions_array, true_label, img):\n",
        "  predictions_array, true_label, img = predictions_array[i], true_label[i], img[i]\n",
        "  plt.grid(False)\n",
        "  plt.xticks([])\n",
        "  plt.yticks([])\n",
        "\n",
        "  plt.imshow(img, cmap=plt.cm.binary)\n",
        "\n",
        "  predicted_label = np.argmax(predictions_array)\n",
        "  if predicted_label == true_label:\n",
        "    color = 'blue'\n",
        "  else:\n",
        "    color = 'red'\n",
        "\n",
        "  plt.xlabel(\"{} {:2.0f}% ({})\".format(class_names[predicted_label],\n",
        "                                100*np.max(predictions_array),\n",
        "                                class_names[true_label]),\n",
        "                                color=color)\n",
        "\n",
        "def plot_value_array(i, predictions_array, true_label):\n",
        "  predictions_array, true_label = predictions_array[i], true_label[i]\n",
        "  plt.grid(False)\n",
        "  plt.xticks([])\n",
        "  plt.yticks([])\n",
        "  thisplot = plt.bar(range(10), predictions_array, color=\"#777777\")\n",
        "  plt.ylim([0, 1])\n",
        "  predicted_label = np.argmax(predictions_array)\n",
        "\n",
        "  thisplot[predicted_label].set_color('red')\n",
        "  thisplot[true_label].set_color('blue')"
      ],
      "execution_count": 973,
      "outputs": []
    },
    {
      "cell_type": "code",
      "metadata": {
        "id": "RTkpF8SQa8NB",
        "colab_type": "code",
        "colab": {
          "base_uri": "https://localhost:8080/",
          "height": 54
        },
        "outputId": "5dd86836-5deb-4716-ad24-78681ad78a54"
      },
      "source": [
        "'''import random\n",
        "\n",
        "# layers dimension & array\n",
        "input_train = X_train.T\n",
        "train_num = 1422\n",
        "test_num = 610\n",
        "input_size = 1500\n",
        "hidden1_dim = 30\n",
        "output_dim = 1\n",
        "\n",
        "hidden_layer1 = np.empty((hidden1_dim), dtype=float)\n",
        "output_layer = np.empty((output_dim), dtype=float)\n",
        "\n",
        "\n",
        "# parameters initialization\n",
        "weight_u = np.empty((input_size * hidden1_dim), dtype=float)\n",
        "weight_v = np.empty((hidden1_dim * output_dim), dtype=float)\n",
        "\n",
        "for i in range(input_size * hidden1_dim):\n",
        "  weight_u[i] = random.random() * 0.1\n",
        "\n",
        "for i in range(hidden1_dim * output_dim):\n",
        "  weight_v[i] = random.random() * 0.1\n",
        "\n",
        "weight_u = weight_u.reshape(input_size, hidden1_dim)\n",
        "weight_v = weight_v.reshape(hidden1_dim, output_dim)\n",
        "\n",
        "\n",
        "# backpropagation derivates initialization \n",
        "uBack = np.empty((input_size, hidden1_dim), dtype=float)\n",
        "vBack = np.empty((hidden1_dim, output_dim), dtype=float)\n",
        "\n",
        "\n",
        "# differential values \n",
        "uDiff = np.empty((input_size, hidden1_dim), dtype=float)\n",
        "vDiff = np.empty((hidden1_dim, output_dim), dtype=float)\n",
        "\n",
        "\n",
        "# loss J \n",
        "J = 0\n",
        "\n",
        "\n",
        "# for cycle\n",
        "c = 0\n",
        "cycle = 1000\n",
        "learning_late = 0.01\n",
        "lamda = 0.5\n",
        "# n = (size_col * size_row * hidden1_dim) + (hidden1_dim * hidden2_dim) + (hidden2_dim * output_dim)\n",
        "\n",
        "# for plot\n",
        "JArray = []\n",
        "CycleArray = []\n",
        "\n",
        "\n",
        "'''\n",
        "'''\n",
        "gradient descent start\n",
        "'''\n",
        "'''\n",
        "\n",
        "for c in range(500):\n",
        "  # forward propagation\n",
        "  hidden_layer1 = np.dot(X_train, weight_u)\n",
        "  hidden_layer1 = sigmoid(hidden_layer1)\n",
        "  output_layer = np.dot(hidden_layer1, weight_v)\n",
        "  output_layer = sigmoid(output_layer)\n",
        "\n",
        "  output_layer = output_layer.reshape(train_num)\n",
        "  J = np.sum((y_train * np.log(output_layer)) - (1 - y_train) * np.log(1 - output_layer))\n",
        "        \n",
        "  J = J/1422 + regularization(weight_u,weight_v)\n",
        "  JArray.append(J)\n",
        "  if c % 50 == 0:\n",
        "      print(J)\n",
        "\n",
        "  # output_layer = output_layer.reshape(hidden_dim,output_dim)\n",
        "\n",
        "  for i in range(30):\n",
        "    vDiff[i,j] = np.sum((-y_train + output_layer) * hidden_layer1[:,i]) / 30\n",
        "    vBack[i,j] = np.sum((-y_train + output_layer)) / 30\n",
        "\n",
        "  weight_v = weight_v - learning_late * vDiff\n",
        "  # weight_u = weight_u - learning_late * uDiff\n",
        "\n",
        "  CycleArray.append(c)\n",
        "'''"
      ],
      "execution_count": 974,
      "outputs": [
        {
          "output_type": "execute_result",
          "data": {
            "text/plain": [
              "'\\n\\nfor c in range(500):\\n  # forward propagation\\n  hidden_layer1 = np.dot(X_train, weight_u)\\n  hidden_layer1 = sigmoid(hidden_layer1)\\n  output_layer = np.dot(hidden_layer1, weight_v)\\n  output_layer = sigmoid(output_layer)\\n\\n  output_layer = output_layer.reshape(train_num)\\n  J = np.sum((y_train * np.log(output_layer)) - (1 - y_train) * np.log(1 - output_layer))\\n        \\n  J = J/1422 + regularization(weight_u,weight_v)\\n  JArray.append(J)\\n  if c % 50 == 0:\\n      print(J)\\n\\n  # output_layer = output_layer.reshape(hidden_dim,output_dim)\\n\\n  for i in range(30):\\n    vDiff[i,j] = np.sum((-y_train + output_layer) * hidden_layer1[:,i]) / 30\\n    vBack[i,j] = np.sum((-y_train + output_layer)) / 30\\n\\n  weight_v = weight_v - learning_late * vDiff\\n  # weight_u = weight_u - learning_late * uDiff\\n\\n  CycleArray.append(c)\\n'"
            ]
          },
          "metadata": {
            "tags": []
          },
          "execution_count": 974
        }
      ]
    },
    {
      "cell_type": "markdown",
      "metadata": {
        "id": "KAqX3g6it9nn",
        "colab_type": "text"
      },
      "source": [
        ""
      ]
    }
  ]
}