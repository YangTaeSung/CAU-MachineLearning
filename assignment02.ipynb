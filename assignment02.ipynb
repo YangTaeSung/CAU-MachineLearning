{
  "nbformat": 4,
  "nbformat_minor": 0,
  "metadata": {
    "colab": {
      "name": "assignment02.ipynb",
      "provenance": [],
      "collapsed_sections": [],
      "authorship_tag": "ABX9TyPD5nXFR3QOSLZi3zWYc4w1",
      "include_colab_link": true
    },
    "kernelspec": {
      "name": "python3",
      "display_name": "Python 3"
    }
  },
  "cells": [
    {
      "cell_type": "markdown",
      "metadata": {
        "id": "view-in-github",
        "colab_type": "text"
      },
      "source": [
        "<a href=\"https://colab.research.google.com/github/YangTaeSung/CAU-MachineLearning/blob/master/assignment02.ipynb\" target=\"_parent\"><img src=\"https://colab.research.google.com/assets/colab-badge.svg\" alt=\"Open In Colab\"/></a>"
      ]
    },
    {
      "cell_type": "code",
      "metadata": {
        "id": "mlKumgoTuKJS",
        "colab_type": "code",
        "colab": {}
      },
      "source": [
        "import matplotlib.pyplot as plt\n",
        "import numpy as np\n",
        "import random"
      ],
      "execution_count": 0,
      "outputs": []
    },
    {
      "cell_type": "code",
      "metadata": {
        "id": "GUGQd7XO824B",
        "colab_type": "code",
        "colab": {}
      },
      "source": [
        "noiseNum = 10\n",
        "x = np.linspace(0, 5, noiseNum)\n",
        "y = x + 1"
      ],
      "execution_count": 0,
      "outputs": []
    },
    {
      "cell_type": "markdown",
      "metadata": {
        "id": "ZAmTp06tigkI",
        "colab_type": "text"
      },
      "source": [
        "* noise의 개수 10개  \n",
        "* linear 함수 정의\n"
      ]
    },
    {
      "cell_type": "code",
      "metadata": {
        "id": "4OvkUKtSjCvw",
        "colab_type": "code",
        "colab": {}
      },
      "source": [
        "for i in range(0,noiseNum):\n",
        "  noise = random.uniform(-1,1)\n",
        "  noiseY[i] = y[i] + noise"
      ],
      "execution_count": 0,
      "outputs": []
    },
    {
      "cell_type": "markdown",
      "metadata": {
        "id": "J8vhwedHjDmi",
        "colab_type": "text"
      },
      "source": [
        "* y값에서 -1~1의 편차를 두고 랜덤값 생성하여 noiseY값 적용 "
      ]
    },
    {
      "cell_type": "code",
      "metadata": {
        "id": "3CN158Ou83cj",
        "colab_type": "code",
        "colab": {
          "base_uri": "https://localhost:8080/",
          "height": 295
        },
        "outputId": "3aac30fa-edff-4ceb-925e-458c2e927c4c"
      },
      "source": [
        "plt.plot(x, y, \"BLUE\")\n",
        "plt.scatter(x,noiseY,c='black', s=50)\n",
        "plt.title('Linear function')\n",
        "plt.xlabel('X AXIS')\n",
        "plt.ylabel('Y AXIS')\n",
        "plt.show()"
      ],
      "execution_count": 143,
      "outputs": [
        {
          "output_type": "display_data",
          "data": {
            "image/png": "[encoded data removed]",
            "text/plain": [
              "<Figure size 432x288 with 1 Axes>"
            ]
          },
          "metadata": {
            "tags": []
          }
        }
      ]
    }
  ]
}