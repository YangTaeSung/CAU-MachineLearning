{
  "nbformat": 4,
  "nbformat_minor": 0,
  "metadata": {
    "colab": {
      "name": "assignment11.ipynb",
      "provenance": [],
      "collapsed_sections": [],
      "mount_file_id": "1-hsg_RVKiSi5_qp9WRwoMSPVVyYg7K5E",
      "authorship_tag": "ABX9TyOzcn4w5GhajTkhgiUb5Ton",
      "include_colab_link": true
    },
    "kernelspec": {
      "name": "python3",
      "display_name": "Python 3"
    }
  },
  "cells": [
    {
      "cell_type": "markdown",
      "metadata": {
        "id": "view-in-github",
        "colab_type": "text"
      },
      "source": [
        "<a href=\"https://colab.research.google.com/github/YangTaeSung/CAU-MachineLearning/blob/master/assignment11.ipynb\" target=\"_parent\"><img src=\"https://colab.research.google.com/assets/colab-badge.svg\" alt=\"Open In Colab\"/></a>"
      ]
    },
    {
      "cell_type": "code",
      "metadata": {
        "id": "8FqtNXIeoFzS",
        "colab_type": "code",
        "colab": {
          "base_uri": "https://localhost:8080/",
          "height": 34
        },
        "outputId": "3a260b87-5ca1-4df4-ceb7-e7304e129197"
      },
      "source": [
        "'''from google.colab import drive\n",
        "drive.mount('content/drive')'''"
      ],
      "execution_count": 976,
      "outputs": [
        {
          "output_type": "execute_result",
          "data": {
            "text/plain": [
              "\"from google.colab import drive\\ndrive.mount('content/drive')\""
            ]
          },
          "metadata": {
            "tags": []
          },
          "execution_count": 976
        }
      ]
    },
    {
      "cell_type": "code",
      "metadata": {
        "id": "ZXs0PXL_XleM",
        "colab_type": "code",
        "colab": {
          "base_uri": "https://localhost:8080/",
          "height": 85
        },
        "outputId": "45a4dbd5-56b4-4cbf-e7c5-d4298e7a845f"
      },
      "source": [
        "import numpy as np\n",
        "import re\n",
        "import nltk\n",
        "from sklearn.datasets import load_files\n",
        "nltk.download('stopwords')\n",
        "nltk.download('wordnet')\n",
        "import pickle\n",
        "from nltk.corpus import stopwords\n",
        "from nltk.stem import WordNetLemmatizer\n",
        "from sklearn.feature_extraction.text import CountVectorizer\n",
        "from sklearn.feature_extraction.text import TfidfTransformer\n",
        "from sklearn.model_selection import train_test_split\n",
        "from tensorflow.keras.callbacks import ModelCheckpoint, EarlyStopping\n",
        "import os\n",
        "from sklearn.metrics import classification_report, confusion_matrix, accuracy_score\n",
        "\n",
        "\n",
        "review_data = load_files(r\"/content/drive/My Drive/movie_review\")\n",
        "X, y = review_data.data, review_data.target\n",
        "\n",
        "documents = []\n",
        "\n",
        "stemmer = WordNetLemmatizer()\n",
        "\n",
        "for sen in range(0, len(X)):\n",
        "    # Remove all the special characters\n",
        "    document = re.sub(r'\\W', ' ', str(X[sen]))\n",
        "    \n",
        "    # remove all single characters\n",
        "    document = re.sub(r'\\s+[a-zA-Z]\\s+', ' ', document)\n",
        "    \n",
        "    # Remove single characters from the start\n",
        "    document = re.sub(r'\\^[a-zA-Z]\\s+', ' ', document) \n",
        "    \n",
        "    # Substituting multiple spaces with single space\n",
        "    document = re.sub(r'\\s+', ' ', document, flags=re.I)\n",
        "    \n",
        "    # Removing prefixed 'b'\n",
        "    document = re.sub(r'^b\\s+', '', document)\n",
        "    \n",
        "    # Converting to Lowercase\n",
        "    document = document.lower()\n",
        "    \n",
        "    # Lemmatization\n",
        "    document = document.split()\n",
        "    document = [stemmer.lemmatize(word) for word in document]\n",
        "    document = ' '.join(document)\n",
        "    \n",
        "    documents.append(document)\n",
        "\n",
        "vectorizer = CountVectorizer(max_features=1000, min_df=5, max_df=0.7, stop_words=stopwords.words('english'))\n",
        "X = vectorizer.fit_transform(documents).toarray()\n",
        "\n",
        "tfidfconverter = TfidfTransformer()\n",
        "X = tfidfconverter.fit_transform(X).toarray()\n",
        "\n",
        "X_train, X_test, y_train, y_test = train_test_split(X, y, test_size=0.3, shuffle=False)"
      ],
      "execution_count": 977,
      "outputs": [
        {
          "output_type": "stream",
          "text": [
            "[nltk_data] Downloading package stopwords to /root/nltk_data...\n",
            "[nltk_data]   Package stopwords is already up-to-date!\n",
            "[nltk_data] Downloading package wordnet to /root/nltk_data...\n",
            "[nltk_data]   Package wordnet is already up-to-date!\n"
          ],
          "name": "stdout"
        }
      ]
    },
    {
      "cell_type": "code",
      "metadata": {
        "id": "RTkpF8SQa8NB",
        "colab_type": "code",
        "colab": {
          "base_uri": "https://localhost:8080/",
          "height": 54
        },
        "outputId": "d444663f-8eee-434f-9a76-9fcdb03c677f"
      },
      "source": [
        "'''import random\n",
        "\n",
        "# layers dimension & array\n",
        "input_train = X_train.T\n",
        "train_num = 1422\n",
        "test_num = 610\n",
        "input_size = 1500\n",
        "hidden1_dim = 30\n",
        "output_dim = 1\n",
        "\n",
        "hidden_layer1 = np.empty((hidden1_dim), dtype=float)\n",
        "output_layer = np.empty((output_dim), dtype=float)\n",
        "\n",
        "\n",
        "# parameters initialization\n",
        "weight_u = np.empty((input_size * hidden1_dim), dtype=float)\n",
        "weight_v = np.empty((hidden1_dim * output_dim), dtype=float)\n",
        "\n",
        "for i in range(input_size * hidden1_dim):\n",
        "  weight_u[i] = random.random() * 0.1\n",
        "\n",
        "for i in range(hidden1_dim * output_dim):\n",
        "  weight_v[i] = random.random() * 0.1\n",
        "\n",
        "weight_u = weight_u.reshape(input_size, hidden1_dim)\n",
        "weight_v = weight_v.reshape(hidden1_dim, output_dim)\n",
        "\n",
        "\n",
        "# backpropagation derivates initialization \n",
        "uBack = np.empty((input_size, hidden1_dim), dtype=float)\n",
        "vBack = np.empty((hidden1_dim, output_dim), dtype=float)\n",
        "\n",
        "\n",
        "# differential values \n",
        "uDiff = np.empty((input_size, hidden1_dim), dtype=float)\n",
        "vDiff = np.empty((hidden1_dim, output_dim), dtype=float)\n",
        "\n",
        "\n",
        "# loss J \n",
        "J = 0\n",
        "\n",
        "\n",
        "# for cycle\n",
        "c = 0\n",
        "cycle = 1000\n",
        "learning_late = 0.01\n",
        "lamda = 0.5\n",
        "# n = (size_col * size_row * hidden1_dim) + (hidden1_dim * hidden2_dim) + (hidden2_dim * output_dim)\n",
        "\n",
        "# for plot\n",
        "JArray = []\n",
        "CycleArray = []\n",
        "\n",
        "\n",
        "'''\n",
        "'''\n",
        "gradient descent start\n",
        "'''\n",
        "'''\n",
        "\n",
        "for c in range(500):\n",
        "  # forward propagation\n",
        "  hidden_layer1 = np.dot(X_train, weight_u)\n",
        "  hidden_layer1 = sigmoid(hidden_layer1)\n",
        "  output_layer = np.dot(hidden_layer1, weight_v)\n",
        "  output_layer = sigmoid(output_layer)\n",
        "\n",
        "  output_layer = output_layer.reshape(train_num)\n",
        "  J = np.sum((y_train * np.log(output_layer)) - (1 - y_train) * np.log(1 - output_layer))\n",
        "        \n",
        "  J = J/1422 + regularization(weight_u,weight_v)\n",
        "  JArray.append(J)\n",
        "  if c % 50 == 0:\n",
        "      print(J)\n",
        "\n",
        "  # output_layer = output_layer.reshape(hidden_dim,output_dim)\n",
        "\n",
        "  for i in range(30):\n",
        "    vDiff[i,j] = np.sum((-y_train + output_layer) * hidden_layer1[:,i]) / 30\n",
        "    vBack[i,j] = np.sum((-y_train + output_layer)) / 30\n",
        "\n",
        "  weight_v = weight_v - learning_late * vDiff\n",
        "  # weight_u = weight_u - learning_late * uDiff\n",
        "\n",
        "  CycleArray.append(c)\n",
        "'''"
      ],
      "execution_count": 978,
      "outputs": [
        {
          "output_type": "execute_result",
          "data": {
            "text/plain": [
              "'\\n\\nfor c in range(500):\\n  # forward propagation\\n  hidden_layer1 = np.dot(X_train, weight_u)\\n  hidden_layer1 = sigmoid(hidden_layer1)\\n  output_layer = np.dot(hidden_layer1, weight_v)\\n  output_layer = sigmoid(output_layer)\\n\\n  output_layer = output_layer.reshape(train_num)\\n  J = np.sum((y_train * np.log(output_layer)) - (1 - y_train) * np.log(1 - output_layer))\\n        \\n  J = J/1422 + regularization(weight_u,weight_v)\\n  JArray.append(J)\\n  if c % 50 == 0:\\n      print(J)\\n\\n  # output_layer = output_layer.reshape(hidden_dim,output_dim)\\n\\n  for i in range(30):\\n    vDiff[i,j] = np.sum((-y_train + output_layer) * hidden_layer1[:,i]) / 30\\n    vBack[i,j] = np.sum((-y_train + output_layer)) / 30\\n\\n  weight_v = weight_v - learning_late * vDiff\\n  # weight_u = weight_u - learning_late * uDiff\\n\\n  CycleArray.append(c)\\n'"
            ]
          },
          "metadata": {
            "tags": []
          },
          "execution_count": 978
        }
      ]
    },
    {
      "cell_type": "code",
      "metadata": {
        "id": "aC8mQkwOe_Vw",
        "colab_type": "code",
        "colab": {
          "base_uri": "https://localhost:8080/",
          "height": 34
        },
        "outputId": "dc2ff03e-ddc5-404b-ee47-8bacbd469ddb"
      },
      "source": [
        "from __future__ import absolute_import, division, print_function, unicode_literals, unicode_literals\n",
        "\n",
        "# Import the tensorflow & tf.keras\n",
        "import tensorflow as tf\n",
        "from tensorflow import keras\n",
        "\n",
        "# Import the helper library\n",
        "import numpy as np\n",
        "import matplotlib.pyplot as plt\n",
        "\n",
        "print(tf.__version__)"
      ],
      "execution_count": 979,
      "outputs": [
        {
          "output_type": "stream",
          "text": [
            "2.2.0\n"
          ],
          "name": "stdout"
        }
      ]
    },
    {
      "cell_type": "code",
      "metadata": {
        "id": "BWYbmQ2hC8mC",
        "colab_type": "code",
        "colab": {}
      },
      "source": [
        "MODEL_SAVE_FOLDER_PATH = './model/'\n",
        "\n",
        "if not os.path.exists(MODEL_SAVE_FOLDER_PATH):\n",
        "  os.mkdir(MODEL_SAVE_FOLDER_PATH)\n",
        "\n",
        "model_path = MODEL_SAVE_FOLDER_PATH + '{epoch:02d}-{val_loss:.4f}.hdf5'\n",
        "\n",
        "cb_checkpoint = ModelCheckpoint(filepath=model_path, monitor='val_loss', verbose=1, save_best_only=True)\n",
        "\n",
        "cb_early_stopping = EarlyStopping(monitor='val_loss', patience=10)"
      ],
      "execution_count": 980,
      "outputs": []
    },
    {
      "cell_type": "code",
      "metadata": {
        "id": "erb67G7t1f36",
        "colab_type": "code",
        "colab": {}
      },
      "source": [
        "model = keras.Sequential([\n",
        "    keras.layers.Dense(175, activation='sigmoid'),\n",
        "    keras.layers.Dense(55, activation='sigmoid'),\n",
        "    #keras.layers.Dense(30, activation='sigmoid'),\n",
        "    #keras.layers.Dense(10, activation='sigmoid'),\n",
        "    keras.layers.Dense(2, activation='sigmoid'),\n",
        "])"
      ],
      "execution_count": 981,
      "outputs": []
    },
    {
      "cell_type": "code",
      "metadata": {
        "id": "vQSFu3sJ1o_Y",
        "colab_type": "code",
        "colab": {}
      },
      "source": [
        "model.compile(optimizer='adam',\n",
        "              loss='sparse_categorical_crossentropy',\n",
        "              metrics=['accuracy'])"
      ],
      "execution_count": 982,
      "outputs": []
    },
    {
      "cell_type": "code",
      "metadata": {
        "id": "mpi1kigo1q0q",
        "colab_type": "code",
        "colab": {
          "base_uri": "https://localhost:8080/",
          "height": 1000
        },
        "outputId": "1f75fdfd-4f61-4834-9146-4d9ef02f1039"
      },
      "source": [
        "history = model.fit(X_train, y_train, validation_data=(X_test, y_test),\n",
        "          epochs=50, batch_size=200, verbose=0,\n",
        "          callbacks=[cb_checkpoint, cb_early_stopping])\n",
        "\n",
        "'''\n",
        "test_loss, test_acc = model.evaluate(X_train,  y_train, verbose=2)\n",
        "\n",
        "print('\\n테스트 정확도:', test_acc)\n",
        "print('\\n', test_loss)\n",
        "'''"
      ],
      "execution_count": 983,
      "outputs": [
        {
          "output_type": "stream",
          "text": [
            "\n",
            "Epoch 00001: val_loss improved from inf to 0.69407, saving model to ./model/01-0.6941.hdf5\n",
            "\n",
            "Epoch 00002: val_loss improved from 0.69407 to 0.69210, saving model to ./model/02-0.6921.hdf5\n",
            "\n",
            "Epoch 00003: val_loss improved from 0.69210 to 0.69148, saving model to ./model/03-0.6915.hdf5\n",
            "\n",
            "Epoch 00004: val_loss improved from 0.69148 to 0.69086, saving model to ./model/04-0.6909.hdf5\n",
            "\n",
            "Epoch 00005: val_loss did not improve from 0.69086\n",
            "\n",
            "Epoch 00006: val_loss improved from 0.69086 to 0.68935, saving model to ./model/06-0.6893.hdf5\n",
            "\n",
            "Epoch 00007: val_loss improved from 0.68935 to 0.68794, saving model to ./model/07-0.6879.hdf5\n",
            "\n",
            "Epoch 00008: val_loss improved from 0.68794 to 0.68531, saving model to ./model/08-0.6853.hdf5\n",
            "\n",
            "Epoch 00009: val_loss improved from 0.68531 to 0.68053, saving model to ./model/09-0.6805.hdf5\n",
            "\n",
            "Epoch 00010: val_loss improved from 0.68053 to 0.67365, saving model to ./model/10-0.6736.hdf5\n",
            "\n",
            "Epoch 00011: val_loss improved from 0.67365 to 0.66287, saving model to ./model/11-0.6629.hdf5\n",
            "\n",
            "Epoch 00012: val_loss improved from 0.66287 to 0.64988, saving model to ./model/12-0.6499.hdf5\n",
            "\n",
            "Epoch 00013: val_loss improved from 0.64988 to 0.63371, saving model to ./model/13-0.6337.hdf5\n",
            "\n",
            "Epoch 00014: val_loss improved from 0.63371 to 0.61822, saving model to ./model/14-0.6182.hdf5\n",
            "\n",
            "Epoch 00015: val_loss improved from 0.61822 to 0.59561, saving model to ./model/15-0.5956.hdf5\n",
            "\n",
            "Epoch 00016: val_loss improved from 0.59561 to 0.57634, saving model to ./model/16-0.5763.hdf5\n",
            "\n",
            "Epoch 00017: val_loss improved from 0.57634 to 0.55585, saving model to ./model/17-0.5558.hdf5\n",
            "\n",
            "Epoch 00018: val_loss improved from 0.55585 to 0.53621, saving model to ./model/18-0.5362.hdf5\n",
            "\n",
            "Epoch 00019: val_loss improved from 0.53621 to 0.51797, saving model to ./model/19-0.5180.hdf5\n",
            "\n",
            "Epoch 00020: val_loss improved from 0.51797 to 0.50178, saving model to ./model/20-0.5018.hdf5\n",
            "\n",
            "Epoch 00021: val_loss improved from 0.50178 to 0.48595, saving model to ./model/21-0.4860.hdf5\n",
            "\n",
            "Epoch 00022: val_loss improved from 0.48595 to 0.47454, saving model to ./model/22-0.4745.hdf5\n",
            "\n",
            "Epoch 00023: val_loss improved from 0.47454 to 0.46205, saving model to ./model/23-0.4621.hdf5\n",
            "\n",
            "Epoch 00024: val_loss did not improve from 0.46205\n",
            "\n",
            "Epoch 00025: val_loss did not improve from 0.46205\n",
            "\n",
            "Epoch 00026: val_loss improved from 0.46205 to 0.44787, saving model to ./model/26-0.4479.hdf5\n",
            "\n",
            "Epoch 00027: val_loss improved from 0.44787 to 0.43308, saving model to ./model/27-0.4331.hdf5\n",
            "\n",
            "Epoch 00028: val_loss did not improve from 0.43308\n",
            "\n",
            "Epoch 00029: val_loss improved from 0.43308 to 0.42716, saving model to ./model/29-0.4272.hdf5\n",
            "\n",
            "Epoch 00030: val_loss did not improve from 0.42716\n",
            "\n",
            "Epoch 00031: val_loss improved from 0.42716 to 0.41981, saving model to ./model/31-0.4198.hdf5\n",
            "\n",
            "Epoch 00032: val_loss improved from 0.41981 to 0.41815, saving model to ./model/32-0.4182.hdf5\n",
            "\n",
            "Epoch 00033: val_loss did not improve from 0.41815\n",
            "\n",
            "Epoch 00034: val_loss improved from 0.41815 to 0.41561, saving model to ./model/34-0.4156.hdf5\n",
            "\n",
            "Epoch 00035: val_loss did not improve from 0.41561\n",
            "\n",
            "Epoch 00036: val_loss did not improve from 0.41561\n",
            "\n",
            "Epoch 00037: val_loss did not improve from 0.41561\n",
            "\n",
            "Epoch 00038: val_loss did not improve from 0.41561\n",
            "\n",
            "Epoch 00039: val_loss did not improve from 0.41561\n",
            "\n",
            "Epoch 00040: val_loss did not improve from 0.41561\n",
            "\n",
            "Epoch 00041: val_loss did not improve from 0.41561\n",
            "\n",
            "Epoch 00042: val_loss did not improve from 0.41561\n",
            "\n",
            "Epoch 00043: val_loss did not improve from 0.41561\n",
            "\n",
            "Epoch 00044: val_loss did not improve from 0.41561\n"
          ],
          "name": "stdout"
        },
        {
          "output_type": "execute_result",
          "data": {
            "text/plain": [
              "\"\\ntest_loss, test_acc = model.evaluate(X_train,  y_train, verbose=2)\\n\\nprint('\\n테스트 정확도:', test_acc)\\nprint('\\n', test_loss)\\n\""
            ]
          },
          "metadata": {
            "tags": []
          },
          "execution_count": 983
        }
      ]
    },
    {
      "cell_type": "code",
      "metadata": {
        "id": "TmWUUBYM8baz",
        "colab_type": "code",
        "colab": {}
      },
      "source": [
        "# print('\\nAccuracy: {:.4f}'.format(model.evaluate(X_test, y_test)[1]))\n",
        "\n",
        "y_vloss = history.history['val_loss']\n",
        "y_loss = history.history['loss']\n",
        "y_vacc = history.history['val_accuracy']\n",
        "y_acc = history.history['accuracy']\n",
        "\n",
        "x_len = np.arange(len(y_loss))"
      ],
      "execution_count": 984,
      "outputs": []
    },
    {
      "cell_type": "code",
      "metadata": {
        "id": "RynYkB0ggpO3",
        "colab_type": "code",
        "colab": {
          "base_uri": "https://localhost:8080/",
          "height": 71
        },
        "outputId": "cd1d10f7-9f6c-47ba-be22-6daa11c0a9ee"
      },
      "source": [
        "'''xhat = X_test[0:1]\n",
        "yhat = model.predict(xhat)\n",
        "print('## yhat ##')\n",
        "print(yhat)'''\n",
        "result1 = model.predict(X_train, batch_size=32)\n",
        "result2 = model.predict(X_test, batch_size=32)\n",
        "\n",
        "train_result = []\n",
        "test_result = []\n",
        "\n",
        "for i in range(1422):\n",
        "  if result1[i,0] < result1[i,1]:\n",
        "    train_result.append(1)\n",
        "  else: train_result.append(0)\n",
        "\n",
        "for i in range(610):\n",
        "  if result2[i,0] < result2[i,1]:\n",
        "    test_result.append(1)\n",
        "  else: test_result.append(0)\n",
        "\n",
        "print(train_result)\n",
        "print(test_result)"
      ],
      "execution_count": 985,
      "outputs": [
        {
          "output_type": "stream",
          "text": [
            "[1, 0, 1, 0, 1, 0, 1, 0, 0, 0, 1, 0, 1, 1, 1, 0, 1, 0, 0, 1, 0, 0, 1, 0, 0, 0, 1, 1, 1, 0, 0, 0, 1, 0, 0, 1, 0, 1, 1, 0, 1, 1, 1, 0, 0, 1, 1, 1, 0, 0, 1, 1, 1, 1, 0, 0, 1, 1, 0, 0, 1, 0, 0, 0, 1, 0, 0, 0, 1, 1, 0, 1, 1, 1, 0, 0, 0, 0, 1, 1, 0, 1, 0, 1, 1, 1, 1, 0, 1, 1, 0, 0, 1, 1, 0, 0, 0, 1, 0, 1, 1, 1, 0, 0, 0, 0, 1, 0, 1, 0, 0, 1, 0, 1, 1, 0, 1, 1, 0, 1, 1, 0, 0, 1, 0, 0, 1, 1, 1, 0, 0, 1, 0, 0, 0, 1, 1, 1, 1, 0, 1, 1, 1, 0, 0, 0, 0, 1, 1, 0, 0, 1, 0, 1, 0, 0, 0, 0, 1, 1, 0, 1, 0, 0, 1, 0, 1, 0, 0, 0, 1, 1, 1, 0, 0, 1, 0, 0, 0, 0, 0, 0, 1, 1, 1, 1, 0, 1, 0, 0, 0, 0, 0, 1, 1, 1, 0, 0, 1, 0, 1, 0, 1, 0, 0, 1, 0, 0, 1, 1, 0, 0, 0, 0, 1, 1, 0, 0, 1, 0, 1, 1, 0, 1, 1, 0, 1, 1, 1, 1, 0, 0, 1, 1, 0, 1, 0, 1, 0, 1, 0, 1, 0, 0, 0, 1, 0, 0, 1, 1, 1, 0, 1, 0, 1, 1, 0, 0, 0, 0, 1, 0, 1, 0, 1, 0, 0, 1, 0, 0, 0, 0, 0, 1, 1, 0, 1, 0, 0, 0, 0, 1, 1, 0, 1, 0, 0, 1, 1, 1, 1, 1, 1, 1, 1, 1, 1, 1, 0, 0, 1, 0, 0, 1, 1, 1, 1, 0, 0, 0, 0, 1, 1, 0, 0, 0, 0, 1, 1, 0, 0, 0, 0, 1, 0, 0, 1, 1, 0, 1, 0, 0, 0, 0, 1, 0, 1, 1, 1, 1, 0, 1, 0, 1, 0, 1, 0, 1, 0, 1, 1, 1, 1, 1, 0, 0, 0, 0, 1, 0, 0, 1, 0, 0, 0, 0, 1, 0, 0, 0, 0, 0, 0, 0, 1, 1, 1, 1, 0, 1, 0, 0, 1, 1, 0, 1, 1, 0, 0, 0, 1, 0, 0, 1, 1, 0, 1, 1, 1, 1, 0, 1, 1, 1, 0, 0, 0, 0, 1, 1, 1, 0, 1, 0, 1, 0, 0, 1, 1, 1, 0, 1, 1, 1, 0, 0, 1, 0, 1, 1, 0, 1, 1, 1, 1, 1, 0, 0, 0, 1, 0, 0, 0, 1, 1, 0, 1, 0, 0, 1, 0, 1, 1, 1, 0, 0, 0, 1, 0, 0, 1, 0, 1, 1, 1, 1, 0, 0, 0, 1, 1, 0, 1, 0, 1, 1, 0, 0, 0, 1, 0, 0, 1, 0, 0, 1, 0, 1, 1, 1, 1, 1, 0, 1, 1, 1, 0, 1, 0, 0, 0, 1, 0, 0, 1, 0, 0, 1, 1, 1, 0, 1, 0, 0, 1, 0, 0, 0, 1, 1, 0, 0, 0, 1, 1, 1, 1, 0, 1, 1, 0, 0, 1, 0, 0, 0, 1, 0, 0, 0, 0, 0, 1, 1, 0, 1, 1, 0, 0, 0, 1, 0, 1, 1, 0, 0, 1, 0, 0, 0, 1, 1, 0, 0, 1, 1, 0, 0, 0, 0, 0, 1, 1, 1, 1, 0, 1, 1, 0, 0, 1, 1, 0, 1, 0, 0, 0, 1, 0, 1, 1, 1, 0, 0, 0, 1, 0, 0, 0, 1, 0, 1, 0, 0, 1, 1, 0, 1, 0, 1, 1, 0, 1, 1, 0, 0, 0, 1, 0, 0, 1, 0, 0, 1, 0, 1, 1, 0, 0, 0, 0, 0, 0, 0, 1, 1, 1, 1, 1, 0, 0, 1, 0, 1, 0, 0, 0, 0, 0, 0, 0, 0, 0, 0, 1, 1, 0, 1, 1, 0, 0, 0, 1, 0, 1, 1, 0, 0, 1, 0, 1, 0, 0, 0, 1, 0, 0, 0, 1, 0, 1, 0, 0, 1, 0, 1, 1, 0, 0, 0, 1, 1, 1, 1, 1, 1, 1, 0, 0, 1, 0, 1, 0, 0, 0, 0, 1, 1, 1, 1, 1, 1, 0, 0, 1, 0, 1, 0, 0, 0, 0, 0, 0, 0, 1, 0, 1, 1, 0, 1, 1, 0, 0, 1, 0, 1, 0, 0, 0, 0, 1, 0, 0, 1, 1, 1, 1, 1, 0, 1, 0, 1, 0, 0, 0, 0, 0, 0, 0, 0, 1, 0, 0, 0, 1, 0, 1, 0, 0, 1, 0, 0, 0, 1, 0, 0, 0, 1, 0, 1, 1, 1, 1, 0, 1, 1, 1, 1, 0, 1, 0, 1, 0, 0, 1, 1, 1, 1, 0, 0, 1, 0, 0, 0, 1, 0, 0, 0, 0, 0, 1, 0, 1, 1, 1, 1, 1, 1, 0, 1, 0, 1, 0, 1, 1, 0, 1, 0, 1, 1, 0, 0, 0, 1, 0, 0, 1, 1, 1, 1, 1, 1, 1, 0, 1, 1, 1, 1, 1, 1, 0, 1, 1, 0, 1, 0, 1, 1, 0, 0, 1, 0, 0, 1, 0, 0, 0, 0, 0, 1, 1, 1, 1, 1, 1, 0, 1, 1, 1, 0, 1, 0, 0, 1, 1, 1, 0, 0, 0, 0, 1, 1, 0, 1, 1, 1, 0, 0, 0, 1, 0, 1, 0, 0, 1, 0, 0, 1, 0, 1, 0, 0, 0, 1, 1, 0, 0, 0, 1, 0, 0, 1, 0, 1, 1, 0, 0, 1, 1, 1, 1, 0, 1, 1, 0, 1, 0, 1, 0, 1, 0, 0, 0, 0, 0, 0, 0, 0, 1, 0, 1, 0, 0, 1, 0, 1, 0, 0, 0, 1, 0, 1, 0, 1, 1, 1, 1, 0, 1, 1, 0, 0, 0, 1, 0, 1, 1, 0, 1, 1, 1, 0, 1, 1, 1, 1, 0, 1, 1, 0, 0, 0, 0, 0, 1, 1, 1, 0, 1, 0, 0, 0, 1, 0, 1, 0, 0, 0, 0, 1, 0, 0, 0, 0, 1, 1, 0, 1, 0, 0, 0, 1, 1, 1, 0, 0, 0, 1, 1, 1, 0, 1, 0, 1, 1, 0, 1, 0, 1, 0, 0, 1, 0, 1, 1, 0, 0, 1, 0, 1, 0, 1, 0, 0, 1, 1, 1, 0, 1, 0, 1, 0, 0, 1, 1, 0, 1, 1, 0, 0, 1, 1, 0, 1, 0, 1, 0, 0, 0, 1, 1, 1, 0, 0, 1, 1, 0, 1, 1, 0, 0, 1, 1, 0, 0, 1, 0, 1, 1, 0, 1, 1, 0, 1, 0, 1, 1, 1, 0, 0, 1, 1, 1, 1, 0, 1, 0, 1, 0, 1, 1, 1, 0, 0, 1, 0, 1, 1, 0, 0, 0, 0, 1, 0, 1, 0, 0, 1, 1, 0, 0, 0, 0, 1, 1, 1, 1, 1, 0, 1, 1, 0, 1, 1, 0, 0, 1, 0, 0, 0, 1, 1, 0, 0, 0, 0, 0, 0, 0, 1, 1, 1, 0, 1, 1, 1, 1, 1, 1, 0, 0, 0, 1, 1, 1, 1, 0, 1, 1, 1, 0, 0, 0, 1, 0, 0, 1, 0, 0, 0, 0, 1, 0, 0, 1, 1, 1, 1, 0, 0, 1, 0, 0, 0, 1, 0, 1, 1, 0, 0, 0, 1, 0, 0, 1, 0, 1, 1, 0, 0, 0, 0, 1, 1, 0, 1, 1, 0, 1, 1, 0, 0, 0, 0, 0, 0, 1, 0, 0, 0, 1, 1, 0, 0, 0, 0, 0, 1, 1, 0, 0, 1, 1, 0, 1, 0, 0, 0, 0, 1, 1, 0, 1, 0, 0, 1, 1, 0, 1, 1, 1, 1, 1, 0, 0, 0, 1, 0, 0, 0, 0, 0, 1, 1, 0, 0, 1, 1, 0, 1, 1, 0, 0, 1, 0, 1, 0, 0, 1, 1, 0, 0, 0, 1, 0, 0, 1, 1, 1, 1, 0, 0, 0, 0, 0, 1, 1, 1, 1, 1, 1, 0, 0, 0, 0, 0, 1, 1, 0, 1, 0, 0, 1, 0, 1, 1, 1, 1, 1, 1, 0, 1, 0, 0, 0, 1, 1, 1, 0, 1, 1, 1, 1, 1, 0, 0, 1, 1, 0, 0, 0, 1, 1, 0, 1, 1, 0, 1, 0, 1, 1, 1, 1, 0, 1, 0, 0, 1, 0, 0, 0, 1, 1, 0, 1, 0, 1, 1, 0, 0, 1, 1, 0, 0, 1, 1, 0, 1, 1, 1, 1, 1, 1, 0, 0, 0, 0, 1, 1, 0, 0, 1]\n",
            "[1, 0, 0, 0, 1, 1, 1, 0, 0, 0, 0, 1, 1, 0, 0, 1, 1, 1, 1, 1, 0, 0, 0, 1, 0, 1, 0, 0, 1, 0, 1, 0, 0, 0, 1, 1, 0, 0, 0, 0, 1, 0, 0, 0, 0, 0, 0, 0, 0, 1, 0, 0, 0, 1, 1, 1, 1, 0, 1, 1, 0, 0, 1, 0, 0, 0, 1, 1, 1, 0, 1, 1, 0, 0, 1, 0, 0, 0, 1, 1, 0, 0, 1, 1, 1, 0, 1, 0, 0, 1, 1, 0, 1, 1, 0, 1, 0, 1, 0, 0, 1, 1, 1, 1, 0, 1, 1, 0, 0, 1, 1, 0, 0, 0, 0, 1, 0, 0, 0, 1, 1, 1, 0, 0, 1, 1, 1, 1, 1, 1, 0, 0, 1, 0, 1, 0, 0, 1, 1, 1, 1, 0, 1, 0, 0, 0, 0, 0, 1, 0, 0, 1, 1, 0, 0, 0, 0, 0, 1, 1, 0, 0, 1, 0, 0, 1, 1, 1, 0, 1, 0, 0, 0, 1, 0, 0, 0, 1, 1, 0, 0, 1, 0, 0, 1, 0, 1, 0, 1, 1, 0, 1, 0, 0, 0, 0, 0, 1, 1, 1, 1, 1, 1, 1, 0, 0, 0, 0, 1, 0, 1, 1, 1, 1, 1, 1, 0, 0, 0, 0, 1, 1, 1, 0, 0, 1, 1, 1, 1, 0, 1, 0, 0, 0, 1, 1, 0, 1, 1, 0, 0, 1, 1, 1, 1, 1, 0, 0, 0, 1, 0, 1, 0, 0, 1, 1, 1, 1, 1, 1, 0, 0, 0, 0, 1, 1, 1, 0, 0, 0, 0, 1, 0, 1, 1, 1, 0, 0, 1, 1, 0, 0, 0, 1, 1, 1, 1, 1, 0, 0, 0, 1, 1, 1, 1, 0, 0, 1, 0, 1, 1, 0, 1, 0, 1, 1, 0, 0, 1, 1, 0, 0, 1, 1, 1, 0, 0, 0, 0, 0, 1, 0, 1, 1, 1, 0, 1, 1, 0, 0, 0, 1, 0, 1, 1, 1, 1, 1, 0, 0, 1, 0, 1, 1, 1, 1, 1, 1, 0, 0, 1, 1, 1, 0, 1, 0, 0, 0, 1, 0, 1, 0, 1, 1, 0, 0, 1, 0, 0, 1, 0, 1, 1, 1, 1, 0, 0, 0, 1, 0, 1, 1, 1, 1, 1, 1, 1, 0, 0, 0, 1, 0, 1, 0, 0, 1, 1, 1, 0, 1, 0, 1, 0, 1, 0, 0, 1, 1, 1, 0, 0, 1, 1, 1, 0, 1, 1, 0, 1, 1, 1, 0, 1, 0, 0, 0, 1, 0, 0, 1, 0, 1, 1, 0, 0, 1, 1, 0, 1, 0, 0, 1, 1, 1, 0, 0, 0, 1, 0, 1, 0, 1, 0, 1, 1, 0, 0, 0, 0, 1, 1, 1, 1, 0, 1, 0, 1, 1, 0, 0, 1, 1, 1, 0, 0, 0, 0, 1, 0, 1, 0, 1, 1, 0, 1, 0, 1, 1, 1, 0, 1, 1, 0, 1, 0, 0, 0, 0, 0, 0, 1, 1, 0, 0, 1, 0, 1, 1, 1, 0, 0, 0, 1, 1, 0, 0, 1, 1, 0, 1, 0, 1, 1, 0, 0, 1, 0, 1, 1, 0, 0, 1, 1, 1, 0, 1, 0, 0, 0, 0, 1, 0, 1, 1, 1, 0, 0, 0, 1, 0, 1, 0, 0, 0, 0, 0, 1, 0, 0, 0, 1, 1, 0, 0, 1, 0, 0, 0, 1, 0, 0, 0, 1, 1, 1, 0, 0, 0, 1, 0, 0, 0, 1, 1, 0, 1, 0, 0, 1, 1, 0, 0, 1, 1, 0, 0, 0, 1, 1, 1, 1, 0, 1, 0, 0, 1, 1, 0, 0, 0]\n"
          ],
          "name": "stdout"
        }
      ]
    },
    {
      "cell_type": "code",
      "metadata": {
        "id": "Y3bsBfPia2P6",
        "colab_type": "code",
        "colab": {}
      },
      "source": [
        "def plot_image(i, predictions_array, true_label, img):\n",
        "  predictions_array, true_label, img = predictions_array[i], true_label[i], img[i]\n",
        "  plt.grid(False)\n",
        "  plt.xticks([])\n",
        "  plt.yticks([])\n",
        "\n",
        "  plt.imshow(img, cmap=plt.cm.binary)\n",
        "\n",
        "  predicted_label = np.argmax(predictions_array)\n",
        "  if predicted_label == true_label:\n",
        "    color = 'blue'\n",
        "  else:\n",
        "    color = 'red'\n",
        "\n",
        "  plt.xlabel(\"{} {:2.0f}% ({})\".format(class_names[predicted_label],\n",
        "                                100*np.max(predictions_array),\n",
        "                                class_names[true_label]),\n",
        "                                color=color)\n",
        "\n",
        "def plot_value_array(i, predictions_array, true_label):\n",
        "  predictions_array, true_label = predictions_array[i], true_label[i]\n",
        "  plt.grid(False)\n",
        "  plt.xticks([])\n",
        "  plt.yticks([])\n",
        "  thisplot = plt.bar(range(10), predictions_array, color=\"#777777\")\n",
        "  plt.ylim([0, 1])\n",
        "  predicted_label = np.argmax(predictions_array)\n",
        "\n",
        "  thisplot[predicted_label].set_color('red')\n",
        "  thisplot[true_label].set_color('blue')"
      ],
      "execution_count": 986,
      "outputs": []
    },
    {
      "cell_type": "markdown",
      "metadata": {
        "id": "KAqX3g6it9nn",
        "colab_type": "text"
      },
      "source": [
        "# 1. Plot the loss curve"
      ]
    },
    {
      "cell_type": "code",
      "metadata": {
        "id": "7xMXsc6Ruw79",
        "colab_type": "code",
        "colab": {
          "base_uri": "https://localhost:8080/",
          "height": 497
        },
        "outputId": "7ba9c255-5a97-467d-c67f-1ac6177aa36f"
      },
      "source": [
        "plt.figure(figsize=(8, 8)) # 그래프 사이즈 조절\n",
        "plt.plot(x_len, y_vloss, marker='.', c='red', label=\"Testing Loss\")\n",
        "plt.plot(x_len, y_loss, marker='.', c='blue', label=\"Training Loss\")\n",
        "\n",
        "plt.legend(loc='upper right')\n",
        "plt.grid()\n",
        "plt.xlabel('epoch')\n",
        "plt.ylabel('loss')\n",
        "plt.show()"
      ],
      "execution_count": 987,
      "outputs": [
        {
          "output_type": "display_data",
          "data": {
            "image/png": "[encoded data removed]",
            "text/plain": [
              "<Figure size 576x576 with 1 Axes>"
            ]
          },
          "metadata": {
            "tags": [],
            "needs_background": "light"
          }
        }
      ]
    },
    {
      "cell_type": "markdown",
      "metadata": {
        "id": "tgowrX3KuJX-",
        "colab_type": "text"
      },
      "source": [
        "# 2. Plot the accuracy curve"
      ]
    },
    {
      "cell_type": "code",
      "metadata": {
        "id": "8EhaRWaPu9IL",
        "colab_type": "code",
        "colab": {
          "base_uri": "https://localhost:8080/",
          "height": 497
        },
        "outputId": "283fb8b8-3cf4-4670-b6b4-d0ebfcc11944"
      },
      "source": [
        "plt.figure(figsize=(8, 8)) # 그래프 사이즈 조절\n",
        "plt.plot(x_len, y_vacc, marker='.', c='red', label=\"Testing Loss\")\n",
        "plt.plot(x_len, y_acc, marker='.', c='blue', label=\"Training Loss\")\n",
        "\n",
        "plt.legend(loc='upper right')\n",
        "plt.grid()\n",
        "plt.xlabel('epoch')\n",
        "plt.ylabel('accuracy')\n",
        "plt.show()"
      ],
      "execution_count": 988,
      "outputs": [
        {
          "output_type": "display_data",
          "data": {
            "image/png": "[encoded data removed]",
            "text/plain": [
              "<Figure size 576x576 with 1 Axes>"
            ]
          },
          "metadata": {
            "tags": [],
            "needs_background": "light"
          }
        }
      ]
    },
    {
      "cell_type": "markdown",
      "metadata": {
        "id": "Wn124bInuMeK",
        "colab_type": "text"
      },
      "source": [
        "# 3. Plot the quantitative results"
      ]
    },
    {
      "cell_type": "code",
      "metadata": {
        "id": "blxAfw8GXqHN",
        "colab_type": "code",
        "colab": {
          "base_uri": "https://localhost:8080/",
          "height": 425
        },
        "outputId": "3517da6e-814e-43fa-c2d5-8fb89e6ee3d3"
      },
      "source": [
        "from sklearn.metrics import classification_report, confusion_matrix, accuracy_score\n",
        "\n",
        "print(confusion_matrix(y_train,train_result))\n",
        "print(classification_report(y_train,train_result))\n",
        "print(accuracy_score(y_train, train_result))\n",
        "\n",
        "print(confusion_matrix(y_test,test_result))\n",
        "print(classification_report(y_test,test_result))\n",
        "print(accuracy_score(y_test, test_result))\n"
      ],
      "execution_count": 989,
      "outputs": [
        {
          "output_type": "stream",
          "text": [
            "[[706  14]\n",
            " [ 29 673]]\n",
            "              precision    recall  f1-score   support\n",
            "\n",
            "           0       0.96      0.98      0.97       720\n",
            "           1       0.98      0.96      0.97       702\n",
            "\n",
            "    accuracy                           0.97      1422\n",
            "   macro avg       0.97      0.97      0.97      1422\n",
            "weighted avg       0.97      0.97      0.97      1422\n",
            "\n",
            "0.969760900140647\n",
            "[[249  62]\n",
            " [ 59 240]]\n",
            "              precision    recall  f1-score   support\n",
            "\n",
            "           0       0.81      0.80      0.80       311\n",
            "           1       0.79      0.80      0.80       299\n",
            "\n",
            "    accuracy                           0.80       610\n",
            "   macro avg       0.80      0.80      0.80       610\n",
            "weighted avg       0.80      0.80      0.80       610\n",
            "\n",
            "0.8016393442622951\n"
          ],
          "name": "stdout"
        }
      ]
    }
  ]
}