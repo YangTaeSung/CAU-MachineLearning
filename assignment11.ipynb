{
  "nbformat": 4,
  "nbformat_minor": 0,
  "metadata": {
    "colab": {
      "name": "assignment11.ipynb",
      "provenance": [],
      "collapsed_sections": [],
      "mount_file_id": "1-hsg_RVKiSi5_qp9WRwoMSPVVyYg7K5E",
      "authorship_tag": "ABX9TyPrExdTPe2YtGKvzSuU+fcA",
      "include_colab_link": true
    },
    "kernelspec": {
      "name": "python3",
      "display_name": "Python 3"
    }
  },
  "cells": [
    {
      "cell_type": "markdown",
      "metadata": {
        "id": "view-in-github",
        "colab_type": "text"
      },
      "source": [
        "<a href=\"https://colab.research.google.com/github/YangTaeSung/CAU-MachineLearning/blob/master/assignment11.ipynb\" target=\"_parent\"><img src=\"https://colab.research.google.com/assets/colab-badge.svg\" alt=\"Open In Colab\"/></a>"
      ]
    },
    {
      "cell_type": "code",
      "metadata": {
        "id": "8FqtNXIeoFzS",
        "colab_type": "code",
        "colab": {
          "base_uri": "https://localhost:8080/",
          "height": 34
        },
        "outputId": "58e617ec-89a2-4b67-ba93-2a72eef86676"
      },
      "source": [
        "'''from google.colab import drive\n",
        "drive.mount('content/drive')'''"
      ],
      "execution_count": 390,
      "outputs": [
        {
          "output_type": "execute_result",
          "data": {
            "text/plain": [
              "\"from google.colab import drive\\ndrive.mount('content/drive')\""
            ]
          },
          "metadata": {
            "tags": []
          },
          "execution_count": 390
        }
      ]
    },
    {
      "cell_type": "code",
      "metadata": {
        "id": "ZXs0PXL_XleM",
        "colab_type": "code",
        "colab": {
          "base_uri": "https://localhost:8080/",
          "height": 85
        },
        "outputId": "9270cdda-407b-4b73-f284-27bc0df73f69"
      },
      "source": [
        "import numpy as np\n",
        "import re\n",
        "import nltk\n",
        "from sklearn.datasets import load_files\n",
        "nltk.download('stopwords')\n",
        "nltk.download('wordnet')\n",
        "import pickle\n",
        "from nltk.corpus import stopwords\n",
        "from nltk.stem import WordNetLemmatizer\n",
        "from sklearn.feature_extraction.text import CountVectorizer\n",
        "from sklearn.feature_extraction.text import TfidfTransformer\n",
        "from sklearn.model_selection import train_test_split\n",
        "from tensorflow.keras.callbacks import ModelCheckpoint, EarlyStopping\n",
        "import os\n",
        "\n",
        "\n",
        "review_data = load_files(r\"/content/drive/My Drive/movie_review\")\n",
        "X, y = review_data.data, review_data.target\n",
        "\n",
        "documents = []\n",
        "\n",
        "stemmer = WordNetLemmatizer()\n",
        "\n",
        "for sen in range(0, len(X)):\n",
        "    # Remove all the special characters\n",
        "    document = re.sub(r'\\W', ' ', str(X[sen]))\n",
        "    \n",
        "    # remove all single characters\n",
        "    document = re.sub(r'\\s+[a-zA-Z]\\s+', ' ', document)\n",
        "    \n",
        "    # Remove single characters from the start\n",
        "    document = re.sub(r'\\^[a-zA-Z]\\s+', ' ', document) \n",
        "    \n",
        "    # Substituting multiple spaces with single space\n",
        "    document = re.sub(r'\\s+', ' ', document, flags=re.I)\n",
        "    \n",
        "    # Removing prefixed 'b'\n",
        "    document = re.sub(r'^b\\s+', '', document)\n",
        "    \n",
        "    # Converting to Lowercase\n",
        "    document = document.lower()\n",
        "    \n",
        "    # Lemmatization\n",
        "    document = document.split()\n",
        "    document = [stemmer.lemmatize(word) for word in document]\n",
        "    document = ' '.join(document)\n",
        "    \n",
        "    documents.append(document)\n",
        "\n",
        "vectorizer = CountVectorizer(max_features=1000, min_df=5, max_df=0.7, stop_words=stopwords.words('english'))\n",
        "X = vectorizer.fit_transform(documents).toarray()\n",
        "\n",
        "tfidfconverter = TfidfTransformer()\n",
        "X = tfidfconverter.fit_transform(X).toarray()\n",
        "\n",
        "X_train, X_test, y_train, y_test = train_test_split(X, y, test_size=0.3, shuffle=False)"
      ],
      "execution_count": 391,
      "outputs": [
        {
          "output_type": "stream",
          "text": [
            "[nltk_data] Downloading package stopwords to /root/nltk_data...\n",
            "[nltk_data]   Package stopwords is already up-to-date!\n",
            "[nltk_data] Downloading package wordnet to /root/nltk_data...\n",
            "[nltk_data]   Package wordnet is already up-to-date!\n"
          ],
          "name": "stdout"
        }
      ]
    },
    {
      "cell_type": "code",
      "metadata": {
        "id": "aC8mQkwOe_Vw",
        "colab_type": "code",
        "colab": {
          "base_uri": "https://localhost:8080/",
          "height": 34
        },
        "outputId": "404d3c87-0a66-4afd-a7d0-3407f48376ed"
      },
      "source": [
        "from __future__ import absolute_import, division, print_function, unicode_literals, unicode_literals\n",
        "\n",
        "# tensorflow와 tf.keras를 임포트합니다\n",
        "import tensorflow as tf\n",
        "from tensorflow import keras\n",
        "\n",
        "# 헬퍼(helper) 라이브러리를 임포트합니다\n",
        "import numpy as np\n",
        "import matplotlib.pyplot as plt\n",
        "\n",
        "print(tf.__version__)"
      ],
      "execution_count": 392,
      "outputs": [
        {
          "output_type": "stream",
          "text": [
            "2.2.0\n"
          ],
          "name": "stdout"
        }
      ]
    },
    {
      "cell_type": "code",
      "metadata": {
        "id": "BWYbmQ2hC8mC",
        "colab_type": "code",
        "colab": {}
      },
      "source": [
        "MODEL_SAVE_FOLDER_PATH = './model/'\n",
        "\n",
        "if not os.path.exists(MODEL_SAVE_FOLDER_PATH):\n",
        "  os.mkdir(MODEL_SAVE_FOLDER_PATH)\n",
        "\n",
        "model_path = MODEL_SAVE_FOLDER_PATH + '{epoch:02d}-{val_loss:.4f}.hdf5'\n",
        "\n",
        "cb_checkpoint = ModelCheckpoint(filepath=model_path, monitor='val_loss', verbose=1, save_best_only=True)\n",
        "\n",
        "cb_early_stopping = EarlyStopping(monitor='val_loss', patience=10)"
      ],
      "execution_count": 393,
      "outputs": []
    },
    {
      "cell_type": "code",
      "metadata": {
        "id": "erb67G7t1f36",
        "colab_type": "code",
        "colab": {}
      },
      "source": [
        "model = keras.Sequential([\n",
        "    keras.layers.Dense(128, activation='sigmoid'),\n",
        "    keras.layers.Dense(50, activation='sigmoid'),\n",
        "    keras.layers.Dense(30, activation='sigmoid'),\n",
        "    keras.layers.Dense(10, activation='sigmoid'),\n",
        "])"
      ],
      "execution_count": 394,
      "outputs": []
    },
    {
      "cell_type": "code",
      "metadata": {
        "id": "vQSFu3sJ1o_Y",
        "colab_type": "code",
        "colab": {}
      },
      "source": [
        "model.compile(optimizer='adam',\n",
        "              loss='sparse_categorical_crossentropy',\n",
        "              metrics=['accuracy'])"
      ],
      "execution_count": 395,
      "outputs": []
    },
    {
      "cell_type": "code",
      "metadata": {
        "id": "mpi1kigo1q0q",
        "colab_type": "code",
        "colab": {
          "base_uri": "https://localhost:8080/",
          "height": 1000
        },
        "outputId": "07bba78f-eca5-4c6c-e1d3-b97a27ca1ec8"
      },
      "source": [
        "history = model.fit(X_train, y_train, validation_data=(X_test, y_test),\n",
        "          epochs=100, batch_size=200, verbose=0,\n",
        "          callbacks=[cb_checkpoint, cb_early_stopping])\n"
      ],
      "execution_count": 396,
      "outputs": [
        {
          "output_type": "stream",
          "text": [
            "\n",
            "Epoch 00001: val_loss improved from inf to 2.03228, saving model to ./model/01-2.0323.hdf5\n",
            "\n",
            "Epoch 00002: val_loss improved from 2.03228 to 1.81603, saving model to ./model/02-1.8160.hdf5\n",
            "\n",
            "Epoch 00003: val_loss improved from 1.81603 to 1.64631, saving model to ./model/03-1.6463.hdf5\n",
            "\n",
            "Epoch 00004: val_loss improved from 1.64631 to 1.50517, saving model to ./model/04-1.5052.hdf5\n",
            "\n",
            "Epoch 00005: val_loss improved from 1.50517 to 1.38360, saving model to ./model/05-1.3836.hdf5\n",
            "\n",
            "Epoch 00006: val_loss improved from 1.38360 to 1.27804, saving model to ./model/06-1.2780.hdf5\n",
            "\n",
            "Epoch 00007: val_loss improved from 1.27804 to 1.18712, saving model to ./model/07-1.1871.hdf5\n",
            "\n",
            "Epoch 00008: val_loss improved from 1.18712 to 1.10981, saving model to ./model/08-1.1098.hdf5\n",
            "\n",
            "Epoch 00009: val_loss improved from 1.10981 to 1.04492, saving model to ./model/09-1.0449.hdf5\n",
            "\n",
            "Epoch 00010: val_loss improved from 1.04492 to 0.99104, saving model to ./model/10-0.9910.hdf5\n",
            "\n",
            "Epoch 00011: val_loss improved from 0.99104 to 0.94676, saving model to ./model/11-0.9468.hdf5\n",
            "\n",
            "Epoch 00012: val_loss improved from 0.94676 to 0.91059, saving model to ./model/12-0.9106.hdf5\n",
            "\n",
            "Epoch 00013: val_loss improved from 0.91059 to 0.88106, saving model to ./model/13-0.8811.hdf5\n",
            "\n",
            "Epoch 00014: val_loss improved from 0.88106 to 0.85692, saving model to ./model/14-0.8569.hdf5\n",
            "\n",
            "Epoch 00015: val_loss improved from 0.85692 to 0.83707, saving model to ./model/15-0.8371.hdf5\n",
            "\n",
            "Epoch 00016: val_loss improved from 0.83707 to 0.82068, saving model to ./model/16-0.8207.hdf5\n",
            "\n",
            "Epoch 00017: val_loss improved from 0.82068 to 0.80701, saving model to ./model/17-0.8070.hdf5\n",
            "\n",
            "Epoch 00018: val_loss improved from 0.80701 to 0.79545, saving model to ./model/18-0.7955.hdf5\n",
            "\n",
            "Epoch 00019: val_loss improved from 0.79545 to 0.78569, saving model to ./model/19-0.7857.hdf5\n",
            "\n",
            "Epoch 00020: val_loss improved from 0.78569 to 0.77733, saving model to ./model/20-0.7773.hdf5\n",
            "\n",
            "Epoch 00021: val_loss improved from 0.77733 to 0.77013, saving model to ./model/21-0.7701.hdf5\n",
            "\n",
            "Epoch 00022: val_loss improved from 0.77013 to 0.76384, saving model to ./model/22-0.7638.hdf5\n",
            "\n",
            "Epoch 00023: val_loss improved from 0.76384 to 0.75835, saving model to ./model/23-0.7584.hdf5\n",
            "\n",
            "Epoch 00024: val_loss improved from 0.75835 to 0.75349, saving model to ./model/24-0.7535.hdf5\n",
            "\n",
            "Epoch 00025: val_loss improved from 0.75349 to 0.74913, saving model to ./model/25-0.7491.hdf5\n",
            "\n",
            "Epoch 00026: val_loss improved from 0.74913 to 0.74521, saving model to ./model/26-0.7452.hdf5\n",
            "\n",
            "Epoch 00027: val_loss improved from 0.74521 to 0.74170, saving model to ./model/27-0.7417.hdf5\n",
            "\n",
            "Epoch 00028: val_loss improved from 0.74170 to 0.73853, saving model to ./model/28-0.7385.hdf5\n",
            "\n",
            "Epoch 00029: val_loss improved from 0.73853 to 0.73573, saving model to ./model/29-0.7357.hdf5\n",
            "\n",
            "Epoch 00030: val_loss improved from 0.73573 to 0.73316, saving model to ./model/30-0.7332.hdf5\n",
            "\n",
            "Epoch 00031: val_loss improved from 0.73316 to 0.73081, saving model to ./model/31-0.7308.hdf5\n",
            "\n",
            "Epoch 00032: val_loss improved from 0.73081 to 0.72865, saving model to ./model/32-0.7286.hdf5\n",
            "\n",
            "Epoch 00033: val_loss improved from 0.72865 to 0.72666, saving model to ./model/33-0.7267.hdf5\n",
            "\n",
            "Epoch 00034: val_loss improved from 0.72666 to 0.72486, saving model to ./model/34-0.7249.hdf5\n",
            "\n",
            "Epoch 00035: val_loss improved from 0.72486 to 0.72320, saving model to ./model/35-0.7232.hdf5\n",
            "\n",
            "Epoch 00036: val_loss improved from 0.72320 to 0.72169, saving model to ./model/36-0.7217.hdf5\n",
            "\n",
            "Epoch 00037: val_loss improved from 0.72169 to 0.72027, saving model to ./model/37-0.7203.hdf5\n",
            "\n",
            "Epoch 00038: val_loss improved from 0.72027 to 0.71895, saving model to ./model/38-0.7190.hdf5\n",
            "\n",
            "Epoch 00039: val_loss improved from 0.71895 to 0.71774, saving model to ./model/39-0.7177.hdf5\n",
            "\n",
            "Epoch 00040: val_loss improved from 0.71774 to 0.71661, saving model to ./model/40-0.7166.hdf5\n",
            "\n",
            "Epoch 00041: val_loss improved from 0.71661 to 0.71557, saving model to ./model/41-0.7156.hdf5\n",
            "\n",
            "Epoch 00042: val_loss improved from 0.71557 to 0.71461, saving model to ./model/42-0.7146.hdf5\n",
            "\n",
            "Epoch 00043: val_loss improved from 0.71461 to 0.71371, saving model to ./model/43-0.7137.hdf5\n",
            "\n",
            "Epoch 00044: val_loss improved from 0.71371 to 0.71286, saving model to ./model/44-0.7129.hdf5\n",
            "\n",
            "Epoch 00045: val_loss improved from 0.71286 to 0.71207, saving model to ./model/45-0.7121.hdf5\n",
            "\n",
            "Epoch 00046: val_loss improved from 0.71207 to 0.71133, saving model to ./model/46-0.7113.hdf5\n",
            "\n",
            "Epoch 00047: val_loss improved from 0.71133 to 0.71063, saving model to ./model/47-0.7106.hdf5\n",
            "\n",
            "Epoch 00048: val_loss improved from 0.71063 to 0.70997, saving model to ./model/48-0.7100.hdf5\n",
            "\n",
            "Epoch 00049: val_loss improved from 0.70997 to 0.70935, saving model to ./model/49-0.7093.hdf5\n",
            "\n",
            "Epoch 00050: val_loss improved from 0.70935 to 0.70875, saving model to ./model/50-0.7088.hdf5\n",
            "\n",
            "Epoch 00051: val_loss improved from 0.70875 to 0.70820, saving model to ./model/51-0.7082.hdf5\n",
            "\n",
            "Epoch 00052: val_loss improved from 0.70820 to 0.70768, saving model to ./model/52-0.7077.hdf5\n",
            "\n",
            "Epoch 00053: val_loss improved from 0.70768 to 0.70718, saving model to ./model/53-0.7072.hdf5\n",
            "\n",
            "Epoch 00054: val_loss improved from 0.70718 to 0.70670, saving model to ./model/54-0.7067.hdf5\n",
            "\n",
            "Epoch 00055: val_loss improved from 0.70670 to 0.70626, saving model to ./model/55-0.7063.hdf5\n",
            "\n",
            "Epoch 00056: val_loss improved from 0.70626 to 0.70584, saving model to ./model/56-0.7058.hdf5\n",
            "\n",
            "Epoch 00057: val_loss improved from 0.70584 to 0.70544, saving model to ./model/57-0.7054.hdf5\n",
            "\n",
            "Epoch 00058: val_loss improved from 0.70544 to 0.70506, saving model to ./model/58-0.7051.hdf5\n",
            "\n",
            "Epoch 00059: val_loss improved from 0.70506 to 0.70471, saving model to ./model/59-0.7047.hdf5\n",
            "\n",
            "Epoch 00060: val_loss improved from 0.70471 to 0.70436, saving model to ./model/60-0.7044.hdf5\n",
            "\n",
            "Epoch 00061: val_loss improved from 0.70436 to 0.70404, saving model to ./model/61-0.7040.hdf5\n",
            "\n",
            "Epoch 00062: val_loss improved from 0.70404 to 0.70372, saving model to ./model/62-0.7037.hdf5\n",
            "\n",
            "Epoch 00063: val_loss improved from 0.70372 to 0.70342, saving model to ./model/63-0.7034.hdf5\n",
            "\n",
            "Epoch 00064: val_loss improved from 0.70342 to 0.70314, saving model to ./model/64-0.7031.hdf5\n",
            "\n",
            "Epoch 00065: val_loss improved from 0.70314 to 0.70287, saving model to ./model/65-0.7029.hdf5\n",
            "\n",
            "Epoch 00066: val_loss improved from 0.70287 to 0.70261, saving model to ./model/66-0.7026.hdf5\n",
            "\n",
            "Epoch 00067: val_loss improved from 0.70261 to 0.70235, saving model to ./model/67-0.7024.hdf5\n",
            "\n",
            "Epoch 00068: val_loss improved from 0.70235 to 0.70210, saving model to ./model/68-0.7021.hdf5\n",
            "\n",
            "Epoch 00069: val_loss improved from 0.70210 to 0.70187, saving model to ./model/69-0.7019.hdf5\n",
            "\n",
            "Epoch 00070: val_loss improved from 0.70187 to 0.70165, saving model to ./model/70-0.7017.hdf5\n",
            "\n",
            "Epoch 00071: val_loss improved from 0.70165 to 0.70144, saving model to ./model/71-0.7014.hdf5\n",
            "\n",
            "Epoch 00072: val_loss improved from 0.70144 to 0.70125, saving model to ./model/72-0.7012.hdf5\n",
            "\n",
            "Epoch 00073: val_loss improved from 0.70125 to 0.70105, saving model to ./model/73-0.7011.hdf5\n",
            "\n",
            "Epoch 00074: val_loss improved from 0.70105 to 0.70087, saving model to ./model/74-0.7009.hdf5\n",
            "\n",
            "Epoch 00075: val_loss improved from 0.70087 to 0.70069, saving model to ./model/75-0.7007.hdf5\n",
            "\n",
            "Epoch 00076: val_loss improved from 0.70069 to 0.70052, saving model to ./model/76-0.7005.hdf5\n",
            "\n",
            "Epoch 00077: val_loss improved from 0.70052 to 0.70036, saving model to ./model/77-0.7004.hdf5\n",
            "\n",
            "Epoch 00078: val_loss improved from 0.70036 to 0.70020, saving model to ./model/78-0.7002.hdf5\n",
            "\n",
            "Epoch 00079: val_loss improved from 0.70020 to 0.70005, saving model to ./model/79-0.7001.hdf5\n",
            "\n",
            "Epoch 00080: val_loss improved from 0.70005 to 0.69989, saving model to ./model/80-0.6999.hdf5\n",
            "\n",
            "Epoch 00081: val_loss improved from 0.69989 to 0.69974, saving model to ./model/81-0.6997.hdf5\n",
            "\n",
            "Epoch 00082: val_loss improved from 0.69974 to 0.69960, saving model to ./model/82-0.6996.hdf5\n",
            "\n",
            "Epoch 00083: val_loss improved from 0.69960 to 0.69945, saving model to ./model/83-0.6995.hdf5\n",
            "\n",
            "Epoch 00084: val_loss improved from 0.69945 to 0.69931, saving model to ./model/84-0.6993.hdf5\n",
            "\n",
            "Epoch 00085: val_loss improved from 0.69931 to 0.69918, saving model to ./model/85-0.6992.hdf5\n",
            "\n",
            "Epoch 00086: val_loss improved from 0.69918 to 0.69906, saving model to ./model/86-0.6991.hdf5\n",
            "\n",
            "Epoch 00087: val_loss improved from 0.69906 to 0.69894, saving model to ./model/87-0.6989.hdf5\n",
            "\n",
            "Epoch 00088: val_loss improved from 0.69894 to 0.69883, saving model to ./model/88-0.6988.hdf5\n",
            "\n",
            "Epoch 00089: val_loss improved from 0.69883 to 0.69872, saving model to ./model/89-0.6987.hdf5\n",
            "\n",
            "Epoch 00090: val_loss improved from 0.69872 to 0.69861, saving model to ./model/90-0.6986.hdf5\n",
            "\n",
            "Epoch 00091: val_loss improved from 0.69861 to 0.69851, saving model to ./model/91-0.6985.hdf5\n",
            "\n",
            "Epoch 00092: val_loss improved from 0.69851 to 0.69841, saving model to ./model/92-0.6984.hdf5\n",
            "\n",
            "Epoch 00093: val_loss improved from 0.69841 to 0.69830, saving model to ./model/93-0.6983.hdf5\n",
            "\n",
            "Epoch 00094: val_loss improved from 0.69830 to 0.69820, saving model to ./model/94-0.6982.hdf5\n",
            "\n",
            "Epoch 00095: val_loss improved from 0.69820 to 0.69811, saving model to ./model/95-0.6981.hdf5\n",
            "\n",
            "Epoch 00096: val_loss improved from 0.69811 to 0.69801, saving model to ./model/96-0.6980.hdf5\n",
            "\n",
            "Epoch 00097: val_loss improved from 0.69801 to 0.69793, saving model to ./model/97-0.6979.hdf5\n",
            "\n",
            "Epoch 00098: val_loss improved from 0.69793 to 0.69784, saving model to ./model/98-0.6978.hdf5\n",
            "\n",
            "Epoch 00099: val_loss improved from 0.69784 to 0.69776, saving model to ./model/99-0.6978.hdf5\n",
            "\n",
            "Epoch 00100: val_loss improved from 0.69776 to 0.69768, saving model to ./model/100-0.6977.hdf5\n"
          ],
          "name": "stdout"
        }
      ]
    },
    {
      "cell_type": "code",
      "metadata": {
        "id": "TmWUUBYM8baz",
        "colab_type": "code",
        "colab": {
          "base_uri": "https://localhost:8080/",
          "height": 1000
        },
        "outputId": "1ae0874e-f692-44d4-e8cd-697330965795"
      },
      "source": [
        "print('\\nAccuracy: {:.4f}'.format(model.evaluate(X_test, y_test)[1]))\n",
        "\n",
        "y_vloss = history.history['val_loss']\n",
        "y_loss = history.history['loss']\n",
        "y_vacc = history.history['val_accuracy']\n",
        "y_acc = history.history['accuracy']\n",
        "\n",
        "x_len = np.arange(len(y_loss))\n",
        "plt.figure(figsize=(8, 8)) # 그래프 사이즈 조절\n",
        "plt.plot(x_len, y_vloss, marker='.', c='red', label=\"Testing Loss\")\n",
        "plt.plot(x_len, y_loss, marker='.', c='blue', label=\"Training Loss\")\n",
        "\n",
        "plt.legend(loc='upper right')\n",
        "plt.grid()\n",
        "plt.xlabel('epoch')\n",
        "plt.ylabel('loss')\n",
        "plt.show()\n",
        "\n",
        "plt.figure(figsize=(8, 8)) # 그래프 사이즈 조절\n",
        "plt.plot(x_len, y_vacc, marker='.', c='red', label=\"Testing Loss\")\n",
        "plt.plot(x_len, y_acc, marker='.', c='blue', label=\"Training Loss\")\n",
        "\n",
        "plt.legend(loc='upper right')\n",
        "plt.grid()\n",
        "plt.xlabel('epoch')\n",
        "plt.ylabel('loss')\n",
        "plt.show()"
      ],
      "execution_count": 397,
      "outputs": [
        {
          "output_type": "stream",
          "text": [
            "20/20 [==============================] - 0s 2ms/step - loss: 0.6977 - accuracy: 0.5098\n",
            "\n",
            "Accuracy: 0.5098\n"
          ],
          "name": "stdout"
        },
        {
          "output_type": "display_data",
          "data": {
            "image/png": "[encoded data removed]",
            "text/plain": [
              "<Figure size 576x576 with 1 Axes>"
            ]
          },
          "metadata": {
            "tags": [],
            "needs_background": "light"
          }
        },
        {
          "output_type": "display_data",
          "data": {
            "image/png": "[encoded data removed]",
            "text/plain": [
              "<Figure size 576x576 with 1 Axes>"
            ]
          },
          "metadata": {
            "tags": [],
            "needs_background": "light"
          }
        }
      ]
    },
    {
      "cell_type": "code",
      "metadata": {
        "id": "G1u4YGTA2Emx",
        "colab_type": "code",
        "colab": {
          "base_uri": "https://localhost:8080/",
          "height": 102
        },
        "outputId": "e4975530-e3ed-4658-9bb9-f4eacece8176"
      },
      "source": [
        "test_loss, test_acc = model.evaluate(X_train,  y_train, verbose=2)\n",
        "\n",
        "print('\\n테스트 정확도:', test_acc)\n",
        "print('\\n', test_loss)"
      ],
      "execution_count": 398,
      "outputs": [
        {
          "output_type": "stream",
          "text": [
            "45/45 - 0s - loss: 0.6977 - accuracy: 0.5063\n",
            "\n",
            "테스트 정확도: 0.5063291192054749\n",
            "\n",
            " 0.6977323889732361\n"
          ],
          "name": "stdout"
        }
      ]
    },
    {
      "cell_type": "code",
      "metadata": {
        "id": "YgexqIzwaTqs",
        "colab_type": "code",
        "colab": {
          "base_uri": "https://localhost:8080/",
          "height": 34
        },
        "outputId": "47c3d137-ecb3-476f-d5f9-71616ff6ad9d"
      },
      "source": [
        "predictions = model.predict(X_test)\n",
        "np.argmax(predictions[0])"
      ],
      "execution_count": 399,
      "outputs": [
        {
          "output_type": "execute_result",
          "data": {
            "text/plain": [
              "0"
            ]
          },
          "metadata": {
            "tags": []
          },
          "execution_count": 399
        }
      ]
    },
    {
      "cell_type": "code",
      "metadata": {
        "id": "Y3bsBfPia2P6",
        "colab_type": "code",
        "colab": {}
      },
      "source": [
        "def plot_image(i, predictions_array, true_label, img):\n",
        "  predictions_array, true_label, img = predictions_array[i], true_label[i], img[i]\n",
        "  plt.grid(False)\n",
        "  plt.xticks([])\n",
        "  plt.yticks([])\n",
        "\n",
        "  plt.imshow(img, cmap=plt.cm.binary)\n",
        "\n",
        "  predicted_label = np.argmax(predictions_array)\n",
        "  if predicted_label == true_label:\n",
        "    color = 'blue'\n",
        "  else:\n",
        "    color = 'red'\n",
        "\n",
        "  plt.xlabel(\"{} {:2.0f}% ({})\".format(class_names[predicted_label],\n",
        "                                100*np.max(predictions_array),\n",
        "                                class_names[true_label]),\n",
        "                                color=color)\n",
        "\n",
        "def plot_value_array(i, predictions_array, true_label):\n",
        "  predictions_array, true_label = predictions_array[i], true_label[i]\n",
        "  plt.grid(False)\n",
        "  plt.xticks([])\n",
        "  plt.yticks([])\n",
        "  thisplot = plt.bar(range(10), predictions_array, color=\"#777777\")\n",
        "  plt.ylim([0, 1])\n",
        "  predicted_label = np.argmax(predictions_array)\n",
        "\n",
        "  thisplot[predicted_label].set_color('red')\n",
        "  thisplot[true_label].set_color('blue')"
      ],
      "execution_count": 400,
      "outputs": []
    },
    {
      "cell_type": "code",
      "metadata": {
        "id": "BYc0-oBE-RUT",
        "colab_type": "code",
        "colab": {}
      },
      "source": [
        "def sigmoid(z):\n",
        "    return 1 / (1 + np.exp(-z))\n",
        "    \n",
        "def regularization(u,v):\n",
        "  u = u.reshape(input_size * hidden1_dim)\n",
        "  v = v.reshape(hidden1_dim * output_dim)\n",
        "\n",
        "  u = np.sum(u*u)\n",
        "  v = np.sum(v*v)\n",
        "\n",
        "  reg = (u + v ) / (2 * ((1500 * hidden1_dim) + (hidden1_dim * output_dim))) * lamda\n",
        "\n",
        "  return reg"
      ],
      "execution_count": 401,
      "outputs": []
    },
    {
      "cell_type": "code",
      "metadata": {
        "id": "RTkpF8SQa8NB",
        "colab_type": "code",
        "colab": {
          "base_uri": "https://localhost:8080/",
          "height": 54
        },
        "outputId": "c8947bc7-28e7-4c5c-e55d-cb51aa1da028"
      },
      "source": [
        "'''import random\n",
        "\n",
        "# layers dimension & array\n",
        "input_train = X_train.T\n",
        "train_num = 1422\n",
        "test_num = 610\n",
        "input_size = 1500\n",
        "hidden1_dim = 30\n",
        "output_dim = 1\n",
        "\n",
        "hidden_layer1 = np.empty((hidden1_dim), dtype=float)\n",
        "output_layer = np.empty((output_dim), dtype=float)\n",
        "\n",
        "\n",
        "# parameters initialization\n",
        "weight_u = np.empty((input_size * hidden1_dim), dtype=float)\n",
        "weight_v = np.empty((hidden1_dim * output_dim), dtype=float)\n",
        "\n",
        "for i in range(input_size * hidden1_dim):\n",
        "  weight_u[i] = random.random() * 0.1\n",
        "\n",
        "for i in range(hidden1_dim * output_dim):\n",
        "  weight_v[i] = random.random() * 0.1\n",
        "\n",
        "weight_u = weight_u.reshape(input_size, hidden1_dim)\n",
        "weight_v = weight_v.reshape(hidden1_dim, output_dim)\n",
        "\n",
        "\n",
        "# backpropagation derivates initialization \n",
        "uBack = np.empty((input_size, hidden1_dim), dtype=float)\n",
        "vBack = np.empty((hidden1_dim, output_dim), dtype=float)\n",
        "\n",
        "\n",
        "# differential values \n",
        "uDiff = np.empty((input_size, hidden1_dim), dtype=float)\n",
        "vDiff = np.empty((hidden1_dim, output_dim), dtype=float)\n",
        "\n",
        "\n",
        "# loss J \n",
        "J = 0\n",
        "\n",
        "\n",
        "# for cycle\n",
        "c = 0\n",
        "cycle = 1000\n",
        "learning_late = 0.01\n",
        "lamda = 0.5\n",
        "# n = (size_col * size_row * hidden1_dim) + (hidden1_dim * hidden2_dim) + (hidden2_dim * output_dim)\n",
        "\n",
        "# for plot\n",
        "JArray = []\n",
        "CycleArray = []\n",
        "\n",
        "\n",
        "'''\n",
        "'''\n",
        "gradient descent start\n",
        "'''\n",
        "'''\n",
        "\n",
        "for c in range(500):\n",
        "  # forward propagation\n",
        "  hidden_layer1 = np.dot(X_train, weight_u)\n",
        "  hidden_layer1 = sigmoid(hidden_layer1)\n",
        "  output_layer = np.dot(hidden_layer1, weight_v)\n",
        "  output_layer = sigmoid(output_layer)\n",
        "\n",
        "  output_layer = output_layer.reshape(train_num)\n",
        "  J = np.sum((y_train * np.log(output_layer)) - (1 - y_train) * np.log(1 - output_layer))\n",
        "        \n",
        "  J = J/1422 + regularization(weight_u,weight_v)\n",
        "  JArray.append(J)\n",
        "  if c % 50 == 0:\n",
        "      print(J)\n",
        "\n",
        "  # output_layer = output_layer.reshape(hidden_dim,output_dim)\n",
        "\n",
        "  for i in range(30):\n",
        "    vDiff[i,j] = np.sum((-y_train + output_layer) * hidden_layer1[:,i]) / 30\n",
        "    vBack[i,j] = np.sum((-y_train + output_layer)) / 30\n",
        "\n",
        "  weight_v = weight_v - learning_late * vDiff\n",
        "  # weight_u = weight_u - learning_late * uDiff\n",
        "\n",
        "  CycleArray.append(c)\n",
        "'''"
      ],
      "execution_count": 402,
      "outputs": [
        {
          "output_type": "execute_result",
          "data": {
            "text/plain": [
              "'\\n\\nfor c in range(500):\\n  # forward propagation\\n  hidden_layer1 = np.dot(X_train, weight_u)\\n  hidden_layer1 = sigmoid(hidden_layer1)\\n  output_layer = np.dot(hidden_layer1, weight_v)\\n  output_layer = sigmoid(output_layer)\\n\\n  output_layer = output_layer.reshape(train_num)\\n  J = np.sum((y_train * np.log(output_layer)) - (1 - y_train) * np.log(1 - output_layer))\\n        \\n  J = J/1422 + regularization(weight_u,weight_v)\\n  JArray.append(J)\\n  if c % 50 == 0:\\n      print(J)\\n\\n  # output_layer = output_layer.reshape(hidden_dim,output_dim)\\n\\n  for i in range(30):\\n    vDiff[i,j] = np.sum((-y_train + output_layer) * hidden_layer1[:,i]) / 30\\n    vBack[i,j] = np.sum((-y_train + output_layer)) / 30\\n\\n  weight_v = weight_v - learning_late * vDiff\\n  # weight_u = weight_u - learning_late * uDiff\\n\\n  CycleArray.append(c)\\n'"
            ]
          },
          "metadata": {
            "tags": []
          },
          "execution_count": 402
        }
      ]
    }
  ]
}