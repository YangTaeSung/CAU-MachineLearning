{
  "nbformat": 4,
  "nbformat_minor": 0,
  "metadata": {
    "colab": {
      "name": "assignment07.ipynb",
      "provenance": [],
      "collapsed_sections": [],
      "authorship_tag": "ABX9TyOa5Ir5FthC5WttLJZX1OMv",
      "include_colab_link": true
    },
    "kernelspec": {
      "name": "python3",
      "display_name": "Python 3"
    }
  },
  "cells": [
    {
      "cell_type": "markdown",
      "metadata": {
        "id": "view-in-github",
        "colab_type": "text"
      },
      "source": [
        "<a href=\"https://colab.research.google.com/github/YangTaeSung/CAU-MachineLearning/blob/master/assignment07.ipynb\" target=\"_parent\"><img src=\"https://colab.research.google.com/assets/colab-badge.svg\" alt=\"Open In Colab\"/></a>"
      ]
    },
    {
      "cell_type": "code",
      "metadata": {
        "id": "HlfN_cHUTXdy",
        "colab_type": "code",
        "outputId": "8c32952b-a29f-4be9-8131-605257e9bd08",
        "colab": {
          "base_uri": "https://localhost:8080/",
          "height": 486
        }
      },
      "source": [
        "import numpy as np\n",
        "import matplotlib.pyplot as plt\n",
        "import pandas as pd\n",
        "from scipy.optimize import fmin_tnc\n",
        "import matplotlib.pyplot as pp\n",
        "%matplotlib inline\n",
        "\n",
        "def load_data(path, header):\n",
        "    marks_df = pd.read_csv(path, header=header, names = ['feature1', 'feature2', 'faulty'])\n",
        "    return marks_df\n",
        "\n",
        "# load the data from the file\n",
        "load_data = load_data(\"data-nonlinear.txt\", None)\n",
        "    \n",
        "data = load_data[:100] # 100번 인덱스까지 training data\n",
        "testing_data = load_data.iloc[100:118, 0:3] # 나머지 testing data\n",
        "\n",
        "print(len(data))\n",
        "print(len(testing_data))\n",
        "\n",
        "# xy = feature values, all the columns except the last column\n",
        "xy = data.iloc[:, :-1]\n",
        "\n",
        "# label = target values, last column of the data frame\n",
        "label = data.iloc[:, -1]\n",
        "\n",
        "# filter out the applicants that got admitted\n",
        "admitted = data.loc[label == 1]\n",
        "\n",
        "# filter out the applicants that din't get admission\n",
        "not_admitted = data.loc[label == 0]\n",
        "\n",
        "# plots\n",
        "plt.scatter(admitted.iloc[:, 0], admitted.iloc[:, 1], c = 'red', s=10, label='Admitted')\n",
        "plt.scatter(not_admitted.iloc[:, 0], not_admitted.iloc[:, 1],c = 'blue', s=10, label='Not Admitted')\n",
        "plt.legend()\n",
        "plt.show()\n",
        "    \n",
        "load_data.head()\n",
        "    "
      ],
      "execution_count": 518,
      "outputs": [
        {
          "output_type": "stream",
          "text": [
            "100\n",
            "18\n"
          ],
          "name": "stdout"
        },
        {
          "output_type": "display_data",
          "data": {
            "image/png": "[encoded data removed]",
            "text/plain": [
              "<Figure size 432x288 with 1 Axes>"
            ]
          },
          "metadata": {
            "tags": [],
            "needs_background": "light"
          }
        },
        {
          "output_type": "execute_result",
          "data": {
            "text/html": [
              "<div>\n",
              "<style scoped>\n",
              "    .dataframe tbody tr th:only-of-type {\n",
              "        vertical-align: middle;\n",
              "    }\n",
              "\n",
              "    .dataframe tbody tr th {\n",
              "        vertical-align: top;\n",
              "    }\n",
              "\n",
              "    .dataframe thead th {\n",
              "        text-align: right;\n",
              "    }\n",
              "</style>\n",
              "<table border=\"1\" class=\"dataframe\">\n",
              "  <thead>\n",
              "    <tr style=\"text-align: right;\">\n",
              "      <th></th>\n",
              "      <th>feature1</th>\n",
              "      <th>feature2</th>\n",
              "      <th>faulty</th>\n",
              "    </tr>\n",
              "  </thead>\n",
              "  <tbody>\n",
              "    <tr>\n",
              "      <th>0</th>\n",
              "      <td>0.051267</td>\n",
              "      <td>0.69956</td>\n",
              "      <td>1</td>\n",
              "    </tr>\n",
              "    <tr>\n",
              "      <th>1</th>\n",
              "      <td>-0.092742</td>\n",
              "      <td>0.68494</td>\n",
              "      <td>1</td>\n",
              "    </tr>\n",
              "    <tr>\n",
              "      <th>2</th>\n",
              "      <td>-0.213710</td>\n",
              "      <td>0.69225</td>\n",
              "      <td>1</td>\n",
              "    </tr>\n",
              "    <tr>\n",
              "      <th>3</th>\n",
              "      <td>-0.375000</td>\n",
              "      <td>0.50219</td>\n",
              "      <td>1</td>\n",
              "    </tr>\n",
              "    <tr>\n",
              "      <th>4</th>\n",
              "      <td>-0.513250</td>\n",
              "      <td>0.46564</td>\n",
              "      <td>1</td>\n",
              "    </tr>\n",
              "  </tbody>\n",
              "</table>\n",
              "</div>"
            ],
            "text/plain": [
              "   feature1  feature2  faulty\n",
              "0  0.051267   0.69956       1\n",
              "1 -0.092742   0.68494       1\n",
              "2 -0.213710   0.69225       1\n",
              "3 -0.375000   0.50219       1\n",
              "4 -0.513250   0.46564       1"
            ]
          },
          "metadata": {
            "tags": []
          },
          "execution_count": 518
        }
      ]
    },
    {
      "cell_type": "code",
      "metadata": {
        "id": "yHfkMYXURtfZ",
        "colab_type": "code",
        "colab": {
          "base_uri": "https://localhost:8080/",
          "height": 204
        },
        "outputId": "1056fe47-8e16-4e3f-aedf-ad8349345f71"
      },
      "source": [
        "# get the features\n",
        "X = data.iloc[:, :2]\n",
        "X.head()"
      ],
      "execution_count": 519,
      "outputs": [
        {
          "output_type": "execute_result",
          "data": {
            "text/html": [
              "<div>\n",
              "<style scoped>\n",
              "    .dataframe tbody tr th:only-of-type {\n",
              "        vertical-align: middle;\n",
              "    }\n",
              "\n",
              "    .dataframe tbody tr th {\n",
              "        vertical-align: top;\n",
              "    }\n",
              "\n",
              "    .dataframe thead th {\n",
              "        text-align: right;\n",
              "    }\n",
              "</style>\n",
              "<table border=\"1\" class=\"dataframe\">\n",
              "  <thead>\n",
              "    <tr style=\"text-align: right;\">\n",
              "      <th></th>\n",
              "      <th>feature1</th>\n",
              "      <th>feature2</th>\n",
              "    </tr>\n",
              "  </thead>\n",
              "  <tbody>\n",
              "    <tr>\n",
              "      <th>0</th>\n",
              "      <td>0.051267</td>\n",
              "      <td>0.69956</td>\n",
              "    </tr>\n",
              "    <tr>\n",
              "      <th>1</th>\n",
              "      <td>-0.092742</td>\n",
              "      <td>0.68494</td>\n",
              "    </tr>\n",
              "    <tr>\n",
              "      <th>2</th>\n",
              "      <td>-0.213710</td>\n",
              "      <td>0.69225</td>\n",
              "    </tr>\n",
              "    <tr>\n",
              "      <th>3</th>\n",
              "      <td>-0.375000</td>\n",
              "      <td>0.50219</td>\n",
              "    </tr>\n",
              "    <tr>\n",
              "      <th>4</th>\n",
              "      <td>-0.513250</td>\n",
              "      <td>0.46564</td>\n",
              "    </tr>\n",
              "  </tbody>\n",
              "</table>\n",
              "</div>"
            ],
            "text/plain": [
              "   feature1  feature2\n",
              "0  0.051267   0.69956\n",
              "1 -0.092742   0.68494\n",
              "2 -0.213710   0.69225\n",
              "3 -0.375000   0.50219\n",
              "4 -0.513250   0.46564"
            ]
          },
          "metadata": {
            "tags": []
          },
          "execution_count": 519
        }
      ]
    },
    {
      "cell_type": "code",
      "metadata": {
        "id": "GKIR2e_sK_Sr",
        "colab_type": "code",
        "colab": {}
      },
      "source": [
        "# define function to map higher order polynomial features\n",
        "def mapFeature(X1, X2, degree):\n",
        "    res = np.ones(X1.shape[0])\n",
        "    for i in range(1,degree + 1):\n",
        "        for j in range(0,i + 1):\n",
        "            res = np.column_stack((res, (X1 ** (i-j)) * (X2 ** j)))\n",
        "    \n",
        "    return res\n"
      ],
      "execution_count": 0,
      "outputs": []
    },
    {
      "cell_type": "code",
      "metadata": {
        "id": "cqISVz78R2hk",
        "colab_type": "code",
        "colab": {}
      },
      "source": [
        "degree = 6"
      ],
      "execution_count": 0,
      "outputs": []
    },
    {
      "cell_type": "code",
      "metadata": {
        "id": "iJeXC-MDR3Gf",
        "colab_type": "code",
        "colab": {}
      },
      "source": [
        "X_poly = mapFeature(X.iloc[:, 0], X.iloc[:, 1], degree)"
      ],
      "execution_count": 0,
      "outputs": []
    },
    {
      "cell_type": "code",
      "metadata": {
        "id": "TMH3MPRGR57w",
        "colab_type": "code",
        "colab": {}
      },
      "source": [
        "y = data.iloc[:, 2] # label"
      ],
      "execution_count": 0,
      "outputs": []
    },
    {
      "cell_type": "code",
      "metadata": {
        "id": "pFTUZ8HBNXTM",
        "colab_type": "code",
        "colab": {}
      },
      "source": [
        "def sigmoid(z):\n",
        "    # 0과 1 사이의 모든 실제 값을 매핑하는 데 사용되는 활성화 함수 (sigmoid)\n",
        "    return 1 / (1 + np.exp(-z))\n",
        "\n",
        "def costFunc(theta, X, y):\n",
        "    m = y.shape[0]\n",
        "    z = X.dot(theta)\n",
        "    h = sigmoid(z)\n",
        "    term1 = y * np.log(h)\n",
        "    term2 = (1- y) * np.log(1 - h)\n",
        "    J = -np.sum(term1 + term2, axis = 0) / m\n",
        "    return J \n"
      ],
      "execution_count": 0,
      "outputs": []
    },
    {
      "cell_type": "code",
      "metadata": {
        "id": "K96PQ3B-Taet",
        "colab_type": "code",
        "colab": {}
      },
      "source": [
        "# Set initial values for our parameters\n",
        "initial_theta = np.zeros(X_poly.shape[1]).reshape(X_poly.shape[1], 1)"
      ],
      "execution_count": 0,
      "outputs": []
    },
    {
      "cell_type": "code",
      "metadata": {
        "id": "8d4SjcfcTpx0",
        "colab_type": "code",
        "colab": {
          "base_uri": "https://localhost:8080/",
          "height": 51
        },
        "outputId": "e03c4138-a670-4422-fb04-88857414bbce"
      },
      "source": [
        "# call the optimization routine\n",
        "from scipy.optimize import minimize\n",
        "res = minimize(costFunc, initial_theta, args=(X_poly, y))"
      ],
      "execution_count": 526,
      "outputs": [
        {
          "output_type": "stream",
          "text": [
            "/usr/local/lib/python3.6/dist-packages/ipykernel_launcher.py:10: RuntimeWarning: divide by zero encountered in log\n",
            "  # Remove the CWD from sys.path while we load stuff.\n"
          ],
          "name": "stderr"
        }
      ]
    },
    {
      "cell_type": "code",
      "metadata": {
        "id": "GmVV-rRgT9RL",
        "colab_type": "code",
        "colab": {}
      },
      "source": [
        "# our optimizated coefficients\n",
        "theta = res.x"
      ],
      "execution_count": 0,
      "outputs": []
    },
    {
      "cell_type": "code",
      "metadata": {
        "id": "cmnpSrO9GjJc",
        "colab_type": "code",
        "colab": {}
      },
      "source": [
        "def plotDecisionBoundary(theta,degree, axes):\n",
        "    u = np.linspace(-1, 1.5, 50)\n",
        "    v = np.linspace(-1, 1.5, 50)\n",
        "    U,V = np.meshgrid(u,v)\n",
        "    # convert U, V to vectors for calculating additional features\n",
        "    # using vectorized implementation\n",
        "    U = np.ravel(U)\n",
        "    V = np.ravel(V)\n",
        "    Z = np.zeros((len(u) * len(v)))\n",
        "    \n",
        "    X_poly = mapFeature(U, V, degree)\n",
        "    Z = X_poly.dot(theta)\n",
        "    \n",
        "    # reshape U, V, Z back to matrix\n",
        "    U = U.reshape((len(u), len(v)))\n",
        "    V = V.reshape((len(u), len(v)))\n",
        "    Z = Z.reshape((len(u), len(v)))\n",
        "    \n",
        "    cs = axes.contour(U,V,Z,levels=[0],cmap= \"Greys_r\")\n",
        "    axes.legend(labels=['good', 'faulty', 'Decision Boundary'])\n",
        "    return cs"
      ],
      "execution_count": 0,
      "outputs": []
    },
    {
      "cell_type": "code",
      "metadata": {
        "id": "BLJgf4rUUDvY",
        "colab_type": "code",
        "colab": {
          "base_uri": "https://localhost:8080/",
          "height": 300
        },
        "outputId": "67e573de-0102-4b87-e917-588203920fb4"
      },
      "source": [
        "# Plot Decision boundary\n",
        "fig, axes = pp.subplots();\n",
        "axes.set_xlabel('Feature 1')\n",
        "axes.set_ylabel('Feature 2')\n",
        "plt.scatter(admitted.iloc[:, 0], admitted.iloc[:, 1], s=10, label='Admitted')\n",
        "plt.scatter(not_admitted.iloc[:, 0], not_admitted.iloc[:, 1], s=10, label='Not Admitted')\n",
        "#axes.legend(title='Legend', loc = 'best' )\n",
        "\n",
        "plotDecisionBoundary(theta, degree, axes)"
      ],
      "execution_count": 529,
      "outputs": [
        {
          "output_type": "execute_result",
          "data": {
            "text/plain": [
              "<matplotlib.contour.QuadContourSet at 0x7fa7bf802cc0>"
            ]
          },
          "metadata": {
            "tags": []
          },
          "execution_count": 529
        },
        {
          "output_type": "display_data",
          "data": {
            "image/png": "[encoded data removed]",
            "text/plain": [
              "<Figure size 432x288 with 1 Axes>"
            ]
          },
          "metadata": {
            "tags": [],
            "needs_background": "light"
          }
        }
      ]
    },
    {
      "cell_type": "code",
      "metadata": {
        "id": "s955i6QWG2Sg",
        "colab_type": "code",
        "colab": {}
      },
      "source": [
        "# define the regularized cost function\n",
        "jForPlot1 = []\n",
        "jForPlot2 = []\n",
        "jForPlot3 = []\n",
        "\n",
        "iForPlot1 = []\n",
        "iForPlot2 = []\n",
        "iForPlot3 = []\n",
        "\n",
        "def costFuncReg(theta, X, y, reg_factor):\n",
        "    i = 1\n",
        "    m = y.shape[0]\n",
        "    z = X.dot(theta)\n",
        "    h = sigmoid(z)\n",
        "    term1 = y * np.log(h)\n",
        "    term2 = (1- y) * np.log(1 - h)\n",
        "    J = -np.sum(term1 + term2, axis = 0) / m\n",
        "    \n",
        "    # Regularization Term\n",
        "    reg_term = (reg_factor * sum(theta[1:] ** 2)) / (2 * m)\n",
        "    J = J + reg_term\n",
        "\n",
        "    if reg_factor == 10:\n",
        "      jForPlot1.append(J)\n",
        "    elif reg_factor == 1:\n",
        "      jForPlot2.append(J)\n",
        "    elif reg_factor == 0.01:\n",
        "      jForPlot3.append(J)\n",
        "\n",
        "    return J  "
      ],
      "execution_count": 0,
      "outputs": []
    },
    {
      "cell_type": "code",
      "metadata": {
        "id": "AGphhj0dHukf",
        "colab_type": "code",
        "colab": {}
      },
      "source": [
        "# Set the lamda for overfitting\n",
        "reg_factor = 10\n",
        "under_lamda = reg_factor"
      ],
      "execution_count": 0,
      "outputs": []
    },
    {
      "cell_type": "code",
      "metadata": {
        "id": "txu0GYi9IBuK",
        "colab_type": "code",
        "colab": {}
      },
      "source": [
        "degree = 6\n",
        "X_poly = mapFeature(X.iloc[:, 0], X.iloc[:, 1], degree)\n",
        "\n",
        "# Set initial values for our parameters\n",
        "initial_theta = np.zeros(X_poly.shape[1]).reshape(X_poly.shape[1], 1)"
      ],
      "execution_count": 0,
      "outputs": []
    },
    {
      "cell_type": "code",
      "metadata": {
        "id": "mNjLeXakIEWd",
        "colab_type": "code",
        "colab": {
          "base_uri": "https://localhost:8080/",
          "height": 300
        },
        "outputId": "159431de-df9d-4a5d-f7b6-a1eeb22f2f4a"
      },
      "source": [
        "# Run the optimzation function with regularization factor passed to the cost function\n",
        "res = minimize(costFuncReg, initial_theta, args=(X_poly, y, reg_factor))\n",
        "theta = res.x.reshape(res.x.shape[0], 1)\n",
        "\n",
        "for i in range(len(jForPlot1)):\n",
        "  iForPlot1.append(i+1)\n",
        "\n",
        "# Plot Decision boundary\n",
        "fig, axes = pp.subplots();\n",
        "axes.set_xlabel('Feature 1')\n",
        "axes.set_ylabel('Feature 2')\n",
        "plt.scatter(admitted.iloc[:, 0], admitted.iloc[:, 1], s=10, label='Admitted')\n",
        "plt.scatter(not_admitted.iloc[:, 0], not_admitted.iloc[:, 1], s=10, label='Not Admitted')\n",
        "#axes.legend(title='Legend', loc = 'best' )\n",
        "\n",
        "plotDecisionBoundary(theta, degree, axes)"
      ],
      "execution_count": 533,
      "outputs": [
        {
          "output_type": "execute_result",
          "data": {
            "text/plain": [
              "<matplotlib.contour.QuadContourSet at 0x7fa7bfa5ae80>"
            ]
          },
          "metadata": {
            "tags": []
          },
          "execution_count": 533
        },
        {
          "output_type": "display_data",
          "data": {
            "image/png": "[encoded data removed]",
            "text/plain": [
              "<Figure size 432x288 with 1 Axes>"
            ]
          },
          "metadata": {
            "tags": [],
            "needs_background": "light"
          }
        }
      ]
    },
    {
      "cell_type": "code",
      "metadata": {
        "id": "3bloyJBsaOOg",
        "colab_type": "code",
        "colab": {}
      },
      "source": [
        "# Set the lamda for overfitting\n",
        "reg_factor = 1\n",
        "right_lamda = reg_factor"
      ],
      "execution_count": 0,
      "outputs": []
    },
    {
      "cell_type": "code",
      "metadata": {
        "id": "F-1itvrbZ8IS",
        "colab_type": "code",
        "colab": {}
      },
      "source": [
        "degree = 6\n",
        "X_poly = mapFeature(X.iloc[:, 0], X.iloc[:, 1], degree)\n",
        "\n",
        "# Set initial values for our parameters\n",
        "initial_theta = np.zeros(X_poly.shape[1]).reshape(X_poly.shape[1], 1)"
      ],
      "execution_count": 0,
      "outputs": []
    },
    {
      "cell_type": "code",
      "metadata": {
        "id": "-bOIzA3PZ_AS",
        "colab_type": "code",
        "colab": {
          "base_uri": "https://localhost:8080/",
          "height": 300
        },
        "outputId": "35bddc6d-2d2f-4b42-8bc3-08ba60fc8d7a"
      },
      "source": [
        "# Run the optimzation function with regularization factor passed to the cost function\n",
        "res = minimize(costFuncReg, initial_theta, args=(X_poly, y, reg_factor))\n",
        "theta = res.x.reshape(res.x.shape[0], 1)\n",
        "\n",
        "for i in range(len(jForPlot2)):\n",
        "  iForPlot2.append(i+1)\n",
        "\n",
        "# Plot Decision boundary\n",
        "fig, axes = pp.subplots();\n",
        "axes.set_xlabel('Feature 1')\n",
        "axes.set_ylabel('Feature 2')\n",
        "plt.scatter(admitted.iloc[:, 0], admitted.iloc[:, 1], s=10, label='Admitted')\n",
        "plt.scatter(not_admitted.iloc[:, 0], not_admitted.iloc[:, 1], s=10, label='Not Admitted')\n",
        "#axes.legend(title='Legend', loc = 'best' )\n",
        "\n",
        "plotDecisionBoundary(theta, degree, axes)"
      ],
      "execution_count": 536,
      "outputs": [
        {
          "output_type": "execute_result",
          "data": {
            "text/plain": [
              "<matplotlib.contour.QuadContourSet at 0x7fa7bf790f28>"
            ]
          },
          "metadata": {
            "tags": []
          },
          "execution_count": 536
        },
        {
          "output_type": "display_data",
          "data": {
            "image/png": "[encoded data removed]",
            "text/plain": [
              "<Figure size 432x288 with 1 Axes>"
            ]
          },
          "metadata": {
            "tags": [],
            "needs_background": "light"
          }
        }
      ]
    },
    {
      "cell_type": "code",
      "metadata": {
        "id": "Mzpx9iJZaUsw",
        "colab_type": "code",
        "colab": {}
      },
      "source": [
        "# Set the lamda for underfitting\n",
        "reg_factor = 0.01\n",
        "over_lamda = reg_factor"
      ],
      "execution_count": 0,
      "outputs": []
    },
    {
      "cell_type": "code",
      "metadata": {
        "id": "r3GfnRJZaBcF",
        "colab_type": "code",
        "colab": {}
      },
      "source": [
        "degree = 6\n",
        "X_poly = mapFeature(X.iloc[:, 0], X.iloc[:, 1], degree)\n",
        "\n",
        "# Set initial values for our parameters\n",
        "initial_theta = np.zeros(X_poly.shape[1]).reshape(X_poly.shape[1], 1)"
      ],
      "execution_count": 0,
      "outputs": []
    },
    {
      "cell_type": "code",
      "metadata": {
        "id": "QPfyJiY1aDdr",
        "colab_type": "code",
        "colab": {
          "base_uri": "https://localhost:8080/",
          "height": 300
        },
        "outputId": "62d12a59-6fae-4126-b1dd-40016649e766"
      },
      "source": [
        "# Run the optimzation function with regularization factor passed to the cost function\n",
        "res = minimize(costFuncReg, initial_theta, args=(X_poly, y, reg_factor))\n",
        "theta = res.x.reshape(res.x.shape[0], 1)\n",
        "\n",
        "for i in range(len(jForPlot3)):\n",
        "  iForPlot3.append(i+1)\n",
        "\n",
        "# Plot Decision boundary\n",
        "fig, axes = pp.subplots();\n",
        "axes.set_xlabel('Feature 1')\n",
        "axes.set_ylabel('Feature 2')\n",
        "plt.scatter(admitted.iloc[:, 0], admitted.iloc[:, 1], s=10, label='Admitted')\n",
        "plt.scatter(not_admitted.iloc[:, 0], not_admitted.iloc[:, 1], s=10, label='Not Admitted')\n",
        "#axes.legend(title='Legend', loc = 'best' )\n",
        "\n",
        "plotDecisionBoundary(theta, degree, axes)"
      ],
      "execution_count": 539,
      "outputs": [
        {
          "output_type": "execute_result",
          "data": {
            "text/plain": [
              "<matplotlib.contour.QuadContourSet at 0x7fa7bf6a4fd0>"
            ]
          },
          "metadata": {
            "tags": []
          },
          "execution_count": 539
        },
        {
          "output_type": "display_data",
          "data": {
            "image/png": "[encoded data removed]",
            "text/plain": [
              "<Figure size 432x288 with 1 Axes>"
            ]
          },
          "metadata": {
            "tags": [],
            "needs_background": "light"
          }
        }
      ]
    },
    {
      "cell_type": "markdown",
      "metadata": {
        "id": "aSbewgEydWkp",
        "colab_type": "text"
      },
      "source": [
        "# 1. Plot the training data"
      ]
    },
    {
      "cell_type": "code",
      "metadata": {
        "id": "UFRMgfOvdg1F",
        "colab_type": "code",
        "colab": {
          "base_uri": "https://localhost:8080/",
          "height": 265
        },
        "outputId": "bfa0000f-7e50-450a-bdf0-ed72b43a6bd4"
      },
      "source": [
        "plt.scatter(admitted.iloc[:, 0], admitted.iloc[:, 1], c = 'red', s=10, label='Admitted')\n",
        "plt.scatter(not_admitted.iloc[:, 0], not_admitted.iloc[:, 1],c = 'blue', s=10, label='Not Admitted')\n",
        "plt.legend()\n",
        "plt.show()"
      ],
      "execution_count": 540,
      "outputs": [
        {
          "output_type": "display_data",
          "data": {
            "image/png": "[encoded data removed]",
            "text/plain": [
              "<Figure size 432x288 with 1 Axes>"
            ]
          },
          "metadata": {
            "tags": [],
            "needs_background": "light"
          }
        }
      ]
    },
    {
      "cell_type": "markdown",
      "metadata": {
        "id": "rnu6qPy4dS7L",
        "colab_type": "text"
      },
      "source": [
        "# 2.Plot the training error with varying regularization parameters"
      ]
    },
    {
      "cell_type": "code",
      "metadata": {
        "id": "XHtYt9aHTcad",
        "colab_type": "code",
        "colab": {
          "base_uri": "https://localhost:8080/",
          "height": 497
        },
        "outputId": "24924b85-6246-42b6-e47a-d80ac6e99474"
      },
      "source": [
        "plt.figure(figsize=(8, 8)) # 그래프 사이즈 조절\n",
        "plt.xlabel('CYCLE')\n",
        "plt.ylabel('LOSS')\n",
        "plt.plot(iForPlot1, jForPlot1, c = 'blue', alpha = 0.5)\n",
        "plt.plot(iForPlot2, jForPlot2, c = 'green', alpha = 0.5)\n",
        "plt.plot(iForPlot3, jForPlot3, c = 'red', alpha = 0.5)\n",
        "plt.show()"
      ],
      "execution_count": 541,
      "outputs": [
        {
          "output_type": "display_data",
          "data": {
            "image/png": "[encoded data removed]",
            "text/plain": [
              "<Figure size 576x576 with 1 Axes>"
            ]
          },
          "metadata": {
            "tags": [],
            "needs_background": "light"
          }
        }
      ]
    },
    {
      "cell_type": "markdown",
      "metadata": {
        "id": "wls8O7kfeDwg",
        "colab_type": "text"
      },
      "source": [
        "# 3. Display the values of the chosen regularization parameters"
      ]
    },
    {
      "cell_type": "code",
      "metadata": {
        "id": "GzFq23L6eHoq",
        "colab_type": "code",
        "colab": {
          "base_uri": "https://localhost:8080/",
          "height": 119
        },
        "outputId": "33727bbd-96c8-497f-8d96-6b302f5ecc5a"
      },
      "source": [
        "print('\\033[31m' + 'Overfitting lamda ')\n",
        "print(over_lamda )\n",
        "print('\\033[92m' + 'Just-right lamda ')\n",
        "print(right_lamda )\n",
        "print('\\033[34m' + 'Underfitting lamda ')\n",
        "print(under_lamda )"
      ],
      "execution_count": 547,
      "outputs": [
        {
          "output_type": "stream",
          "text": [
            "\u001b[31mOverfitting lamda \n",
            "0.01\n",
            "\u001b[92mJust-right lamda \n",
            "1\n",
            "\u001b[34mUnderfitting lamda \n",
            "10\n"
          ],
          "name": "stdout"
        }
      ]
    },
    {
      "cell_type": "markdown",
      "metadata": {
        "id": "gBJaEJQefeYs",
        "colab_type": "text"
      },
      "source": [
        "# 4. Plot the training accuracy with varying regularization parameters"
      ]
    },
    {
      "cell_type": "markdown",
      "metadata": {
        "id": "KZaf9e0afsLX",
        "colab_type": "text"
      },
      "source": [
        "# 5. Display the final training accuracy with varying regularization parameters"
      ]
    },
    {
      "cell_type": "markdown",
      "metadata": {
        "id": "7OhA19QVfvb0",
        "colab_type": "text"
      },
      "source": [
        "# 6. Plot the optimal classifier with varying regularization parameters superimposed on the training data"
      ]
    },
    {
      "cell_type": "code",
      "metadata": {
        "id": "kEvE3olCfzj3",
        "colab_type": "code",
        "colab": {}
      },
      "source": [
        ""
      ],
      "execution_count": 0,
      "outputs": []
    }
  ]
}