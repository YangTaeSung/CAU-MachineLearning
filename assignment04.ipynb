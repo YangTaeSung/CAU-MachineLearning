{
  "nbformat": 4,
  "nbformat_minor": 0,
  "metadata": {
    "colab": {
      "name": "assignment04.ipynb",
      "provenance": [],
      "authorship_tag": "ABX9TyM6U6Zh2d8x1x4l7O2+ES/D",
      "include_colab_link": true
    },
    "kernelspec": {
      "name": "python3",
      "display_name": "Python 3"
    }
  },
  "cells": [
    {
      "cell_type": "markdown",
      "metadata": {
        "id": "view-in-github",
        "colab_type": "text"
      },
      "source": [
        "<a href=\"https://colab.research.google.com/github/YangTaeSung/CAU-MachineLearning/blob/master/assignment04.ipynb\" target=\"_parent\"><img src=\"https://colab.research.google.com/assets/colab-badge.svg\" alt=\"Open In Colab\"/></a>"
      ]
    },
    {
      "cell_type": "code",
      "metadata": {
        "id": "19Z8KzziW_cy",
        "colab_type": "code",
        "colab": {}
      },
      "source": [
        "from mpl_toolkits.mplot3d import Axes3D\n",
        "from matplotlib import cm\n",
        "from matplotlib.ticker import MaxNLocator\n",
        "import matplotlib.pyplot as plt\n",
        "import numpy as np"
      ],
      "execution_count": 0,
      "outputs": []
    },
    {
      "cell_type": "code",
      "metadata": {
        "id": "iTsnQhliscl1",
        "colab_type": "code",
        "outputId": "af55a229-b5ee-45ac-aa68-255abba2be98",
        "colab": {
          "base_uri": "https://localhost:8080/",
          "height": 54
        }
      },
      "source": [
        "\"\"\"\n",
        "import csv\n",
        "\n",
        "with open('data_train.csv', newline='') as myfile:\n",
        "    reader  = csv.reader(myfile, delimiter=',')\n",
        "    ct = 1 \n",
        "    for i in reader:\n",
        "        # print('data_train[', ct, ']', 'x =', i[0], ', y = ', i[1], ', z = ', i[2], ', h = ', i[3])\n",
        "        ct += 1\n",
        "\n",
        "with open('data_test.csv', newline='') as myfile:\n",
        "    reader  = csv.reader(myfile, delimiter=',')\n",
        "    ct = 1 \n",
        "    for i in reader:\n",
        "        # print('data_test[', ct, ']', 'x =', i[0], ', y = ', i[1], ', z = ', i[2], ', h = ', i[3])\n",
        "        ct += 1\n",
        "\"\"\""
      ],
      "execution_count": 51,
      "outputs": [
        {
          "output_type": "execute_result",
          "data": {
            "text/plain": [
              "\"\\nimport csv\\n\\nwith open('data_train.csv', newline='') as myfile:\\n    reader  = csv.reader(myfile, delimiter=',')\\n    ct = 1 \\n    for i in reader:\\n        # print('data_train[', ct, ']', 'x =', i[0], ', y = ', i[1], ', z = ', i[2], ', h = ', i[3])\\n        ct += 1\\n\\nwith open('data_test.csv', newline='') as myfile:\\n    reader  = csv.reader(myfile, delimiter=',')\\n    ct = 1 \\n    for i in reader:\\n        # print('data_test[', ct, ']', 'x =', i[0], ', y = ', i[1], ', z = ', i[2], ', h = ', i[3])\\n        ct += 1\\n\""
            ]
          },
          "metadata": {
            "tags": []
          },
          "execution_count": 51
        }
      ]
    },
    {
      "cell_type": "code",
      "metadata": {
        "id": "xYaTECVqGuq0",
        "colab_type": "code",
        "colab": {
          "base_uri": "https://localhost:8080/",
          "height": 204
        },
        "outputId": "090b508c-2e72-462d-c92f-d640450c14b5"
      },
      "source": [
        "import pandas as pd\n",
        "df = pd.read_csv(\"data_test.csv\", names = ['A', 'B', 'C', 'D'])\n",
        "df.head()"
      ],
      "execution_count": 52,
      "outputs": [
        {
          "output_type": "execute_result",
          "data": {
            "text/html": [
              "<div>\n",
              "<style scoped>\n",
              "    .dataframe tbody tr th:only-of-type {\n",
              "        vertical-align: middle;\n",
              "    }\n",
              "\n",
              "    .dataframe tbody tr th {\n",
              "        vertical-align: top;\n",
              "    }\n",
              "\n",
              "    .dataframe thead th {\n",
              "        text-align: right;\n",
              "    }\n",
              "</style>\n",
              "<table border=\"1\" class=\"dataframe\">\n",
              "  <thead>\n",
              "    <tr style=\"text-align: right;\">\n",
              "      <th></th>\n",
              "      <th>A</th>\n",
              "      <th>B</th>\n",
              "      <th>C</th>\n",
              "      <th>D</th>\n",
              "    </tr>\n",
              "  </thead>\n",
              "  <tbody>\n",
              "    <tr>\n",
              "      <th>0</th>\n",
              "      <td>-1.788894</td>\n",
              "      <td>-2.717927</td>\n",
              "      <td>-4.425695</td>\n",
              "      <td>-14.055818</td>\n",
              "    </tr>\n",
              "    <tr>\n",
              "      <th>1</th>\n",
              "      <td>2.958174</td>\n",
              "      <td>4.515505</td>\n",
              "      <td>6.644435</td>\n",
              "      <td>20.504905</td>\n",
              "    </tr>\n",
              "    <tr>\n",
              "      <th>2</th>\n",
              "      <td>-0.569490</td>\n",
              "      <td>10.096246</td>\n",
              "      <td>-13.270292</td>\n",
              "      <td>-73.843148</td>\n",
              "    </tr>\n",
              "    <tr>\n",
              "      <th>3</th>\n",
              "      <td>4.279318</td>\n",
              "      <td>2.747878</td>\n",
              "      <td>-5.857125</td>\n",
              "      <td>-24.644937</td>\n",
              "    </tr>\n",
              "    <tr>\n",
              "      <th>4</th>\n",
              "      <td>0.125975</td>\n",
              "      <td>-4.349421</td>\n",
              "      <td>5.777460</td>\n",
              "      <td>31.934657</td>\n",
              "    </tr>\n",
              "  </tbody>\n",
              "</table>\n",
              "</div>"
            ],
            "text/plain": [
              "          A          B          C          D\n",
              "0 -1.788894  -2.717927  -4.425695 -14.055818\n",
              "1  2.958174   4.515505   6.644435  20.504905\n",
              "2 -0.569490  10.096246 -13.270292 -73.843148\n",
              "3  4.279318   2.747878  -5.857125 -24.644937\n",
              "4  0.125975  -4.349421   5.777460  31.934657"
            ]
          },
          "metadata": {
            "tags": []
          },
          "execution_count": 52
        }
      ]
    },
    {
      "cell_type": "code",
      "metadata": {
        "id": "VfGPKbewE9R4",
        "colab_type": "code",
        "colab": {
          "base_uri": "https://localhost:8080/",
          "height": 513
        },
        "outputId": "f1fe67bd-07f8-4565-fa1d-f55e873b45f6"
      },
      "source": [
        "X = df[\"A\"]\n",
        "y = df[\"B\"]\n",
        "\n",
        "plt.figure(figsize=(8, 8)) # 그래프 사이즈 조절\n",
        "plt.title('Linear function')\n",
        "plt.xlabel('X AXIS')\n",
        "plt.ylabel('Y AXIS')\n",
        "plt.plot(X, y, 'o', c = 'black', alpha = 0.5)\n",
        "plt.show()"
      ],
      "execution_count": 53,
      "outputs": [
        {
          "output_type": "display_data",
          "data": {
            "image/png": "[encoded data removed]",
            "text/plain": [
              "<Figure size 576x576 with 1 Axes>"
            ]
          },
          "metadata": {
            "tags": [],
            "needs_background": "light"
          }
        }
      ]
    }
  ]
}