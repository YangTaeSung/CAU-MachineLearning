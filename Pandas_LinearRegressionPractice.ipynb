{
  "nbformat": 4,
  "nbformat_minor": 0,
  "metadata": {
    "colab": {
      "name": "Pandas_LinearRegressionPractice.ipynb",
      "provenance": [],
      "collapsed_sections": [],
      "authorship_tag": "ABX9TyO8vSARqyL1pp7ZeNcxOJWa",
      "include_colab_link": true
    },
    "kernelspec": {
      "name": "python3",
      "display_name": "Python 3"
    }
  },
  "cells": [
    {
      "cell_type": "markdown",
      "metadata": {
        "id": "view-in-github",
        "colab_type": "text"
      },
      "source": [
        "<a href=\"https://colab.research.google.com/github/YangTaeSung/CAU-MachineLearning/blob/master/Pandas_LinearRegressionPractice.ipynb\" target=\"_parent\"><img src=\"https://colab.research.google.com/assets/colab-badge.svg\" alt=\"Open In Colab\"/></a>"
      ]
    },
    {
      "cell_type": "code",
      "metadata": {
        "id": "19Z8KzziW_cy",
        "colab_type": "code",
        "colab": {}
      },
      "source": [
        "from sklearn import linear_model\n",
        "import numpy as np\n",
        "import pandas as pd\n",
        "import matplotlib\n",
        "import matplotlib.pyplot as plt\n",
        "%matplotlib inline\n",
        "matplotlib.style.use('ggplot')"
      ],
      "execution_count": 0,
      "outputs": []
    },
    {
      "cell_type": "code",
      "metadata": {
        "id": "xYaTECVqGuq0",
        "colab_type": "code",
        "outputId": "a6eafd80-460f-45d2-89d5-d863c6248cee",
        "colab": {
          "base_uri": "https://localhost:8080/",
          "height": 204
        }
      },
      "source": [
        "import pandas as pd\n",
        "df = pd.read_csv(\"data_train.csv\", names = ['A', 'B', 'C', 'D'])\n",
        "df.head()"
      ],
      "execution_count": 0,
      "outputs": [
        {
          "output_type": "execute_result",
          "data": {
            "text/html": [
              "<div>\n",
              "<style scoped>\n",
              "    .dataframe tbody tr th:only-of-type {\n",
              "        vertical-align: middle;\n",
              "    }\n",
              "\n",
              "    .dataframe tbody tr th {\n",
              "        vertical-align: top;\n",
              "    }\n",
              "\n",
              "    .dataframe thead th {\n",
              "        text-align: right;\n",
              "    }\n",
              "</style>\n",
              "<table border=\"1\" class=\"dataframe\">\n",
              "  <thead>\n",
              "    <tr style=\"text-align: right;\">\n",
              "      <th></th>\n",
              "      <th>A</th>\n",
              "      <th>B</th>\n",
              "      <th>C</th>\n",
              "      <th>D</th>\n",
              "    </tr>\n",
              "  </thead>\n",
              "  <tbody>\n",
              "    <tr>\n",
              "      <th>0</th>\n",
              "      <td>0.273548</td>\n",
              "      <td>-8.932102</td>\n",
              "      <td>18.708684</td>\n",
              "      <td>73.578825</td>\n",
              "    </tr>\n",
              "    <tr>\n",
              "      <th>1</th>\n",
              "      <td>5.403327</td>\n",
              "      <td>4.782977</td>\n",
              "      <td>-18.762210</td>\n",
              "      <td>-56.410433</td>\n",
              "    </tr>\n",
              "    <tr>\n",
              "      <th>2</th>\n",
              "      <td>0.029941</td>\n",
              "      <td>-3.245916</td>\n",
              "      <td>6.932498</td>\n",
              "      <td>52.390768</td>\n",
              "    </tr>\n",
              "    <tr>\n",
              "      <th>3</th>\n",
              "      <td>3.047974</td>\n",
              "      <td>0.715211</td>\n",
              "      <td>-1.965419</td>\n",
              "      <td>-6.936295</td>\n",
              "    </tr>\n",
              "    <tr>\n",
              "      <th>4</th>\n",
              "      <td>1.302074</td>\n",
              "      <td>-5.871807</td>\n",
              "      <td>-15.702181</td>\n",
              "      <td>-34.997017</td>\n",
              "    </tr>\n",
              "  </tbody>\n",
              "</table>\n",
              "</div>"
            ],
            "text/plain": [
              "          A         B          C          D\n",
              "0  0.273548 -8.932102  18.708684  73.578825\n",
              "1  5.403327  4.782977 -18.762210 -56.410433\n",
              "2  0.029941 -3.245916   6.932498  52.390768\n",
              "3  3.047974  0.715211  -1.965419  -6.936295\n",
              "4  1.302074 -5.871807 -15.702181 -34.997017"
            ]
          },
          "metadata": {
            "tags": []
          },
          "execution_count": 278
        }
      ]
    },
    {
      "cell_type": "code",
      "metadata": {
        "id": "VfGPKbewE9R4",
        "colab_type": "code",
        "outputId": "ebd3549e-6ce7-4a05-d0e0-dd7c528ca536",
        "colab": {
          "base_uri": "https://localhost:8080/",
          "height": 51
        }
      },
      "source": [
        "X = df[['A','B','C']]\n",
        "h = df['D']\n",
        "\n",
        "# 앞의 단일 선형회귀모델 실습에서 보신 내용과 동일한 코드를 이용하여 학습을 진행한다.\n",
        "# 하나의 a값과 두 개의 b값이 출력된다. b값은 독립변수 개수만큼 생성되기 때문이다.\n",
        "linear_regression = linear_model.LinearRegression()\n",
        "linear_regression.fit(X = pd.DataFrame(X), y = y)\n",
        "prediction = linear_regression.predict(X = pd.DataFrame(X))\n",
        "print('a value = ', linear_regression.intercept_)\n",
        "print('b value = ', linear_regression.coef_)"
      ],
      "execution_count": 0,
      "outputs": [
        {
          "output_type": "stream",
          "text": [
            "a value =  1.1368683772161603e-13\n",
            "b value =  [-3.67308642e-16  1.00000000e+00  4.44089210e-16]\n"
          ],
          "name": "stdout"
        }
      ]
    },
    {
      "cell_type": "code",
      "metadata": {
        "id": "XpFGNYSrjqqS",
        "colab_type": "code",
        "outputId": "7dff6691-17b0-4db1-913f-5cd98214e870",
        "colab": {
          "base_uri": "https://localhost:8080/",
          "height": 34
        }
      },
      "source": [
        "from sklearn.linear_model import LinearRegression\n",
        "mlr = LinearRegression()\n",
        "mlr.fit(X, h) "
      ],
      "execution_count": 0,
      "outputs": [
        {
          "output_type": "execute_result",
          "data": {
            "text/plain": [
              "LinearRegression(copy_X=True, fit_intercept=True, n_jobs=None, normalize=False)"
            ]
          },
          "metadata": {
            "tags": []
          },
          "execution_count": 280
        }
      ]
    },
    {
      "cell_type": "code",
      "metadata": {
        "id": "EqSoOVZdj1d3",
        "colab_type": "code",
        "colab": {}
      },
      "source": [
        "my_data = [[3,3,3]]\n",
        "my_predict = mlr.predict(my_data)"
      ],
      "execution_count": 0,
      "outputs": []
    },
    {
      "cell_type": "code",
      "metadata": {
        "id": "FbDovUT0kCwD",
        "colab_type": "code",
        "colab": {}
      },
      "source": [
        "df2 = pd.read_csv(\"data_test.csv\", names = ['Aa', 'Bb', 'Cc', 'Dd'])\n",
        "df2.head()\n",
        "\n",
        "XX = df2[['Aa','Bb','Cc']]\n",
        "hh = df2['Dd']\n",
        "\n",
        "y_predicted = mlr.predict(XX)"
      ],
      "execution_count": 0,
      "outputs": []
    },
    {
      "cell_type": "code",
      "metadata": {
        "id": "UIWidwwGkHwl",
        "colab_type": "code",
        "outputId": "746db84f-bd3d-42db-8597-8a5a5bdffc26",
        "colab": {
          "base_uri": "https://localhost:8080/",
          "height": 299
        }
      },
      "source": [
        "\n",
        "plt.scatter(y, y_predicted, alpha=0.4)\n",
        "plt.xlabel(\"Actual value\")\n",
        "plt.ylabel(\"Predicted value\")\n",
        "plt.title(\"MULTIPLE LINEAR REGRESSION\")\n",
        "plt.show()"
      ],
      "execution_count": 0,
      "outputs": [
        {
          "output_type": "display_data",
          "data": {
            "image/png": "[encoded data removed]",
            "text/plain": [
              "<Figure size 432x288 with 1 Axes>"
            ]
          },
          "metadata": {
            "tags": []
          }
        }
      ]
    }
  ]
}