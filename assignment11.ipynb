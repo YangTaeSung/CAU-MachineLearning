{
  "nbformat": 4,
  "nbformat_minor": 0,
  "metadata": {
    "colab": {
      "name": "assignment11.ipynb",
      "provenance": [],
      "collapsed_sections": [],
      "mount_file_id": "1-hsg_RVKiSi5_qp9WRwoMSPVVyYg7K5E",
      "authorship_tag": "ABX9TyNEiuPPVqyks5BZPR/lz57x",
      "include_colab_link": true
    },
    "kernelspec": {
      "name": "python3",
      "display_name": "Python 3"
    }
  },
  "cells": [
    {
      "cell_type": "markdown",
      "metadata": {
        "id": "view-in-github",
        "colab_type": "text"
      },
      "source": [
        "<a href=\"https://colab.research.google.com/github/YangTaeSung/CAU-MachineLearning/blob/master/assignment11.ipynb\" target=\"_parent\"><img src=\"https://colab.research.google.com/assets/colab-badge.svg\" alt=\"Open In Colab\"/></a>"
      ]
    },
    {
      "cell_type": "code",
      "metadata": {
        "id": "8FqtNXIeoFzS",
        "colab_type": "code",
        "outputId": "aa8677bb-4ccd-4804-abd6-50cf653ddcbb",
        "colab": {
          "base_uri": "https://localhost:8080/",
          "height": 34
        }
      },
      "source": [
        "'''from google.colab import drive\n",
        "drive.mount('content/drive')'''"
      ],
      "execution_count": 251,
      "outputs": [
        {
          "output_type": "execute_result",
          "data": {
            "text/plain": [
              "\"from google.colab import drive\\ndrive.mount('content/drive')\""
            ]
          },
          "metadata": {
            "tags": []
          },
          "execution_count": 251
        }
      ]
    },
    {
      "cell_type": "code",
      "metadata": {
        "id": "ZXs0PXL_XleM",
        "colab_type": "code",
        "outputId": "c06f07cd-386c-4283-c7ff-00769ea28268",
        "colab": {
          "base_uri": "https://localhost:8080/",
          "height": 85
        }
      },
      "source": [
        "import numpy as np\n",
        "import re\n",
        "import nltk\n",
        "from sklearn.datasets import load_files\n",
        "nltk.download('stopwords')\n",
        "nltk.download('wordnet')\n",
        "import pickle\n",
        "from nltk.corpus import stopwords\n",
        "from nltk.stem import WordNetLemmatizer\n",
        "from sklearn.feature_extraction.text import CountVectorizer\n",
        "from sklearn.feature_extraction.text import TfidfTransformer\n",
        "from sklearn.model_selection import train_test_split\n",
        "from tensorflow.keras.callbacks import ModelCheckpoint, EarlyStopping\n",
        "import os\n",
        "\n",
        "\n",
        "review_data = load_files(r\"/content/drive/My Drive/movie_review\")\n",
        "X, y = review_data.data, review_data.target\n",
        "\n",
        "documents = []\n",
        "\n",
        "stemmer = WordNetLemmatizer()\n",
        "\n",
        "for sen in range(0, len(X)):\n",
        "    # Remove all the special characters\n",
        "    document = re.sub(r'\\W', ' ', str(X[sen]))\n",
        "    \n",
        "    # remove all single characters\n",
        "    document = re.sub(r'\\s+[a-zA-Z]\\s+', ' ', document)\n",
        "    \n",
        "    # Remove single characters from the start\n",
        "    document = re.sub(r'\\^[a-zA-Z]\\s+', ' ', document) \n",
        "    \n",
        "    # Substituting multiple spaces with single space\n",
        "    document = re.sub(r'\\s+', ' ', document, flags=re.I)\n",
        "    \n",
        "    # Removing prefixed 'b'\n",
        "    document = re.sub(r'^b\\s+', '', document)\n",
        "    \n",
        "    # Converting to Lowercase\n",
        "    document = document.lower()\n",
        "    \n",
        "    # Lemmatization\n",
        "    document = document.split()\n",
        "    document = [stemmer.lemmatize(word) for word in document]\n",
        "    document = ' '.join(document)\n",
        "    \n",
        "    documents.append(document)\n",
        "\n",
        "vectorizer = CountVectorizer(max_features=1500, min_df=5, max_df=0.7, stop_words=stopwords.words('english'))\n",
        "X = vectorizer.fit_transform(documents).toarray()\n",
        "\n",
        "tfidfconverter = TfidfTransformer()\n",
        "X = tfidfconverter.fit_transform(X).toarray()\n",
        "\n",
        "X_train, X_test, y_train, y_test = train_test_split(X, y, test_size=0.3, shuffle=False)"
      ],
      "execution_count": 252,
      "outputs": [
        {
          "output_type": "stream",
          "text": [
            "[nltk_data] Downloading package stopwords to /root/nltk_data...\n",
            "[nltk_data]   Package stopwords is already up-to-date!\n",
            "[nltk_data] Downloading package wordnet to /root/nltk_data...\n",
            "[nltk_data]   Package wordnet is already up-to-date!\n"
          ],
          "name": "stdout"
        }
      ]
    },
    {
      "cell_type": "code",
      "metadata": {
        "id": "eHA8lwMXxc_y",
        "colab_type": "code",
        "outputId": "1c3567e7-176a-4670-8997-c5650d2766e3",
        "colab": {
          "base_uri": "https://localhost:8080/",
          "height": 34
        }
      },
      "source": [
        "# print(X_train)\n",
        "# print(y_train)\n",
        "print(X_test[1,:])\n",
        "# print(y_test)\n",
        "# print(len(y_test))\n",
        "# print(len(y_train))"
      ],
      "execution_count": 253,
      "outputs": [
        {
          "output_type": "stream",
          "text": [
            "[0.         0.         0.09645829 ... 0.         0.         0.        ]\n"
          ],
          "name": "stdout"
        }
      ]
    },
    {
      "cell_type": "code",
      "metadata": {
        "id": "aC8mQkwOe_Vw",
        "colab_type": "code",
        "colab": {
          "base_uri": "https://localhost:8080/",
          "height": 34
        },
        "outputId": "e9a3c6f0-3fd6-4c8c-e267-c59322fe992b"
      },
      "source": [
        "from __future__ import absolute_import, division, print_function, unicode_literals, unicode_literals\n",
        "\n",
        "# tensorflow와 tf.keras를 임포트합니다\n",
        "import tensorflow as tf\n",
        "from tensorflow import keras\n",
        "\n",
        "# 헬퍼(helper) 라이브러리를 임포트합니다\n",
        "import numpy as np\n",
        "import matplotlib.pyplot as plt\n",
        "\n",
        "print(tf.__version__)"
      ],
      "execution_count": 254,
      "outputs": [
        {
          "output_type": "stream",
          "text": [
            "2.2.0\n"
          ],
          "name": "stdout"
        }
      ]
    },
    {
      "cell_type": "code",
      "metadata": {
        "id": "BWYbmQ2hC8mC",
        "colab_type": "code",
        "colab": {}
      },
      "source": [
        "MODEL_SAVE_FOLDER_PATH = './model/'\n",
        "\n",
        "if not os.path.exists(MODEL_SAVE_FOLDER_PATH):\n",
        "  os.mkdir(MODEL_SAVE_FOLDER_PATH)\n",
        "\n",
        "model_path = MODEL_SAVE_FOLDER_PATH + '{epoch:02d}-{val_loss:.4f}.hdf5'\n",
        "\n",
        "cb_checkpoint = ModelCheckpoint(filepath=model_path, monitor='val_loss', verbose=1, save_best_only=True)\n",
        "\n",
        "cb_early_stopping = EarlyStopping(monitor='val_loss', patience=10)"
      ],
      "execution_count": 0,
      "outputs": []
    },
    {
      "cell_type": "code",
      "metadata": {
        "id": "erb67G7t1f36",
        "colab_type": "code",
        "colab": {}
      },
      "source": [
        "model = keras.Sequential([\n",
        "    keras.layers.Dense(128, activation='sigmoid'),\n",
        "    keras.layers.Dense(10, activation='sigmoid')\n",
        "])"
      ],
      "execution_count": 0,
      "outputs": []
    },
    {
      "cell_type": "code",
      "metadata": {
        "id": "vQSFu3sJ1o_Y",
        "colab_type": "code",
        "colab": {}
      },
      "source": [
        "model.compile(optimizer='adam',\n",
        "              loss='sparse_categorical_crossentropy',\n",
        "              metrics=['accuracy'])"
      ],
      "execution_count": 0,
      "outputs": []
    },
    {
      "cell_type": "code",
      "metadata": {
        "id": "mpi1kigo1q0q",
        "colab_type": "code",
        "colab": {
          "base_uri": "https://localhost:8080/",
          "height": 1000
        },
        "outputId": "5030fd7a-7c60-4060-c6b0-a0ff7b6b2aee"
      },
      "source": [
        "history = model.fit(X_train, y_train, validation_data=(X_test, y_test),\n",
        "          epochs=35, batch_size=200, verbose=0,\n",
        "          callbacks=[cb_checkpoint, cb_early_stopping])\n"
      ],
      "execution_count": 258,
      "outputs": [
        {
          "output_type": "stream",
          "text": [
            "\n",
            "Epoch 00001: val_loss improved from inf to 2.06693, saving model to ./model/01-2.0669.hdf5\n",
            "\n",
            "Epoch 00002: val_loss improved from 2.06693 to 1.70021, saving model to ./model/02-1.7002.hdf5\n",
            "\n",
            "Epoch 00003: val_loss improved from 1.70021 to 1.39897, saving model to ./model/03-1.3990.hdf5\n",
            "\n",
            "Epoch 00004: val_loss improved from 1.39897 to 1.15846, saving model to ./model/04-1.1585.hdf5\n",
            "\n",
            "Epoch 00005: val_loss improved from 1.15846 to 0.98686, saving model to ./model/05-0.9869.hdf5\n",
            "\n",
            "Epoch 00006: val_loss improved from 0.98686 to 0.87978, saving model to ./model/06-0.8798.hdf5\n",
            "\n",
            "Epoch 00007: val_loss improved from 0.87978 to 0.81776, saving model to ./model/07-0.8178.hdf5\n",
            "\n",
            "Epoch 00008: val_loss improved from 0.81776 to 0.78188, saving model to ./model/08-0.7819.hdf5\n",
            "\n",
            "Epoch 00009: val_loss improved from 0.78188 to 0.76022, saving model to ./model/09-0.7602.hdf5\n",
            "\n",
            "Epoch 00010: val_loss improved from 0.76022 to 0.74633, saving model to ./model/10-0.7463.hdf5\n",
            "\n",
            "Epoch 00011: val_loss improved from 0.74633 to 0.73684, saving model to ./model/11-0.7368.hdf5\n",
            "\n",
            "Epoch 00012: val_loss improved from 0.73684 to 0.73000, saving model to ./model/12-0.7300.hdf5\n",
            "\n",
            "Epoch 00013: val_loss improved from 0.73000 to 0.72484, saving model to ./model/13-0.7248.hdf5\n",
            "\n",
            "Epoch 00014: val_loss improved from 0.72484 to 0.72081, saving model to ./model/14-0.7208.hdf5\n",
            "\n",
            "Epoch 00015: val_loss improved from 0.72081 to 0.71752, saving model to ./model/15-0.7175.hdf5\n",
            "\n",
            "Epoch 00016: val_loss improved from 0.71752 to 0.71480, saving model to ./model/16-0.7148.hdf5\n",
            "\n",
            "Epoch 00017: val_loss improved from 0.71480 to 0.71252, saving model to ./model/17-0.7125.hdf5\n",
            "\n",
            "Epoch 00018: val_loss improved from 0.71252 to 0.71056, saving model to ./model/18-0.7106.hdf5\n",
            "\n",
            "Epoch 00019: val_loss improved from 0.71056 to 0.70887, saving model to ./model/19-0.7089.hdf5\n",
            "\n",
            "Epoch 00020: val_loss improved from 0.70887 to 0.70738, saving model to ./model/20-0.7074.hdf5\n",
            "\n",
            "Epoch 00021: val_loss improved from 0.70738 to 0.70606, saving model to ./model/21-0.7061.hdf5\n",
            "\n",
            "Epoch 00022: val_loss improved from 0.70606 to 0.70489, saving model to ./model/22-0.7049.hdf5\n",
            "\n",
            "Epoch 00023: val_loss improved from 0.70489 to 0.70382, saving model to ./model/23-0.7038.hdf5\n",
            "\n",
            "Epoch 00024: val_loss improved from 0.70382 to 0.70283, saving model to ./model/24-0.7028.hdf5\n",
            "\n",
            "Epoch 00025: val_loss improved from 0.70283 to 0.70191, saving model to ./model/25-0.7019.hdf5\n",
            "\n",
            "Epoch 00026: val_loss improved from 0.70191 to 0.70106, saving model to ./model/26-0.7011.hdf5\n",
            "\n",
            "Epoch 00027: val_loss improved from 0.70106 to 0.70022, saving model to ./model/27-0.7002.hdf5\n",
            "\n",
            "Epoch 00028: val_loss improved from 0.70022 to 0.69940, saving model to ./model/28-0.6994.hdf5\n",
            "\n",
            "Epoch 00029: val_loss improved from 0.69940 to 0.69861, saving model to ./model/29-0.6986.hdf5\n",
            "\n",
            "Epoch 00030: val_loss improved from 0.69861 to 0.69784, saving model to ./model/30-0.6978.hdf5\n",
            "\n",
            "Epoch 00031: val_loss improved from 0.69784 to 0.69703, saving model to ./model/31-0.6970.hdf5\n",
            "\n",
            "Epoch 00032: val_loss improved from 0.69703 to 0.69622, saving model to ./model/32-0.6962.hdf5\n",
            "\n",
            "Epoch 00033: val_loss improved from 0.69622 to 0.69538, saving model to ./model/33-0.6954.hdf5\n",
            "\n",
            "Epoch 00034: val_loss improved from 0.69538 to 0.69443, saving model to ./model/34-0.6944.hdf5\n",
            "\n",
            "Epoch 00035: val_loss improved from 0.69443 to 0.69338, saving model to ./model/35-0.6934.hdf5\n"
          ],
          "name": "stdout"
        }
      ]
    },
    {
      "cell_type": "code",
      "metadata": {
        "id": "TmWUUBYM8baz",
        "colab_type": "code",
        "colab": {
          "base_uri": "https://localhost:8080/",
          "height": 548
        },
        "outputId": "42dd06a1-23bb-4219-e849-0f47110cc8b8"
      },
      "source": [
        "print('\\nAccuracy: {:.4f}'.format(model.evaluate(X_test, y_test)[1]))\n",
        "\n",
        "y_vloss = history.history['val_loss']\n",
        "y_loss = history.history['loss']\n",
        "\n",
        "x_len = np.arange(len(y_loss))\n",
        "plt.figure(figsize=(8, 8)) # 그래프 사이즈 조절\n",
        "plt.plot(x_len, y_vloss, marker='.', c='red', label=\"Testing Loss\")\n",
        "plt.plot(x_len, y_loss, marker='.', c='blue', label=\"Training Loss\")\n",
        "\n",
        "plt.legend(loc='upper right')\n",
        "plt.grid()\n",
        "plt.xlabel('epoch')\n",
        "plt.ylabel('loss')\n",
        "plt.show()"
      ],
      "execution_count": 259,
      "outputs": [
        {
          "output_type": "stream",
          "text": [
            "20/20 [==============================] - 0s 2ms/step - loss: 0.6934 - accuracy: 0.5492\n",
            "\n",
            "Accuracy: 0.5492\n"
          ],
          "name": "stdout"
        },
        {
          "output_type": "display_data",
          "data": {
            "image/png": "[encoded data removed]",
            "text/plain": [
              "<Figure size 576x576 with 1 Axes>"
            ]
          },
          "metadata": {
            "tags": [],
            "needs_background": "light"
          }
        }
      ]
    },
    {
      "cell_type": "code",
      "metadata": {
        "id": "G1u4YGTA2Emx",
        "colab_type": "code",
        "colab": {
          "base_uri": "https://localhost:8080/",
          "height": 102
        },
        "outputId": "56009d0b-f421-4c54-a101-4548ea253a6e"
      },
      "source": [
        "test_loss, test_acc = model.evaluate(X_train,  y_train, verbose=2)\n",
        "\n",
        "print('\\n테스트 정확도:', test_acc)\n",
        "print('\\n', test_loss)"
      ],
      "execution_count": 260,
      "outputs": [
        {
          "output_type": "stream",
          "text": [
            "45/45 - 0s - loss: 0.6899 - accuracy: 0.5682\n",
            "\n",
            "테스트 정확도: 0.5682137608528137\n",
            "\n",
            " 0.6899052858352661\n"
          ],
          "name": "stdout"
        }
      ]
    },
    {
      "cell_type": "code",
      "metadata": {
        "id": "YgexqIzwaTqs",
        "colab_type": "code",
        "colab": {
          "base_uri": "https://localhost:8080/",
          "height": 34
        },
        "outputId": "3a6cbeb0-be17-47a2-b26a-dafb203c8a0e"
      },
      "source": [
        "predictions = model.predict(X_test)\n",
        "np.argmax(predictions[0])"
      ],
      "execution_count": 261,
      "outputs": [
        {
          "output_type": "execute_result",
          "data": {
            "text/plain": [
              "1"
            ]
          },
          "metadata": {
            "tags": []
          },
          "execution_count": 261
        }
      ]
    },
    {
      "cell_type": "code",
      "metadata": {
        "id": "Y3bsBfPia2P6",
        "colab_type": "code",
        "colab": {}
      },
      "source": [
        "def plot_image(i, predictions_array, true_label, img):\n",
        "  predictions_array, true_label, img = predictions_array[i], true_label[i], img[i]\n",
        "  plt.grid(False)\n",
        "  plt.xticks([])\n",
        "  plt.yticks([])\n",
        "\n",
        "  plt.imshow(img, cmap=plt.cm.binary)\n",
        "\n",
        "  predicted_label = np.argmax(predictions_array)\n",
        "  if predicted_label == true_label:\n",
        "    color = 'blue'\n",
        "  else:\n",
        "    color = 'red'\n",
        "\n",
        "  plt.xlabel(\"{} {:2.0f}% ({})\".format(class_names[predicted_label],\n",
        "                                100*np.max(predictions_array),\n",
        "                                class_names[true_label]),\n",
        "                                color=color)\n",
        "\n",
        "def plot_value_array(i, predictions_array, true_label):\n",
        "  predictions_array, true_label = predictions_array[i], true_label[i]\n",
        "  plt.grid(False)\n",
        "  plt.xticks([])\n",
        "  plt.yticks([])\n",
        "  thisplot = plt.bar(range(10), predictions_array, color=\"#777777\")\n",
        "  plt.ylim([0, 1])\n",
        "  predicted_label = np.argmax(predictions_array)\n",
        "\n",
        "  thisplot[predicted_label].set_color('red')\n",
        "  thisplot[true_label].set_color('blue')"
      ],
      "execution_count": 0,
      "outputs": []
    },
    {
      "cell_type": "code",
      "metadata": {
        "id": "BYc0-oBE-RUT",
        "colab_type": "code",
        "colab": {}
      },
      "source": [
        "def sigmoid(z):\n",
        "    return 1 / (1 + np.exp(-z))\n",
        "    \n",
        "def regularization(u,v):\n",
        "  u = u.reshape(input_size * hidden1_dim)\n",
        "  v = v.reshape(hidden1_dim * output_dim)\n",
        "\n",
        "  u = np.sum(u*u)\n",
        "  v = np.sum(v*v)\n",
        "\n",
        "  reg = (u + v ) / (2 * ((1500 * hidden1_dim) + (hidden1_dim * output_dim))) * lamda\n",
        "\n",
        "  return reg"
      ],
      "execution_count": 0,
      "outputs": []
    },
    {
      "cell_type": "code",
      "metadata": {
        "id": "RTkpF8SQa8NB",
        "colab_type": "code",
        "colab": {
          "base_uri": "https://localhost:8080/",
          "height": 54
        },
        "outputId": "25dbea7d-3d47-4c4a-cc67-53ac585e893c"
      },
      "source": [
        "'''import random\n",
        "\n",
        "# layers dimension & array\n",
        "input_train = X_train.T\n",
        "train_num = 1422\n",
        "test_num = 610\n",
        "input_size = 1500\n",
        "hidden1_dim = 30\n",
        "output_dim = 1\n",
        "\n",
        "hidden_layer1 = np.empty((hidden1_dim), dtype=float)\n",
        "output_layer = np.empty((output_dim), dtype=float)\n",
        "\n",
        "\n",
        "# parameters initialization\n",
        "weight_u = np.empty((input_size * hidden1_dim), dtype=float)\n",
        "weight_v = np.empty((hidden1_dim * output_dim), dtype=float)\n",
        "\n",
        "for i in range(input_size * hidden1_dim):\n",
        "  weight_u[i] = random.random() * 0.1\n",
        "\n",
        "for i in range(hidden1_dim * output_dim):\n",
        "  weight_v[i] = random.random() * 0.1\n",
        "\n",
        "weight_u = weight_u.reshape(input_size, hidden1_dim)\n",
        "weight_v = weight_v.reshape(hidden1_dim, output_dim)\n",
        "\n",
        "\n",
        "# backpropagation derivates initialization \n",
        "uBack = np.empty((input_size, hidden1_dim), dtype=float)\n",
        "vBack = np.empty((hidden1_dim, output_dim), dtype=float)\n",
        "\n",
        "\n",
        "# differential values \n",
        "uDiff = np.empty((input_size, hidden1_dim), dtype=float)\n",
        "vDiff = np.empty((hidden1_dim, output_dim), dtype=float)\n",
        "\n",
        "\n",
        "# loss J \n",
        "J = 0\n",
        "\n",
        "\n",
        "# for cycle\n",
        "c = 0\n",
        "cycle = 1000\n",
        "learning_late = 0.01\n",
        "lamda = 0.5\n",
        "# n = (size_col * size_row * hidden1_dim) + (hidden1_dim * hidden2_dim) + (hidden2_dim * output_dim)\n",
        "\n",
        "# for plot\n",
        "JArray = []\n",
        "CycleArray = []\n",
        "\n",
        "\n",
        "'''\n",
        "'''\n",
        "gradient descent start\n",
        "'''\n",
        "'''\n",
        "\n",
        "for c in range(500):\n",
        "  # forward propagation\n",
        "  hidden_layer1 = np.dot(X_train, weight_u)\n",
        "  hidden_layer1 = sigmoid(hidden_layer1)\n",
        "  output_layer = np.dot(hidden_layer1, weight_v)\n",
        "  output_layer = sigmoid(output_layer)\n",
        "\n",
        "  output_layer = output_layer.reshape(train_num)\n",
        "  J = np.sum((y_train * np.log(output_layer)) - (1 - y_train) * np.log(1 - output_layer))\n",
        "        \n",
        "  J = J/1422 + regularization(weight_u,weight_v)\n",
        "  JArray.append(J)\n",
        "  if c % 50 == 0:\n",
        "      print(J)\n",
        "\n",
        "  # output_layer = output_layer.reshape(hidden_dim,output_dim)\n",
        "\n",
        "  for i in range(30):\n",
        "    vDiff[i,j] = np.sum((-y_train + output_layer) * hidden_layer1[:,i]) / 30\n",
        "    vBack[i,j] = np.sum((-y_train + output_layer)) / 30\n",
        "\n",
        "  weight_v = weight_v - learning_late * vDiff\n",
        "  # weight_u = weight_u - learning_late * uDiff\n",
        "\n",
        "  CycleArray.append(c)\n",
        "'''"
      ],
      "execution_count": 264,
      "outputs": [
        {
          "output_type": "execute_result",
          "data": {
            "text/plain": [
              "'\\n\\nfor c in range(500):\\n  # forward propagation\\n  hidden_layer1 = np.dot(X_train, weight_u)\\n  hidden_layer1 = sigmoid(hidden_layer1)\\n  output_layer = np.dot(hidden_layer1, weight_v)\\n  output_layer = sigmoid(output_layer)\\n\\n  output_layer = output_layer.reshape(train_num)\\n  J = np.sum((y_train * np.log(output_layer)) - (1 - y_train) * np.log(1 - output_layer))\\n        \\n  J = J/1422 + regularization(weight_u,weight_v)\\n  JArray.append(J)\\n  if c % 50 == 0:\\n      print(J)\\n\\n  # output_layer = output_layer.reshape(hidden_dim,output_dim)\\n\\n  for i in range(30):\\n    vDiff[i,j] = np.sum((-y_train + output_layer) * hidden_layer1[:,i]) / 30\\n    vBack[i,j] = np.sum((-y_train + output_layer)) / 30\\n\\n  weight_v = weight_v - learning_late * vDiff\\n  # weight_u = weight_u - learning_late * uDiff\\n\\n  CycleArray.append(c)\\n'"
            ]
          },
          "metadata": {
            "tags": []
          },
          "execution_count": 264
        }
      ]
    }
  ]
}